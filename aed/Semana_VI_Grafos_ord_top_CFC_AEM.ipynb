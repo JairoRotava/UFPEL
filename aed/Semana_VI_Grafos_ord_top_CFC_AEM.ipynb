{
  "nbformat": 4,
  "nbformat_minor": 0,
  "metadata": {
    "kernelspec": {
      "display_name": "Python 3",
      "language": "python",
      "name": "python3"
    },
    "language_info": {
      "codemirror_mode": {
        "name": "ipython",
        "version": 3
      },
      "file_extension": ".py",
      "mimetype": "text/x-python",
      "name": "python",
      "nbconvert_exporter": "python",
      "pygments_lexer": "ipython3",
      "version": "3.6.9"
    },
    "colab": {
      "name": "Semana VI Grafos - ord top_CFC_AEM.ipynb",
      "provenance": [],
      "include_colab_link": true
    }
  },
  "cells": [
    {
      "cell_type": "markdown",
      "metadata": {
        "id": "view-in-github",
        "colab_type": "text"
      },
      "source": [
        "<a href=\"https://colab.research.google.com/github/JairoRotava/UFPEL/blob/main/aed/Semana_VI_Grafos_ord_top_CFC_AEM.ipynb\" target=\"_parent\"><img src=\"https://colab.research.google.com/assets/colab-badge.svg\" alt=\"Open In Colab\"/></a>"
      ]
    },
    {
      "cell_type": "markdown",
      "metadata": {
        "id": "rLdnqFDvRBGU"
      },
      "source": [
        "# Semana VI - Ordenacao Topologica, CFC e AEM"
      ]
    },
    {
      "cell_type": "code",
      "metadata": {
        "id": "2jNTHY0dRBGi",
        "outputId": "81a36717-f8d1-4ad1-8dd0-f0ec42d6ff97"
      },
      "source": [
        "!pip install graphviz"
      ],
      "execution_count": null,
      "outputs": [
        {
          "output_type": "stream",
          "text": [
            "Requirement already satisfied: graphviz in /home/jairo/opencv-course/lib/python3.6/site-packages (0.16)\n",
            "\u001b[33mWARNING: You are using pip version 20.2.4; however, version 21.1 is available.\n",
            "You should consider upgrading via the '/home/jairo/opencv-course/bin/python3 -m pip install --upgrade pip' command.\u001b[0m\n"
          ],
          "name": "stdout"
        }
      ]
    },
    {
      "cell_type": "markdown",
      "metadata": {
        "id": "5Q8PSDXeRBGo"
      },
      "source": [
        "## Ordenação topologica e componentes fortementes conectados"
      ]
    },
    {
      "cell_type": "code",
      "metadata": {
        "cellView": "form",
        "id": "nKZcK5PiRBGp"
      },
      "source": [
        "#@title Codigo ordenacao topologica e componentes fortemente conectados\n",
        "# Python program to print topological sorting of a DAG\n",
        "#https://www.geeksforgeeks.org/topological-sorting/\n",
        "\n",
        "import graphviz\n",
        "from collections import defaultdict\n",
        "\n",
        "# Class to represent a graph\n",
        "\n",
        "\n",
        "class Graph:\n",
        "    \n",
        "    def __init__(self, nodes=0):\n",
        "        self.graph = defaultdict(list) # dictionary containing adjacency List\n",
        "        self.visited = defaultdict(lambda: False)\n",
        "        self.stack = []\n",
        "        self.V = nodes\n",
        "       \n",
        "    # function to add an edge to graph\n",
        "    def addNode(self, u, v):\n",
        "        self.graph[u] = v\n",
        "        self.V = len(self.graph)\n",
        "        \n",
        "    # Add edge into the graph\n",
        "    def add_edge(self, s, d):\n",
        "        self.graph[s].append(d)\n",
        "\n",
        "    # A recursive function used by topologicalSort\n",
        "    def topologicalSortUtil(self, v):\n",
        "\n",
        "        # Mark the current node as visited.\n",
        "        self.visited[v] = True\n",
        "\n",
        "        # Recur for all the vertices adjacent to this vertex\n",
        "        for i in self.graph[v]:\n",
        "            if self.visited[i] == False:\n",
        "                self.topologicalSortUtil(i)\n",
        "\n",
        "        # Push current vertex to stack which stores result\n",
        "        #print(v)\n",
        "        self.stack.append(v)\n",
        "\n",
        "    # The function to do Topological Sort. It uses recursive\n",
        "    # topologicalSortUtil()\n",
        "    def topologicalSort(self):\n",
        "        # Mark all the vertices as not visited\n",
        "        #visited = [False]*len(self.graph)\n",
        "        self.stack = []\n",
        "\n",
        "        # Call the recursive helper function to store Topological\n",
        "        # Sort starting from all vertices one by one\n",
        "        #for i in range(len(self.graph)):\n",
        "        for i in self.graph:\n",
        "            if self.visited[i] == False:\n",
        "                self.topologicalSortUtil(i)\n",
        "\n",
        "        # Print contents of the stack\n",
        "        return self.stack\n",
        "        \n",
        "    def print_graph(self):\n",
        "       \n",
        "        dot = graphviz.Digraph()\n",
        "            \n",
        "        for key, value in self.graph.items():\n",
        "            dot.node(name=str(key), label=str(key))\n",
        "            for v in value:\n",
        "                dot.edge(str(key),str(v))\n",
        "            \n",
        "        display(dot)\n",
        "        \n",
        "    def bfs(self, s):\n",
        "        G = self.graph\n",
        "        BRANCO = 0\n",
        "        CINZA = 1,\n",
        "        PRETO = 2\n",
        "        cor = {}\n",
        "        d = {},\n",
        "        pred = {}\n",
        "        \n",
        "        for key in G:\n",
        "            cor[key] = BRANCO\n",
        "            d[key] = None\n",
        "            pred[key] = None\n",
        "        \n",
        "        cor[s] = CINZA\n",
        "        d[s] = 0\n",
        "        pred[s] = None\n",
        "        \n",
        "    \n",
        "        Q = collections.deque([s])\n",
        "        while Q:\n",
        "            u = Q.popleft()\n",
        "            for v in G[u]:\n",
        "                if cor[v] == BRANCO:\n",
        "                    cor[v] = CINZA\n",
        "                    d[v] = d[u] + 1\n",
        "                    pred[v] = u\n",
        "                    Q.append(v)\n",
        "                cor[u] = PRETO\n",
        "        return d\n",
        "    \n",
        "    # Algoritmo apresentacao marilton/livro\n",
        "    def dfs(self):\n",
        "        G = self.graph\n",
        "        BRANCO = 0\n",
        "        CINZA = 1\n",
        "        PRETO = 2\n",
        "        cor = {}\n",
        "        d = {}\n",
        "        pred = {}\n",
        "        f = {}\n",
        "        tempo = 0\n",
        "\n",
        "        def dfs_visit(u):\n",
        "            cor[u] = CINZA\n",
        "            nonlocal tempo\n",
        "            tempo = tempo + 1\n",
        "            d[u] = tempo\n",
        "            for v in G[u]:\n",
        "                if cor[v] == BRANCO:\n",
        "                    pred[v] = u\n",
        "                    dfs_visit(v)\n",
        "            cor[u] = PRETO\n",
        "            tempo = tempo + 1\n",
        "            f[u] = tempo\n",
        "\n",
        "\n",
        "        for u in G:\n",
        "            cor[u] = BRANCO\n",
        "            pred[u] = None\n",
        "\n",
        "        for u in G:\n",
        "            if cor[u] == BRANCO:\n",
        "                dfs_visit(u)\n",
        "\n",
        "        return d, f\n",
        "    \n",
        "    # transpose the matrix\n",
        "    def transpose(self):\n",
        "        g = Graph(self.V)\n",
        "\n",
        "        for i in self.graph:\n",
        "            for j in self.graph[i]:\n",
        "                g.add_edge(j, i)\n",
        "        # Checa se nao esta faltando nenhum no\n",
        "        for i in self.graph:\n",
        "            if i not in g.graph:\n",
        "                g.addNode(i,[])\n",
        "                \n",
        "        return g\n",
        "    \n",
        "    # Print stongly connected components\n",
        "    def scc(self):\n",
        "        scc_list = [[]]\n",
        "        # dfs\n",
        "        def dfs(graph, d, visited_vertex):\n",
        "            visited_vertex[d] = True\n",
        "            #print(d, end='')\n",
        "            #nonlocal scc_list\n",
        "            scc_list[-1].append(d)\n",
        "            for i in graph[d]:\n",
        "                if not visited_vertex[i]:\n",
        "                    dfs(graph, i, visited_vertex)\n",
        "\n",
        "        def fill_order(d, visited_vertex, stack):\n",
        "            visited_vertex[d] = True\n",
        "            for i in self.graph[d]:\n",
        "                if not visited_vertex[i]:\n",
        "                    fill_order(i, visited_vertex, stack)\n",
        "            stack = stack.append(d)\n",
        "\n",
        "        # transpose the matrix\n",
        "        def transpose():\n",
        "            g = Graph(self.V)\n",
        "\n",
        "            for i in self.graph:\n",
        "                for j in self.graph[i]:\n",
        "                    g.add_edge(j, i)\n",
        "            return g\n",
        "\n",
        "        stack = []\n",
        "        # visited_vertex = [False] * (self.V)\n",
        "        visited_vertex = defaultdict(lambda: False)\n",
        "\n",
        "        # for i in range(self.V):\n",
        "        for i in self.graph:\n",
        "            if not visited_vertex[i]:\n",
        "                fill_order(i, visited_vertex, stack)\n",
        "\n",
        "        gr = transpose()\n",
        "\n",
        "        # visited_vertex = [False] * (self.V)\n",
        "        visited_vertex = defaultdict(lambda: False)\n",
        "\n",
        "        while stack:\n",
        "            i = stack.pop()\n",
        "            if not visited_vertex[i]:\n",
        "                #gr.dfs(i, visited_vertex)\n",
        "                dfs(gr.graph, i, visited_vertex)\n",
        "                scc_list.append([])\n",
        "                #print(\"\")\n",
        "        scc_list.pop()\n",
        "        return scc_list\n",
        "    "
      ],
      "execution_count": 3,
      "outputs": []
    },
    {
      "cell_type": "markdown",
      "metadata": {
        "id": "gLf5xR72RBGt"
      },
      "source": [
        "## Exemplo S256"
      ]
    },
    {
      "cell_type": "code",
      "metadata": {
        "colab": {
          "base_uri": "https://localhost:8080/",
          "height": 576
        },
        "id": "R4O9XLM6RBGu",
        "outputId": "c0724f6a-124e-461f-efde-d20e8c44d166"
      },
      "source": [
        "# Driver Code\n",
        "g = Graph()\n",
        "g.addNode('camisa', ['gravata', 'cinto'])\n",
        "g.addNode('gravata', ['paleto'])\n",
        "g.addNode('cinto', ['paleto'])\n",
        "g.addNode('paleto', [])\n",
        "g.addNode('relogio', [])\n",
        "g.addNode('cueca', ['calca', 'sapatos'])\n",
        "g.addNode('calca', ['cinto', 'sapatos'])\n",
        "g.addNode('sapatos', [])\n",
        "g.addNode('meias', ['sapatos'])\n",
        "\n",
        "g.print_graph()\n",
        "\n",
        "\n",
        "print(\"DFS\")\n",
        "d, f = g.dfs()\n",
        "for key in g.graph:\n",
        "    print(\"{}: {}/{}\".format(key, d[key], f[key]))\n",
        "\n",
        "\n",
        "print (\"Ordem topologica\")\n",
        "stack = g.topologicalSort()\n",
        "# Imprime topologia fazendo POP da stack (mesmo que ordem revesa da lista)\n",
        "while stack:\n",
        "    print(stack.pop(), end = \" \")"
      ],
      "execution_count": 4,
      "outputs": [
        {
          "output_type": "display_data",
          "data": {
            "text/plain": [
              "<graphviz.dot.Digraph at 0x7f8b3e444d90>"
            ],
            "image/svg+xml": "<?xml version=\"1.0\" encoding=\"UTF-8\" standalone=\"no\"?>\n<!DOCTYPE svg PUBLIC \"-//W3C//DTD SVG 1.1//EN\"\n \"http://www.w3.org/Graphics/SVG/1.1/DTD/svg11.dtd\">\n<!-- Generated by graphviz version 2.40.1 (20161225.0304)\n -->\n<!-- Title: %3 Pages: 1 -->\n<svg width=\"296pt\" height=\"260pt\"\n viewBox=\"0.00 0.00 295.74 260.00\" xmlns=\"http://www.w3.org/2000/svg\" xmlns:xlink=\"http://www.w3.org/1999/xlink\">\n<g id=\"graph0\" class=\"graph\" transform=\"scale(1 1) rotate(0) translate(4 256)\">\n<title>%3</title>\n<polygon fill=\"#ffffff\" stroke=\"transparent\" points=\"-4,4 -4,-256 291.7434,-256 291.7434,4 -4,4\"/>\n<!-- camisa -->\n<g id=\"node1\" class=\"node\">\n<title>camisa</title>\n<ellipse fill=\"none\" stroke=\"#000000\" cx=\"53.6967\" cy=\"-162\" rx=\"35.9954\" ry=\"18\"/>\n<text text-anchor=\"middle\" x=\"53.6967\" y=\"-158.3\" font-family=\"Times,serif\" font-size=\"14.00\" fill=\"#000000\">camisa</text>\n</g>\n<!-- gravata -->\n<g id=\"node2\" class=\"node\">\n<title>gravata</title>\n<ellipse fill=\"none\" stroke=\"#000000\" cx=\"37.6967\" cy=\"-90\" rx=\"37.8943\" ry=\"18\"/>\n<text text-anchor=\"middle\" x=\"37.6967\" y=\"-86.3\" font-family=\"Times,serif\" font-size=\"14.00\" fill=\"#000000\">gravata</text>\n</g>\n<!-- camisa&#45;&gt;gravata -->\n<g id=\"edge1\" class=\"edge\">\n<title>camisa&#45;&gt;gravata</title>\n<path fill=\"none\" stroke=\"#000000\" d=\"M49.6592,-143.8314C47.9026,-135.9266 45.8049,-126.4872 43.8603,-117.7365\"/>\n<polygon fill=\"#000000\" stroke=\"#000000\" points=\"47.2635,-116.916 41.6774,-107.9134 40.4301,-118.4346 47.2635,-116.916\"/>\n</g>\n<!-- cinto -->\n<g id=\"node3\" class=\"node\">\n<title>cinto</title>\n<ellipse fill=\"none\" stroke=\"#000000\" cx=\"122.6967\" cy=\"-90\" rx=\"29.4969\" ry=\"18\"/>\n<text text-anchor=\"middle\" x=\"122.6967\" y=\"-86.3\" font-family=\"Times,serif\" font-size=\"14.00\" fill=\"#000000\">cinto</text>\n</g>\n<!-- camisa&#45;&gt;cinto -->\n<g id=\"edge2\" class=\"edge\">\n<title>camisa&#45;&gt;cinto</title>\n<path fill=\"none\" stroke=\"#000000\" d=\"M69.3538,-145.6621C78.5686,-136.0467 90.3703,-123.7318 100.5292,-113.1312\"/>\n<polygon fill=\"#000000\" stroke=\"#000000\" points=\"103.1835,-115.42 107.5756,-105.7784 98.1296,-110.5767 103.1835,-115.42\"/>\n</g>\n<!-- paleto -->\n<g id=\"node4\" class=\"node\">\n<title>paleto</title>\n<ellipse fill=\"none\" stroke=\"#000000\" cx=\"79.6967\" cy=\"-18\" rx=\"33.2948\" ry=\"18\"/>\n<text text-anchor=\"middle\" x=\"79.6967\" y=\"-14.3\" font-family=\"Times,serif\" font-size=\"14.00\" fill=\"#000000\">paleto</text>\n</g>\n<!-- gravata&#45;&gt;paleto -->\n<g id=\"edge3\" class=\"edge\">\n<title>gravata&#45;&gt;paleto</title>\n<path fill=\"none\" stroke=\"#000000\" d=\"M47.8637,-72.5708C52.8679,-63.9922 59.0022,-53.4762 64.5456,-43.9732\"/>\n<polygon fill=\"#000000\" stroke=\"#000000\" points=\"67.6077,-45.6701 69.6233,-35.2687 61.5613,-42.1429 67.6077,-45.6701\"/>\n</g>\n<!-- cinto&#45;&gt;paleto -->\n<g id=\"edge4\" class=\"edge\">\n<title>cinto&#45;&gt;paleto</title>\n<path fill=\"none\" stroke=\"#000000\" d=\"M112.5063,-72.937C107.3871,-64.3654 101.0721,-53.7914 95.3538,-44.2165\"/>\n<polygon fill=\"#000000\" stroke=\"#000000\" points=\"98.245,-42.2315 90.1126,-35.4407 92.2352,-45.8207 98.245,-42.2315\"/>\n</g>\n<!-- relogio -->\n<g id=\"node5\" class=\"node\">\n<title>relogio</title>\n<ellipse fill=\"none\" stroke=\"#000000\" cx=\"250.6967\" cy=\"-234\" rx=\"37.0935\" ry=\"18\"/>\n<text text-anchor=\"middle\" x=\"250.6967\" y=\"-230.3\" font-family=\"Times,serif\" font-size=\"14.00\" fill=\"#000000\">relogio</text>\n</g>\n<!-- cueca -->\n<g id=\"node6\" class=\"node\">\n<title>cueca</title>\n<ellipse fill=\"none\" stroke=\"#000000\" cx=\"164.6967\" cy=\"-234\" rx=\"31.3957\" ry=\"18\"/>\n<text text-anchor=\"middle\" x=\"164.6967\" y=\"-230.3\" font-family=\"Times,serif\" font-size=\"14.00\" fill=\"#000000\">cueca</text>\n</g>\n<!-- calca -->\n<g id=\"node7\" class=\"node\">\n<title>calca</title>\n<ellipse fill=\"none\" stroke=\"#000000\" cx=\"136.6967\" cy=\"-162\" rx=\"28.6953\" ry=\"18\"/>\n<text text-anchor=\"middle\" x=\"136.6967\" y=\"-158.3\" font-family=\"Times,serif\" font-size=\"14.00\" fill=\"#000000\">calca</text>\n</g>\n<!-- cueca&#45;&gt;calca -->\n<g id=\"edge5\" class=\"edge\">\n<title>cueca&#45;&gt;calca</title>\n<path fill=\"none\" stroke=\"#000000\" d=\"M157.7753,-216.2022C154.588,-208.0064 150.7365,-198.1024 147.2023,-189.0145\"/>\n<polygon fill=\"#000000\" stroke=\"#000000\" points=\"150.4249,-187.6445 143.5384,-179.593 143.9009,-190.1817 150.4249,-187.6445\"/>\n</g>\n<!-- sapatos -->\n<g id=\"node8\" class=\"node\">\n<title>sapatos</title>\n<ellipse fill=\"none\" stroke=\"#000000\" cx=\"207.6967\" cy=\"-90\" rx=\"37.8943\" ry=\"18\"/>\n<text text-anchor=\"middle\" x=\"207.6967\" y=\"-86.3\" font-family=\"Times,serif\" font-size=\"14.00\" fill=\"#000000\">sapatos</text>\n</g>\n<!-- cueca&#45;&gt;sapatos -->\n<g id=\"edge6\" class=\"edge\">\n<title>cueca&#45;&gt;sapatos</title>\n<path fill=\"none\" stroke=\"#000000\" d=\"M170.0557,-216.0535C177.3944,-191.4774 190.6457,-147.1008 199.3064,-118.0974\"/>\n<polygon fill=\"#000000\" stroke=\"#000000\" points=\"202.7624,-118.7561 202.2701,-108.1727 196.0551,-116.7532 202.7624,-118.7561\"/>\n</g>\n<!-- calca&#45;&gt;cinto -->\n<g id=\"edge7\" class=\"edge\">\n<title>calca&#45;&gt;cinto</title>\n<path fill=\"none\" stroke=\"#000000\" d=\"M133.1639,-143.8314C131.6268,-135.9266 129.7914,-126.4872 128.0899,-117.7365\"/>\n<polygon fill=\"#000000\" stroke=\"#000000\" points=\"131.5243,-117.0615 126.1798,-107.9134 124.6529,-118.3976 131.5243,-117.0615\"/>\n</g>\n<!-- calca&#45;&gt;sapatos -->\n<g id=\"edge8\" class=\"edge\">\n<title>calca&#45;&gt;sapatos</title>\n<path fill=\"none\" stroke=\"#000000\" d=\"M152.1026,-146.3771C161.5799,-136.7663 173.9061,-124.2664 184.5431,-113.4797\"/>\n<polygon fill=\"#000000\" stroke=\"#000000\" points=\"187.0521,-115.92 191.5815,-106.3421 182.0679,-111.005 187.0521,-115.92\"/>\n</g>\n<!-- meias -->\n<g id=\"node9\" class=\"node\">\n<title>meias</title>\n<ellipse fill=\"none\" stroke=\"#000000\" cx=\"253.6967\" cy=\"-162\" rx=\"31.6951\" ry=\"18\"/>\n<text text-anchor=\"middle\" x=\"253.6967\" y=\"-158.3\" font-family=\"Times,serif\" font-size=\"14.00\" fill=\"#000000\">meias</text>\n</g>\n<!-- meias&#45;&gt;sapatos -->\n<g id=\"edge9\" class=\"edge\">\n<title>meias&#45;&gt;sapatos</title>\n<path fill=\"none\" stroke=\"#000000\" d=\"M242.7953,-144.937C237.2625,-136.277 230.4239,-125.5731 224.2571,-115.9207\"/>\n<polygon fill=\"#000000\" stroke=\"#000000\" points=\"227.1727,-113.9833 218.8393,-107.4407 221.2738,-117.752 227.1727,-113.9833\"/>\n</g>\n</g>\n</svg>\n"
          },
          "metadata": {
            "tags": []
          }
        },
        {
          "output_type": "stream",
          "text": [
            "DFS\n",
            "camisa: 1/8\n",
            "gravata: 2/5\n",
            "cinto: 6/7\n",
            "paleto: 3/4\n",
            "relogio: 9/10\n",
            "cueca: 11/16\n",
            "calca: 12/15\n",
            "sapatos: 13/14\n",
            "meias: 17/18\n",
            "Ordem topologica\n",
            "meias cueca calca sapatos relogio camisa cinto gravata paleto "
          ],
          "name": "stdout"
        }
      ]
    },
    {
      "cell_type": "markdown",
      "metadata": {
        "id": "DWTXpZwKRBGu"
      },
      "source": [
        "## Exemplo S278"
      ]
    },
    {
      "cell_type": "code",
      "metadata": {
        "colab": {
          "base_uri": "https://localhost:8080/",
          "height": 558
        },
        "id": "fmzAfl2MRBGv",
        "outputId": "754ecc74-acaf-41d4-94f7-a093a17d7f44"
      },
      "source": [
        "ex_s278 = Graph()\n",
        "ex_s278.addNode('c', ['g', 'd'])\n",
        "ex_s278.addNode('b', ['c', 'e', 'f'])\n",
        "ex_s278.addNode('a', ['b'])\n",
        "ex_s278.addNode('d', ['c', 'h'])\n",
        "ex_s278.addNode('e', ['a', 'f'])\n",
        "ex_s278.addNode('f', ['g'])\n",
        "ex_s278.addNode('g', ['f', 'h'])\n",
        "ex_s278.addNode('h', ['h'])\n",
        "\n",
        "ex_s278.print_graph()\n",
        "\n",
        "print(\"DFS\")\n",
        "d, f = ex_s278.dfs()\n",
        "for key in ex_s278.graph:\n",
        "    print(\"{}: {}/{}\".format(key, d[key], f[key]))\n",
        "\n",
        "scc = ex_s278.scc()\n",
        "\n",
        "print(\"Componentes fortemente conectados:\\n{}\".format(scc))"
      ],
      "execution_count": 5,
      "outputs": [
        {
          "output_type": "display_data",
          "data": {
            "text/plain": [
              "<graphviz.dot.Digraph at 0x7f8b3875f650>"
            ],
            "image/svg+xml": "<?xml version=\"1.0\" encoding=\"UTF-8\" standalone=\"no\"?>\n<!DOCTYPE svg PUBLIC \"-//W3C//DTD SVG 1.1//EN\"\n \"http://www.w3.org/Graphics/SVG/1.1/DTD/svg11.dtd\">\n<!-- Generated by graphviz version 2.40.1 (20161225.0304)\n -->\n<!-- Title: %3 Pages: 1 -->\n<svg width=\"262pt\" height=\"260pt\"\n viewBox=\"0.00 0.00 262.38 260.00\" xmlns=\"http://www.w3.org/2000/svg\" xmlns:xlink=\"http://www.w3.org/1999/xlink\">\n<g id=\"graph0\" class=\"graph\" transform=\"scale(1 1) rotate(0) translate(4 256)\">\n<title>%3</title>\n<polygon fill=\"#ffffff\" stroke=\"transparent\" points=\"-4,4 -4,-256 258.3778,-256 258.3778,4 -4,4\"/>\n<!-- c -->\n<g id=\"node1\" class=\"node\">\n<title>c</title>\n<ellipse fill=\"none\" stroke=\"#000000\" cx=\"55\" cy=\"-162\" rx=\"27\" ry=\"18\"/>\n<text text-anchor=\"middle\" x=\"55\" y=\"-158.3\" font-family=\"Times,serif\" font-size=\"14.00\" fill=\"#000000\">c</text>\n</g>\n<!-- g -->\n<g id=\"node2\" class=\"node\">\n<title>g</title>\n<ellipse fill=\"none\" stroke=\"#000000\" cx=\"99\" cy=\"-90\" rx=\"27\" ry=\"18\"/>\n<text text-anchor=\"middle\" x=\"99\" y=\"-86.3\" font-family=\"Times,serif\" font-size=\"14.00\" fill=\"#000000\">g</text>\n</g>\n<!-- c&#45;&gt;g -->\n<g id=\"edge1\" class=\"edge\">\n<title>c&#45;&gt;g</title>\n<path fill=\"none\" stroke=\"#000000\" d=\"M65.2051,-145.3008C70.5696,-136.5224 77.2626,-125.5703 83.2737,-115.7339\"/>\n<polygon fill=\"#000000\" stroke=\"#000000\" points=\"86.3167,-117.4666 88.5447,-107.1086 80.3437,-113.8164 86.3167,-117.4666\"/>\n</g>\n<!-- d -->\n<g id=\"node3\" class=\"node\">\n<title>d</title>\n<ellipse fill=\"none\" stroke=\"#000000\" cx=\"27\" cy=\"-90\" rx=\"27\" ry=\"18\"/>\n<text text-anchor=\"middle\" x=\"27\" y=\"-86.3\" font-family=\"Times,serif\" font-size=\"14.00\" fill=\"#000000\">d</text>\n</g>\n<!-- c&#45;&gt;d -->\n<g id=\"edge2\" class=\"edge\">\n<title>c&#45;&gt;d</title>\n<path fill=\"none\" stroke=\"#000000\" d=\"M42.8855,-145.6621C38.7637,-137.4353 34.5187,-127.2325 31.2255,-117.8179\"/>\n<polygon fill=\"#000000\" stroke=\"#000000\" points=\"34.4741,-116.4875 28.0764,-108.0423 27.8113,-118.6339 34.4741,-116.4875\"/>\n</g>\n<!-- f -->\n<g id=\"node6\" class=\"node\">\n<title>f</title>\n<ellipse fill=\"none\" stroke=\"#000000\" cx=\"144\" cy=\"-18\" rx=\"27\" ry=\"18\"/>\n<text text-anchor=\"middle\" x=\"144\" y=\"-14.3\" font-family=\"Times,serif\" font-size=\"14.00\" fill=\"#000000\">f</text>\n</g>\n<!-- g&#45;&gt;f -->\n<g id=\"edge12\" class=\"edge\">\n<title>g&#45;&gt;f</title>\n<path fill=\"none\" stroke=\"#000000\" d=\"M104.2079,-72.2022C109.0751,-62.9262 116.0878,-51.4623 122.9587,-41.4698\"/>\n<polygon fill=\"#000000\" stroke=\"#000000\" points=\"125.9319,-43.3292 128.9028,-33.1594 120.2384,-39.2568 125.9319,-43.3292\"/>\n</g>\n<!-- h -->\n<g id=\"node8\" class=\"node\">\n<title>h</title>\n<ellipse fill=\"none\" stroke=\"#000000\" cx=\"45\" cy=\"-18\" rx=\"27\" ry=\"18\"/>\n<text text-anchor=\"middle\" x=\"45\" y=\"-14.3\" font-family=\"Times,serif\" font-size=\"14.00\" fill=\"#000000\">h</text>\n</g>\n<!-- g&#45;&gt;h -->\n<g id=\"edge13\" class=\"edge\">\n<title>g&#45;&gt;h</title>\n<path fill=\"none\" stroke=\"#000000\" d=\"M86.7466,-73.6621C79.8423,-64.4564 71.0823,-52.7764 63.3715,-42.4953\"/>\n<polygon fill=\"#000000\" stroke=\"#000000\" points=\"66.005,-40.1733 57.2049,-34.2733 60.405,-44.3733 66.005,-40.1733\"/>\n</g>\n<!-- d&#45;&gt;c -->\n<g id=\"edge7\" class=\"edge\">\n<title>d&#45;&gt;c</title>\n<path fill=\"none\" stroke=\"#000000\" d=\"M39.1652,-106.4393C43.2606,-114.6273 47.4732,-124.7541 50.7493,-134.11\"/>\n<polygon fill=\"#000000\" stroke=\"#000000\" points=\"47.4845,-135.3898 53.8868,-143.8314 54.1461,-133.2397 47.4845,-135.3898\"/>\n</g>\n<!-- d&#45;&gt;h -->\n<g id=\"edge8\" class=\"edge\">\n<title>d&#45;&gt;h</title>\n<path fill=\"none\" stroke=\"#000000\" d=\"M31.4494,-72.2022C33.4398,-64.2406 35.8332,-54.6671 38.0511,-45.7957\"/>\n<polygon fill=\"#000000\" stroke=\"#000000\" points=\"41.5094,-46.3929 40.5394,-35.8425 34.7184,-44.6951 41.5094,-46.3929\"/>\n</g>\n<!-- b -->\n<g id=\"node4\" class=\"node\">\n<title>b</title>\n<ellipse fill=\"none\" stroke=\"#000000\" cx=\"181\" cy=\"-234\" rx=\"27\" ry=\"18\"/>\n<text text-anchor=\"middle\" x=\"181\" y=\"-230.3\" font-family=\"Times,serif\" font-size=\"14.00\" fill=\"#000000\">b</text>\n</g>\n<!-- b&#45;&gt;c -->\n<g id=\"edge3\" class=\"edge\">\n<title>b&#45;&gt;c</title>\n<path fill=\"none\" stroke=\"#000000\" d=\"M160.4755,-222.2717C139.7908,-210.4519 107.6713,-192.0979 84.3091,-178.7481\"/>\n<polygon fill=\"#000000\" stroke=\"#000000\" points=\"85.9347,-175.6459 75.5157,-173.7233 82.4617,-181.7236 85.9347,-175.6459\"/>\n</g>\n<!-- e -->\n<g id=\"node5\" class=\"node\">\n<title>e</title>\n<ellipse fill=\"none\" stroke=\"#000000\" cx=\"154\" cy=\"-162\" rx=\"27\" ry=\"18\"/>\n<text text-anchor=\"middle\" x=\"154\" y=\"-158.3\" font-family=\"Times,serif\" font-size=\"14.00\" fill=\"#000000\">e</text>\n</g>\n<!-- b&#45;&gt;e -->\n<g id=\"edge4\" class=\"edge\">\n<title>b&#45;&gt;e</title>\n<path fill=\"none\" stroke=\"#000000\" d=\"M174.3258,-216.2022C171.2524,-208.0064 167.5384,-198.1024 164.1305,-189.0145\"/>\n<polygon fill=\"#000000\" stroke=\"#000000\" points=\"167.3858,-187.7274 160.5974,-179.593 160.8315,-190.1853 167.3858,-187.7274\"/>\n</g>\n<!-- b&#45;&gt;f -->\n<g id=\"edge5\" class=\"edge\">\n<title>b&#45;&gt;f</title>\n<path fill=\"none\" stroke=\"#000000\" d=\"M196.1712,-218.4912C223.3907,-188.7165 275.0022,-122.0619 245,-72 230.9322,-48.5263 202.7974,-34.6845 179.7875,-26.9027\"/>\n<polygon fill=\"#000000\" stroke=\"#000000\" points=\"180.56,-23.4773 169.9712,-23.8346 178.4717,-30.1585 180.56,-23.4773\"/>\n</g>\n<!-- e&#45;&gt;f -->\n<g id=\"edge10\" class=\"edge\">\n<title>e&#45;&gt;f</title>\n<path fill=\"none\" stroke=\"#000000\" d=\"M152.7335,-143.7623C151.0279,-119.201 147.9755,-75.2474 145.969,-46.3541\"/>\n<polygon fill=\"#000000\" stroke=\"#000000\" points=\"149.4407,-45.8231 145.2562,-36.0896 142.4575,-46.3081 149.4407,-45.8231\"/>\n</g>\n<!-- a -->\n<g id=\"node7\" class=\"node\">\n<title>a</title>\n<ellipse fill=\"none\" stroke=\"#000000\" cx=\"209\" cy=\"-90\" rx=\"27\" ry=\"18\"/>\n<text text-anchor=\"middle\" x=\"209\" y=\"-86.3\" font-family=\"Times,serif\" font-size=\"14.00\" fill=\"#000000\">a</text>\n</g>\n<!-- e&#45;&gt;a -->\n<g id=\"edge9\" class=\"edge\">\n<title>e&#45;&gt;a</title>\n<path fill=\"none\" stroke=\"#000000\" d=\"M166.4804,-145.6621C173.5124,-136.4564 182.4347,-124.7764 190.2883,-114.4953\"/>\n<polygon fill=\"#000000\" stroke=\"#000000\" points=\"193.28,-116.3446 196.569,-106.2733 187.7172,-112.0953 193.28,-116.3446\"/>\n</g>\n<!-- f&#45;&gt;g -->\n<g id=\"edge11\" class=\"edge\">\n<title>f&#45;&gt;g</title>\n<path fill=\"none\" stroke=\"#000000\" d=\"M138.7982,-35.7862C133.9468,-45.0336 126.9614,-56.4578 120.1094,-66.431\"/>\n<polygon fill=\"#000000\" stroke=\"#000000\" points=\"117.1451,-64.5594 114.1793,-74.7307 122.8407,-68.6289 117.1451,-64.5594\"/>\n</g>\n<!-- a&#45;&gt;b -->\n<g id=\"edge6\" class=\"edge\">\n<title>a&#45;&gt;b</title>\n<path fill=\"none\" stroke=\"#000000\" d=\"M205.4664,-108.1727C200.6642,-132.8697 192.0329,-177.2595 186.4117,-206.1684\"/>\n<polygon fill=\"#000000\" stroke=\"#000000\" points=\"182.9627,-205.5692 184.4896,-216.0535 189.834,-206.9054 182.9627,-205.5692\"/>\n</g>\n<!-- h&#45;&gt;h -->\n<g id=\"edge14\" class=\"edge\">\n<title>h&#45;&gt;h</title>\n<path fill=\"none\" stroke=\"#000000\" d=\"M64.895,-30.4321C77.688,-33.6753 90,-29.5313 90,-18 90,-9.6218 83.5006,-5.1433 75.0395,-4.5644\"/>\n<polygon fill=\"#000000\" stroke=\"#000000\" points=\"74.5019,-1.1004 64.895,-5.5679 75.191,-8.0665 74.5019,-1.1004\"/>\n</g>\n</g>\n</svg>\n"
          },
          "metadata": {
            "tags": []
          }
        },
        {
          "output_type": "stream",
          "text": [
            "DFS\n",
            "c: 1/10\n",
            "b: 11/16\n",
            "a: 13/14\n",
            "d: 8/9\n",
            "e: 12/15\n",
            "f: 3/4\n",
            "g: 2/7\n",
            "h: 5/6\n",
            "Componentes fortemente conectados:\n",
            "[['b', 'a', 'e'], ['c', 'd'], ['g', 'f'], ['h']]\n"
          ],
          "name": "stdout"
        }
      ]
    },
    {
      "cell_type": "markdown",
      "metadata": {
        "id": "-Y2owN30RBGw"
      },
      "source": [
        "## S320E1 Mostre a ordenação topológica sobre o grafo abaixo:"
      ]
    },
    {
      "cell_type": "code",
      "metadata": {
        "colab": {
          "base_uri": "https://localhost:8080/",
          "height": 855
        },
        "id": "guUhfUdpRBGy",
        "outputId": "827e93f2-4d3c-456c-a09c-cc6d450fcd3d"
      },
      "source": [
        "# Driver Code\n",
        "graph_s320e1 = Graph()\n",
        "graph_s320e1.addNode('m', ['q', 'r', 'x'])\n",
        "graph_s320e1.addNode('n', ['o', 'q', 'u' ])\n",
        "graph_s320e1.addNode('o', ['s', 'v'])\n",
        "graph_s320e1.addNode('p', ['o', 's', 'z'])\n",
        "graph_s320e1.addNode('q', ['t'])\n",
        "graph_s320e1.addNode('r', ['u', 'y'])\n",
        "graph_s320e1.addNode('s', [])\n",
        "graph_s320e1.addNode('t', [])\n",
        "graph_s320e1.addNode('u', ['t'])\n",
        "graph_s320e1.addNode('v', ['w', 'x'])\n",
        "graph_s320e1.addNode('w', ['z'])\n",
        "graph_s320e1.addNode('x', [])\n",
        "graph_s320e1.addNode('y', ['v'])\n",
        "graph_s320e1.addNode('z', [])\n",
        "\n",
        "\n",
        "graph_s320e1.print_graph()\n",
        "\n",
        "print(\"DFS\")\n",
        "d, f = graph_s320e1.dfs()\n",
        "for key in graph_s320e1.graph:\n",
        "    print(\"{}: {}/{}\".format(key, d[key], f[key]))\n",
        "\n",
        "print (\"Ordem topologica:\")\n",
        "stack = graph_s320e1.topologicalSort()\n",
        "# Imprime topologia fazendo POP da stack (mesmo que ordem revesa da lista)\n",
        "while stack:\n",
        "    print(stack.pop(), end = \" \")"
      ],
      "execution_count": 7,
      "outputs": [
        {
          "output_type": "display_data",
          "data": {
            "text/plain": [
              "<graphviz.dot.Digraph at 0x7f8b3873f750>"
            ],
            "image/svg+xml": "<?xml version=\"1.0\" encoding=\"UTF-8\" standalone=\"no\"?>\n<!DOCTYPE svg PUBLIC \"-//W3C//DTD SVG 1.1//EN\"\n \"http://www.w3.org/Graphics/SVG/1.1/DTD/svg11.dtd\">\n<!-- Generated by graphviz version 2.40.1 (20161225.0304)\n -->\n<!-- Title: %3 Pages: 1 -->\n<svg width=\"345pt\" height=\"404pt\"\n viewBox=\"0.00 0.00 345.47 404.00\" xmlns=\"http://www.w3.org/2000/svg\" xmlns:xlink=\"http://www.w3.org/1999/xlink\">\n<g id=\"graph0\" class=\"graph\" transform=\"scale(1 1) rotate(0) translate(4 400)\">\n<title>%3</title>\n<polygon fill=\"#ffffff\" stroke=\"transparent\" points=\"-4,4 -4,-400 341.4675,-400 341.4675,4 -4,4\"/>\n<!-- m -->\n<g id=\"node1\" class=\"node\">\n<title>m</title>\n<ellipse fill=\"none\" stroke=\"#000000\" cx=\"39.4675\" cy=\"-378\" rx=\"27\" ry=\"18\"/>\n<text text-anchor=\"middle\" x=\"39.4675\" y=\"-374.3\" font-family=\"Times,serif\" font-size=\"14.00\" fill=\"#000000\">m</text>\n</g>\n<!-- q -->\n<g id=\"node2\" class=\"node\">\n<title>q</title>\n<ellipse fill=\"none\" stroke=\"#000000\" cx=\"39.4675\" cy=\"-234\" rx=\"27\" ry=\"18\"/>\n<text text-anchor=\"middle\" x=\"39.4675\" y=\"-230.3\" font-family=\"Times,serif\" font-size=\"14.00\" fill=\"#000000\">q</text>\n</g>\n<!-- m&#45;&gt;q -->\n<g id=\"edge1\" class=\"edge\">\n<title>m&#45;&gt;q</title>\n<path fill=\"none\" stroke=\"#000000\" d=\"M39.4675,-359.7623C39.4675,-335.201 39.4675,-291.2474 39.4675,-262.3541\"/>\n<polygon fill=\"#000000\" stroke=\"#000000\" points=\"42.9676,-262.0896 39.4675,-252.0896 35.9676,-262.0897 42.9676,-262.0896\"/>\n</g>\n<!-- r -->\n<g id=\"node3\" class=\"node\">\n<title>r</title>\n<ellipse fill=\"none\" stroke=\"#000000\" cx=\"175.4675\" cy=\"-306\" rx=\"27\" ry=\"18\"/>\n<text text-anchor=\"middle\" x=\"175.4675\" y=\"-302.3\" font-family=\"Times,serif\" font-size=\"14.00\" fill=\"#000000\">r</text>\n</g>\n<!-- m&#45;&gt;r -->\n<g id=\"edge2\" class=\"edge\">\n<title>m&#45;&gt;r</title>\n<path fill=\"none\" stroke=\"#000000\" d=\"M60.7175,-366.75C83.3398,-354.7735 119.3415,-335.7138 144.9835,-322.1386\"/>\n<polygon fill=\"#000000\" stroke=\"#000000\" points=\"146.7177,-325.1808 153.9179,-317.4086 143.4424,-318.9943 146.7177,-325.1808\"/>\n</g>\n<!-- x -->\n<g id=\"node4\" class=\"node\">\n<title>x</title>\n<ellipse fill=\"none\" stroke=\"#000000\" cx=\"67.4675\" cy=\"-90\" rx=\"27\" ry=\"18\"/>\n<text text-anchor=\"middle\" x=\"67.4675\" y=\"-86.3\" font-family=\"Times,serif\" font-size=\"14.00\" fill=\"#000000\">x</text>\n</g>\n<!-- m&#45;&gt;x -->\n<g id=\"edge3\" class=\"edge\">\n<title>m&#45;&gt;x</title>\n<path fill=\"none\" stroke=\"#000000\" d=\"M30.5627,-360.9401C16.2714,-331.373 -8.977,-268.7159 3.4675,-216 12.3148,-178.5224 34.3696,-139.6389 50.1118,-115.16\"/>\n<polygon fill=\"#000000\" stroke=\"#000000\" points=\"53.2256,-116.795 55.7954,-106.5165 47.3768,-112.949 53.2256,-116.795\"/>\n</g>\n<!-- t -->\n<g id=\"node12\" class=\"node\">\n<title>t</title>\n<ellipse fill=\"none\" stroke=\"#000000\" cx=\"75.4675\" cy=\"-162\" rx=\"27\" ry=\"18\"/>\n<text text-anchor=\"middle\" x=\"75.4675\" y=\"-158.3\" font-family=\"Times,serif\" font-size=\"14.00\" fill=\"#000000\">t</text>\n</g>\n<!-- q&#45;&gt;t -->\n<g id=\"edge12\" class=\"edge\">\n<title>q&#45;&gt;t</title>\n<path fill=\"none\" stroke=\"#000000\" d=\"M48.1821,-216.5708C52.4272,-208.0807 57.6211,-197.6929 62.3338,-188.2674\"/>\n<polygon fill=\"#000000\" stroke=\"#000000\" points=\"65.4915,-189.7782 66.8332,-179.2687 59.2305,-186.6477 65.4915,-189.7782\"/>\n</g>\n<!-- u -->\n<g id=\"node7\" class=\"node\">\n<title>u</title>\n<ellipse fill=\"none\" stroke=\"#000000\" cx=\"111.4675\" cy=\"-234\" rx=\"27\" ry=\"18\"/>\n<text text-anchor=\"middle\" x=\"111.4675\" y=\"-230.3\" font-family=\"Times,serif\" font-size=\"14.00\" fill=\"#000000\">u</text>\n</g>\n<!-- r&#45;&gt;u -->\n<g id=\"edge13\" class=\"edge\">\n<title>r&#45;&gt;u</title>\n<path fill=\"none\" stroke=\"#000000\" d=\"M161.5805,-290.3771C152.9422,-280.659 141.6782,-267.987 132.0179,-257.1191\"/>\n<polygon fill=\"#000000\" stroke=\"#000000\" points=\"134.5871,-254.7413 125.3275,-249.5924 129.3552,-259.3918 134.5871,-254.7413\"/>\n</g>\n<!-- y -->\n<g id=\"node13\" class=\"node\">\n<title>y</title>\n<ellipse fill=\"none\" stroke=\"#000000\" cx=\"183.4675\" cy=\"-234\" rx=\"27\" ry=\"18\"/>\n<text text-anchor=\"middle\" x=\"183.4675\" y=\"-230.3\" font-family=\"Times,serif\" font-size=\"14.00\" fill=\"#000000\">y</text>\n</g>\n<!-- r&#45;&gt;y -->\n<g id=\"edge14\" class=\"edge\">\n<title>r&#45;&gt;y</title>\n<path fill=\"none\" stroke=\"#000000\" d=\"M177.4863,-287.8314C178.3419,-280.131 179.3593,-270.9743 180.3101,-262.4166\"/>\n<polygon fill=\"#000000\" stroke=\"#000000\" points=\"183.7958,-262.7386 181.4216,-252.4133 176.8386,-261.9656 183.7958,-262.7386\"/>\n</g>\n<!-- n -->\n<g id=\"node5\" class=\"node\">\n<title>n</title>\n<ellipse fill=\"none\" stroke=\"#000000\" cx=\"103.4675\" cy=\"-306\" rx=\"27\" ry=\"18\"/>\n<text text-anchor=\"middle\" x=\"103.4675\" y=\"-302.3\" font-family=\"Times,serif\" font-size=\"14.00\" fill=\"#000000\">n</text>\n</g>\n<!-- n&#45;&gt;q -->\n<g id=\"edge5\" class=\"edge\">\n<title>n&#45;&gt;q</title>\n<path fill=\"none\" stroke=\"#000000\" d=\"M89.5805,-290.3771C80.9422,-280.659 69.6782,-267.987 60.0179,-257.1191\"/>\n<polygon fill=\"#000000\" stroke=\"#000000\" points=\"62.5871,-254.7413 53.3275,-249.5924 57.3552,-259.3918 62.5871,-254.7413\"/>\n</g>\n<!-- o -->\n<g id=\"node6\" class=\"node\">\n<title>o</title>\n<ellipse fill=\"none\" stroke=\"#000000\" cx=\"255.4675\" cy=\"-234\" rx=\"27\" ry=\"18\"/>\n<text text-anchor=\"middle\" x=\"255.4675\" y=\"-230.3\" font-family=\"Times,serif\" font-size=\"14.00\" fill=\"#000000\">o</text>\n</g>\n<!-- n&#45;&gt;o -->\n<g id=\"edge4\" class=\"edge\">\n<title>n&#45;&gt;o</title>\n<path fill=\"none\" stroke=\"#000000\" d=\"M125.0995,-295.0052C129.8176,-292.6573 134.7963,-290.2177 139.4675,-288 174.6894,-271.2782 184.2457,-268.7218 219.4675,-252 221.2192,-251.1684 223.0142,-250.3055 224.8224,-249.428\"/>\n<polygon fill=\"#000000\" stroke=\"#000000\" points=\"226.4071,-252.5491 233.8356,-244.9948 223.3175,-246.2678 226.4071,-252.5491\"/>\n</g>\n<!-- n&#45;&gt;u -->\n<g id=\"edge6\" class=\"edge\">\n<title>n&#45;&gt;u</title>\n<path fill=\"none\" stroke=\"#000000\" d=\"M105.4863,-287.8314C106.3419,-280.131 107.3593,-270.9743 108.3101,-262.4166\"/>\n<polygon fill=\"#000000\" stroke=\"#000000\" points=\"111.7958,-262.7386 109.4216,-252.4133 104.8386,-261.9656 111.7958,-262.7386\"/>\n</g>\n<!-- s -->\n<g id=\"node8\" class=\"node\">\n<title>s</title>\n<ellipse fill=\"none\" stroke=\"#000000\" cx=\"284.4675\" cy=\"-162\" rx=\"27\" ry=\"18\"/>\n<text text-anchor=\"middle\" x=\"284.4675\" y=\"-158.3\" font-family=\"Times,serif\" font-size=\"14.00\" fill=\"#000000\">s</text>\n</g>\n<!-- o&#45;&gt;s -->\n<g id=\"edge7\" class=\"edge\">\n<title>o&#45;&gt;s</title>\n<path fill=\"none\" stroke=\"#000000\" d=\"M262.4876,-216.5708C265.8114,-208.3187 269.8573,-198.2738 273.5675,-189.0623\"/>\n<polygon fill=\"#000000\" stroke=\"#000000\" points=\"276.922,-190.1018 277.4116,-179.5182 270.4289,-187.4864 276.922,-190.1018\"/>\n</g>\n<!-- v -->\n<g id=\"node9\" class=\"node\">\n<title>v</title>\n<ellipse fill=\"none\" stroke=\"#000000\" cx=\"193.4675\" cy=\"-162\" rx=\"27\" ry=\"18\"/>\n<text text-anchor=\"middle\" x=\"193.4675\" y=\"-158.3\" font-family=\"Times,serif\" font-size=\"14.00\" fill=\"#000000\">v</text>\n</g>\n<!-- o&#45;&gt;v -->\n<g id=\"edge8\" class=\"edge\">\n<title>o&#45;&gt;v</title>\n<path fill=\"none\" stroke=\"#000000\" d=\"M242.0145,-218.3771C233.8409,-208.8852 223.2407,-196.5753 214.0316,-185.8808\"/>\n<polygon fill=\"#000000\" stroke=\"#000000\" points=\"216.5011,-183.3848 207.3237,-178.091 211.1967,-187.9525 216.5011,-183.3848\"/>\n</g>\n<!-- u&#45;&gt;t -->\n<g id=\"edge15\" class=\"edge\">\n<title>u&#45;&gt;t</title>\n<path fill=\"none\" stroke=\"#000000\" d=\"M102.7529,-216.5708C98.5079,-208.0807 93.314,-197.6929 88.6012,-188.2674\"/>\n<polygon fill=\"#000000\" stroke=\"#000000\" points=\"91.7046,-186.6477 84.1019,-179.2687 85.4436,-189.7782 91.7046,-186.6477\"/>\n</g>\n<!-- v&#45;&gt;x -->\n<g id=\"edge17\" class=\"edge\">\n<title>v&#45;&gt;x</title>\n<path fill=\"none\" stroke=\"#000000\" d=\"M172.943,-150.2717C152.2583,-138.4519 120.1389,-120.0979 96.7766,-106.7481\"/>\n<polygon fill=\"#000000\" stroke=\"#000000\" points=\"98.4022,-103.6459 87.9833,-101.7233 94.9292,-109.7236 98.4022,-103.6459\"/>\n</g>\n<!-- w -->\n<g id=\"node14\" class=\"node\">\n<title>w</title>\n<ellipse fill=\"none\" stroke=\"#000000\" cx=\"257.4675\" cy=\"-90\" rx=\"27\" ry=\"18\"/>\n<text text-anchor=\"middle\" x=\"257.4675\" y=\"-86.3\" font-family=\"Times,serif\" font-size=\"14.00\" fill=\"#000000\">w</text>\n</g>\n<!-- v&#45;&gt;w -->\n<g id=\"edge16\" class=\"edge\">\n<title>v&#45;&gt;w</title>\n<path fill=\"none\" stroke=\"#000000\" d=\"M207.3546,-146.3771C215.9929,-136.659 227.2568,-123.987 236.9172,-113.1191\"/>\n<polygon fill=\"#000000\" stroke=\"#000000\" points=\"239.5799,-115.3918 243.6076,-105.5924 234.348,-110.7413 239.5799,-115.3918\"/>\n</g>\n<!-- p -->\n<g id=\"node10\" class=\"node\">\n<title>p</title>\n<ellipse fill=\"none\" stroke=\"#000000\" cx=\"310.4675\" cy=\"-306\" rx=\"27\" ry=\"18\"/>\n<text text-anchor=\"middle\" x=\"310.4675\" y=\"-302.3\" font-family=\"Times,serif\" font-size=\"14.00\" fill=\"#000000\">p</text>\n</g>\n<!-- p&#45;&gt;o -->\n<g id=\"edge9\" class=\"edge\">\n<title>p&#45;&gt;o</title>\n<path fill=\"none\" stroke=\"#000000\" d=\"M297.9872,-289.6621C290.9551,-280.4564 282.0329,-268.7764 274.1793,-258.4953\"/>\n<polygon fill=\"#000000\" stroke=\"#000000\" points=\"276.7503,-256.0953 267.8985,-250.2733 271.1876,-260.3446 276.7503,-256.0953\"/>\n</g>\n<!-- p&#45;&gt;s -->\n<g id=\"edge10\" class=\"edge\">\n<title>p&#45;&gt;s</title>\n<path fill=\"none\" stroke=\"#000000\" d=\"M307.2272,-288.0535C302.7898,-263.4774 294.7774,-219.1008 289.5407,-190.0974\"/>\n<polygon fill=\"#000000\" stroke=\"#000000\" points=\"292.9699,-189.3917 287.7487,-180.1727 286.0813,-190.6355 292.9699,-189.3917\"/>\n</g>\n<!-- z -->\n<g id=\"node11\" class=\"node\">\n<title>z</title>\n<ellipse fill=\"none\" stroke=\"#000000\" cx=\"302.4675\" cy=\"-18\" rx=\"27\" ry=\"18\"/>\n<text text-anchor=\"middle\" x=\"302.4675\" y=\"-14.3\" font-family=\"Times,serif\" font-size=\"14.00\" fill=\"#000000\">z</text>\n</g>\n<!-- p&#45;&gt;z -->\n<g id=\"edge11\" class=\"edge\">\n<title>p&#45;&gt;z</title>\n<path fill=\"none\" stroke=\"#000000\" d=\"M313.1351,-288.0134C317.2205,-258.1094 324.183,-196.2802 320.4675,-144 318.0689,-110.249 312.0998,-71.794 307.6896,-46.3378\"/>\n<polygon fill=\"#000000\" stroke=\"#000000\" points=\"311.0982,-45.513 305.91,-36.2754 304.2051,-46.7322 311.0982,-45.513\"/>\n</g>\n<!-- y&#45;&gt;v -->\n<g id=\"edge19\" class=\"edge\">\n<title>y&#45;&gt;v</title>\n<path fill=\"none\" stroke=\"#000000\" d=\"M185.991,-215.8314C187.0605,-208.131 188.3322,-198.9743 189.5208,-190.4166\"/>\n<polygon fill=\"#000000\" stroke=\"#000000\" points=\"193.0011,-190.7997 190.9101,-180.4133 186.0677,-189.8367 193.0011,-190.7997\"/>\n</g>\n<!-- w&#45;&gt;z -->\n<g id=\"edge18\" class=\"edge\">\n<title>w&#45;&gt;z</title>\n<path fill=\"none\" stroke=\"#000000\" d=\"M267.9046,-73.3008C273.391,-64.5224 280.2361,-53.5703 286.3838,-43.7339\"/>\n<polygon fill=\"#000000\" stroke=\"#000000\" points=\"289.4426,-45.4436 291.7746,-35.1086 283.5066,-41.7336 289.4426,-45.4436\"/>\n</g>\n</g>\n</svg>\n"
          },
          "metadata": {
            "tags": []
          }
        },
        {
          "output_type": "stream",
          "text": [
            "DFS\n",
            "m: 1/20\n",
            "n: 21/26\n",
            "o: 22/25\n",
            "p: 27/28\n",
            "q: 2/5\n",
            "r: 6/19\n",
            "s: 23/24\n",
            "t: 3/4\n",
            "u: 7/8\n",
            "v: 10/17\n",
            "w: 11/14\n",
            "x: 15/16\n",
            "y: 9/18\n",
            "z: 12/13\n",
            "Ordem topologica:\n",
            "p n o s m r y v x w z u q t "
          ],
          "name": "stdout"
        }
      ]
    },
    {
      "cell_type": "markdown",
      "metadata": {
        "id": "98X31kmgRBG1"
      },
      "source": [
        "## S320E2 Mostre os componentes fortemente conectados do grafo apresentado no slide 253"
      ]
    },
    {
      "cell_type": "code",
      "metadata": {
        "scrolled": false,
        "colab": {
          "base_uri": "https://localhost:8080/",
          "height": 1000
        },
        "id": "Jb-7e_HjRBG2",
        "outputId": "5a406de4-4eda-4c28-bfd7-3fe024efb089"
      },
      "source": [
        "graph_s320e2 = Graph()\n",
        "graph_s320e2.addNode('q', ['s', 't', 'w'])\n",
        "graph_s320e2.addNode('r', ['u', 'y'])\n",
        "graph_s320e2.addNode('s', ['v'])\n",
        "graph_s320e2.addNode('t', ['x', 'y'])\n",
        "graph_s320e2.addNode('u', ['y'])\n",
        "graph_s320e2.addNode('v', ['w'])\n",
        "graph_s320e2.addNode('w', ['s'])\n",
        "graph_s320e2.addNode('x', ['z'])\n",
        "graph_s320e2.addNode('y', ['q'])\n",
        "graph_s320e2.addNode('z', ['x'])\n",
        "\n",
        "graph_s320e2.print_graph()\n",
        "\n",
        "print(\"DFS\")\n",
        "d, f = graph_s320e2.dfs()\n",
        "for key in graph_s320e2.graph:\n",
        "    print(\"{}: {}/{}\".format(key, d[key], f[key]))\n",
        "    \n",
        "print(\"Grafo transposto\")\n",
        "gt = graph_s320e2.transpose()\n",
        "gt.print_graph()\n",
        "\n",
        "print(\"TODO: ordenar os pontos de acordo com f\")\n",
        "\n",
        "scc = graph_s320e2.scc()\n",
        "\n",
        "print(\"Componentes fortemente conectados:\\n{}\".format(scc))\n"
      ],
      "execution_count": 7,
      "outputs": [
        {
          "output_type": "display_data",
          "data": {
            "text/plain": [
              "<graphviz.dot.Digraph at 0x7f0b7bd8ec10>"
            ],
            "image/svg+xml": "<?xml version=\"1.0\" encoding=\"UTF-8\" standalone=\"no\"?>\n<!DOCTYPE svg PUBLIC \"-//W3C//DTD SVG 1.1//EN\"\n \"http://www.w3.org/Graphics/SVG/1.1/DTD/svg11.dtd\">\n<!-- Generated by graphviz version 2.40.1 (20161225.0304)\n -->\n<!-- Title: %3 Pages: 1 -->\n<svg width=\"307pt\" height=\"260pt\"\n viewBox=\"0.00 0.00 307.00 260.00\" xmlns=\"http://www.w3.org/2000/svg\" xmlns:xlink=\"http://www.w3.org/1999/xlink\">\n<g id=\"graph0\" class=\"graph\" transform=\"scale(1 1) rotate(0) translate(4 256)\">\n<title>%3</title>\n<polygon fill=\"#ffffff\" stroke=\"transparent\" points=\"-4,4 -4,-256 303,-256 303,4 -4,4\"/>\n<!-- q -->\n<g id=\"node1\" class=\"node\">\n<title>q</title>\n<ellipse fill=\"none\" stroke=\"#000000\" cx=\"99\" cy=\"-234\" rx=\"27\" ry=\"18\"/>\n<text text-anchor=\"middle\" x=\"99\" y=\"-230.3\" font-family=\"Times,serif\" font-size=\"14.00\" fill=\"#000000\">q</text>\n</g>\n<!-- s -->\n<g id=\"node2\" class=\"node\">\n<title>s</title>\n<ellipse fill=\"none\" stroke=\"#000000\" cx=\"63\" cy=\"-162\" rx=\"27\" ry=\"18\"/>\n<text text-anchor=\"middle\" x=\"63\" y=\"-158.3\" font-family=\"Times,serif\" font-size=\"14.00\" fill=\"#000000\">s</text>\n</g>\n<!-- q&#45;&gt;s -->\n<g id=\"edge1\" class=\"edge\">\n<title>q&#45;&gt;s</title>\n<path fill=\"none\" stroke=\"#000000\" d=\"M90.2854,-216.5708C86.0403,-208.0807 80.8464,-197.6929 76.1337,-188.2674\"/>\n<polygon fill=\"#000000\" stroke=\"#000000\" points=\"79.237,-186.6477 71.6343,-179.2687 72.976,-189.7782 79.237,-186.6477\"/>\n</g>\n<!-- t -->\n<g id=\"node3\" class=\"node\">\n<title>t</title>\n<ellipse fill=\"none\" stroke=\"#000000\" cx=\"135\" cy=\"-162\" rx=\"27\" ry=\"18\"/>\n<text text-anchor=\"middle\" x=\"135\" y=\"-158.3\" font-family=\"Times,serif\" font-size=\"14.00\" fill=\"#000000\">t</text>\n</g>\n<!-- q&#45;&gt;t -->\n<g id=\"edge2\" class=\"edge\">\n<title>q&#45;&gt;t</title>\n<path fill=\"none\" stroke=\"#000000\" d=\"M107.7146,-216.5708C111.9597,-208.0807 117.1536,-197.6929 121.8663,-188.2674\"/>\n<polygon fill=\"#000000\" stroke=\"#000000\" points=\"125.024,-189.7782 126.3657,-179.2687 118.763,-186.6477 125.024,-189.7782\"/>\n</g>\n<!-- w -->\n<g id=\"node4\" class=\"node\">\n<title>w</title>\n<ellipse fill=\"none\" stroke=\"#000000\" cx=\"27\" cy=\"-18\" rx=\"27\" ry=\"18\"/>\n<text text-anchor=\"middle\" x=\"27\" y=\"-14.3\" font-family=\"Times,serif\" font-size=\"14.00\" fill=\"#000000\">w</text>\n</g>\n<!-- q&#45;&gt;w -->\n<g id=\"edge3\" class=\"edge\">\n<title>q&#45;&gt;w</title>\n<path fill=\"none\" stroke=\"#000000\" d=\"M76.1946,-223.9595C59.1859,-215.0986 37.2021,-200.4041 27,-180 5.5493,-137.0986 12.6788,-79.4619 19.829,-45.7625\"/>\n<polygon fill=\"#000000\" stroke=\"#000000\" points=\"23.3101,-46.2384 22.115,-35.7112 16.4844,-44.6859 23.3101,-46.2384\"/>\n</g>\n<!-- v -->\n<g id=\"node8\" class=\"node\">\n<title>v</title>\n<ellipse fill=\"none\" stroke=\"#000000\" cx=\"82\" cy=\"-90\" rx=\"27\" ry=\"18\"/>\n<text text-anchor=\"middle\" x=\"82\" y=\"-86.3\" font-family=\"Times,serif\" font-size=\"14.00\" fill=\"#000000\">v</text>\n</g>\n<!-- s&#45;&gt;v -->\n<g id=\"edge6\" class=\"edge\">\n<title>s&#45;&gt;v</title>\n<path fill=\"none\" stroke=\"#000000\" d=\"M67.6966,-144.2022C69.7976,-136.2406 72.324,-126.6671 74.665,-117.7957\"/>\n<polygon fill=\"#000000\" stroke=\"#000000\" points=\"78.1241,-118.4046 77.2916,-107.8425 71.3558,-116.6185 78.1241,-118.4046\"/>\n</g>\n<!-- y -->\n<g id=\"node7\" class=\"node\">\n<title>y</title>\n<ellipse fill=\"none\" stroke=\"#000000\" cx=\"235\" cy=\"-90\" rx=\"27\" ry=\"18\"/>\n<text text-anchor=\"middle\" x=\"235\" y=\"-86.3\" font-family=\"Times,serif\" font-size=\"14.00\" fill=\"#000000\">y</text>\n</g>\n<!-- t&#45;&gt;y -->\n<g id=\"edge8\" class=\"edge\">\n<title>t&#45;&gt;y</title>\n<path fill=\"none\" stroke=\"#000000\" d=\"M153.8092,-148.4574C169.1302,-137.4263 190.9566,-121.7113 208.1211,-109.3528\"/>\n<polygon fill=\"#000000\" stroke=\"#000000\" points=\"210.5427,-111.9221 216.613,-103.2387 206.4525,-106.2414 210.5427,-111.9221\"/>\n</g>\n<!-- x -->\n<g id=\"node9\" class=\"node\">\n<title>x</title>\n<ellipse fill=\"none\" stroke=\"#000000\" cx=\"154\" cy=\"-90\" rx=\"27\" ry=\"18\"/>\n<text text-anchor=\"middle\" x=\"154\" y=\"-86.3\" font-family=\"Times,serif\" font-size=\"14.00\" fill=\"#000000\">x</text>\n</g>\n<!-- t&#45;&gt;x -->\n<g id=\"edge7\" class=\"edge\">\n<title>t&#45;&gt;x</title>\n<path fill=\"none\" stroke=\"#000000\" d=\"M139.6966,-144.2022C141.7976,-136.2406 144.324,-126.6671 146.665,-117.7957\"/>\n<polygon fill=\"#000000\" stroke=\"#000000\" points=\"150.1241,-118.4046 149.2916,-107.8425 143.3558,-116.6185 150.1241,-118.4046\"/>\n</g>\n<!-- w&#45;&gt;s -->\n<g id=\"edge11\" class=\"edge\">\n<title>w&#45;&gt;s</title>\n<path fill=\"none\" stroke=\"#000000\" d=\"M30.2768,-36.0499C33.716,-54.3075 39.5172,-83.2851 46,-108 48.2693,-116.6514 51.0733,-125.9755 53.7452,-134.4009\"/>\n<polygon fill=\"#000000\" stroke=\"#000000\" points=\"50.4839,-135.6909 56.894,-144.1267 57.1436,-133.5348 50.4839,-135.6909\"/>\n</g>\n<!-- r -->\n<g id=\"node5\" class=\"node\">\n<title>r</title>\n<ellipse fill=\"none\" stroke=\"#000000\" cx=\"272\" cy=\"-234\" rx=\"27\" ry=\"18\"/>\n<text text-anchor=\"middle\" x=\"272\" y=\"-230.3\" font-family=\"Times,serif\" font-size=\"14.00\" fill=\"#000000\">r</text>\n</g>\n<!-- u -->\n<g id=\"node6\" class=\"node\">\n<title>u</title>\n<ellipse fill=\"none\" stroke=\"#000000\" cx=\"245\" cy=\"-162\" rx=\"27\" ry=\"18\"/>\n<text text-anchor=\"middle\" x=\"245\" y=\"-158.3\" font-family=\"Times,serif\" font-size=\"14.00\" fill=\"#000000\">u</text>\n</g>\n<!-- r&#45;&gt;u -->\n<g id=\"edge4\" class=\"edge\">\n<title>r&#45;&gt;u</title>\n<path fill=\"none\" stroke=\"#000000\" d=\"M265.3258,-216.2022C262.2524,-208.0064 258.5384,-198.1024 255.1305,-189.0145\"/>\n<polygon fill=\"#000000\" stroke=\"#000000\" points=\"258.3858,-187.7274 251.5974,-179.593 251.8315,-190.1853 258.3858,-187.7274\"/>\n</g>\n<!-- r&#45;&gt;y -->\n<g id=\"edge5\" class=\"edge\">\n<title>r&#45;&gt;y</title>\n<path fill=\"none\" stroke=\"#000000\" d=\"M278.3043,-216.1638C283.8506,-197.5717 289.7894,-167.8721 281,-144 276.4789,-131.7208 267.7869,-120.3323 259.1649,-111.2105\"/>\n<polygon fill=\"#000000\" stroke=\"#000000\" points=\"261.5888,-108.6849 252.0319,-104.1114 256.6508,-113.6465 261.5888,-108.6849\"/>\n</g>\n<!-- u&#45;&gt;y -->\n<g id=\"edge9\" class=\"edge\">\n<title>u&#45;&gt;y</title>\n<path fill=\"none\" stroke=\"#000000\" d=\"M242.4766,-143.8314C241.4071,-136.131 240.1353,-126.9743 238.9468,-118.4166\"/>\n<polygon fill=\"#000000\" stroke=\"#000000\" points=\"242.3999,-117.8367 237.5574,-108.4133 235.4664,-118.7997 242.3999,-117.8367\"/>\n</g>\n<!-- y&#45;&gt;q -->\n<g id=\"edge13\" class=\"edge\">\n<title>y&#45;&gt;q</title>\n<path fill=\"none\" stroke=\"#000000\" d=\"M225.0695,-107.0999C213.5321,-126.1344 193.2179,-157.2115 171,-180 157.9024,-193.434 141.2509,-206.1461 127.261,-215.8579\"/>\n<polygon fill=\"#000000\" stroke=\"#000000\" points=\"125.26,-212.986 118.9499,-221.4968 129.1901,-218.7786 125.26,-212.986\"/>\n</g>\n<!-- v&#45;&gt;w -->\n<g id=\"edge10\" class=\"edge\">\n<title>v&#45;&gt;w</title>\n<path fill=\"none\" stroke=\"#000000\" d=\"M69.5196,-73.6621C62.4876,-64.4564 53.5653,-52.7764 45.7117,-42.4953\"/>\n<polygon fill=\"#000000\" stroke=\"#000000\" points=\"48.2828,-40.0953 39.431,-34.2733 42.72,-44.3446 48.2828,-40.0953\"/>\n</g>\n<!-- z -->\n<g id=\"node10\" class=\"node\">\n<title>z</title>\n<ellipse fill=\"none\" stroke=\"#000000\" cx=\"154\" cy=\"-18\" rx=\"27\" ry=\"18\"/>\n<text text-anchor=\"middle\" x=\"154\" y=\"-14.3\" font-family=\"Times,serif\" font-size=\"14.00\" fill=\"#000000\">z</text>\n</g>\n<!-- x&#45;&gt;z -->\n<g id=\"edge12\" class=\"edge\">\n<title>x&#45;&gt;z</title>\n<path fill=\"none\" stroke=\"#000000\" d=\"M148.0843,-72.2022C147.2798,-64.1807 147.0571,-54.5231 147.4162,-45.5957\"/>\n<polygon fill=\"#000000\" stroke=\"#000000\" points=\"150.9097,-45.8099 148.105,-35.593 143.9262,-45.3289 150.9097,-45.8099\"/>\n</g>\n<!-- z&#45;&gt;x -->\n<g id=\"edge14\" class=\"edge\">\n<title>z&#45;&gt;x</title>\n<path fill=\"none\" stroke=\"#000000\" d=\"M159.895,-35.593C160.7094,-43.5865 160.942,-53.2363 160.5928,-62.1759\"/>\n<polygon fill=\"#000000\" stroke=\"#000000\" points=\"157.0976,-61.9891 159.9157,-72.2022 164.0817,-62.4608 157.0976,-61.9891\"/>\n</g>\n</g>\n</svg>\n"
          },
          "metadata": {
            "tags": []
          }
        },
        {
          "output_type": "stream",
          "text": [
            "DFS\n",
            "q: 1/16\n",
            "r: 17/20\n",
            "s: 2/7\n",
            "t: 8/15\n",
            "u: 18/19\n",
            "v: 3/6\n",
            "w: 4/5\n",
            "x: 9/12\n",
            "y: 13/14\n",
            "z: 10/11\n",
            "Grafo transposto\n"
          ],
          "name": "stdout"
        },
        {
          "output_type": "display_data",
          "data": {
            "text/plain": [
              "<graphviz.dot.Digraph at 0x7f0b7bd8e190>"
            ],
            "image/svg+xml": "<?xml version=\"1.0\" encoding=\"UTF-8\" standalone=\"no\"?>\n<!DOCTYPE svg PUBLIC \"-//W3C//DTD SVG 1.1//EN\"\n \"http://www.w3.org/Graphics/SVG/1.1/DTD/svg11.dtd\">\n<!-- Generated by graphviz version 2.40.1 (20161225.0304)\n -->\n<!-- Title: %3 Pages: 1 -->\n<svg width=\"234pt\" height=\"404pt\"\n viewBox=\"0.00 0.00 234.00 404.00\" xmlns=\"http://www.w3.org/2000/svg\" xmlns:xlink=\"http://www.w3.org/1999/xlink\">\n<g id=\"graph0\" class=\"graph\" transform=\"scale(1 1) rotate(0) translate(4 400)\">\n<title>%3</title>\n<polygon fill=\"#ffffff\" stroke=\"transparent\" points=\"-4,4 -4,-400 230,-400 230,4 -4,4\"/>\n<!-- s -->\n<g id=\"node1\" class=\"node\">\n<title>s</title>\n<ellipse fill=\"none\" stroke=\"#000000\" cx=\"133\" cy=\"-378\" rx=\"27\" ry=\"18\"/>\n<text text-anchor=\"middle\" x=\"133\" y=\"-374.3\" font-family=\"Times,serif\" font-size=\"14.00\" fill=\"#000000\">s</text>\n</g>\n<!-- q -->\n<g id=\"node2\" class=\"node\">\n<title>q</title>\n<ellipse fill=\"none\" stroke=\"#000000\" cx=\"87\" cy=\"-234\" rx=\"27\" ry=\"18\"/>\n<text text-anchor=\"middle\" x=\"87\" y=\"-230.3\" font-family=\"Times,serif\" font-size=\"14.00\" fill=\"#000000\">q</text>\n</g>\n<!-- s&#45;&gt;q -->\n<g id=\"edge1\" class=\"edge\">\n<title>s&#45;&gt;q</title>\n<path fill=\"none\" stroke=\"#000000\" d=\"M119.4265,-362.1013C111.5027,-351.8948 102.0905,-337.9746 97,-324 89.792,-304.2124 87.3893,-280.4903 86.7367,-262.3693\"/>\n<polygon fill=\"#000000\" stroke=\"#000000\" points=\"90.2317,-262.0852 86.5302,-252.158 83.2332,-262.2267 90.2317,-262.0852\"/>\n</g>\n<!-- w -->\n<g id=\"node3\" class=\"node\">\n<title>w</title>\n<ellipse fill=\"none\" stroke=\"#000000\" cx=\"133\" cy=\"-306\" rx=\"27\" ry=\"18\"/>\n<text text-anchor=\"middle\" x=\"133\" y=\"-302.3\" font-family=\"Times,serif\" font-size=\"14.00\" fill=\"#000000\">w</text>\n</g>\n<!-- s&#45;&gt;w -->\n<g id=\"edge2\" class=\"edge\">\n<title>s&#45;&gt;w</title>\n<path fill=\"none\" stroke=\"#000000\" d=\"M133,-359.8314C133,-352.131 133,-342.9743 133,-334.4166\"/>\n<polygon fill=\"#000000\" stroke=\"#000000\" points=\"136.5001,-334.4132 133,-324.4133 129.5001,-334.4133 136.5001,-334.4132\"/>\n</g>\n<!-- y -->\n<g id=\"node8\" class=\"node\">\n<title>y</title>\n<ellipse fill=\"none\" stroke=\"#000000\" cx=\"60\" cy=\"-162\" rx=\"27\" ry=\"18\"/>\n<text text-anchor=\"middle\" x=\"60\" y=\"-158.3\" font-family=\"Times,serif\" font-size=\"14.00\" fill=\"#000000\">y</text>\n</g>\n<!-- q&#45;&gt;y -->\n<g id=\"edge14\" class=\"edge\">\n<title>q&#45;&gt;y</title>\n<path fill=\"none\" stroke=\"#000000\" d=\"M80.3258,-216.2022C77.2524,-208.0064 73.5384,-198.1024 70.1305,-189.0145\"/>\n<polygon fill=\"#000000\" stroke=\"#000000\" points=\"73.3858,-187.7274 66.5974,-179.593 66.8315,-190.1853 73.3858,-187.7274\"/>\n</g>\n<!-- w&#45;&gt;q -->\n<g id=\"edge4\" class=\"edge\">\n<title>w&#45;&gt;q</title>\n<path fill=\"none\" stroke=\"#000000\" d=\"M122.3311,-289.3008C116.6414,-280.3952 109.5223,-269.2524 103.1684,-259.307\"/>\n<polygon fill=\"#000000\" stroke=\"#000000\" points=\"105.9445,-257.1513 97.6111,-250.6087 100.0456,-260.92 105.9445,-257.1513\"/>\n</g>\n<!-- v -->\n<g id=\"node5\" class=\"node\">\n<title>v</title>\n<ellipse fill=\"none\" stroke=\"#000000\" cx=\"178\" cy=\"-234\" rx=\"27\" ry=\"18\"/>\n<text text-anchor=\"middle\" x=\"178\" y=\"-230.3\" font-family=\"Times,serif\" font-size=\"14.00\" fill=\"#000000\">v</text>\n</g>\n<!-- w&#45;&gt;v -->\n<g id=\"edge5\" class=\"edge\">\n<title>w&#45;&gt;v</title>\n<path fill=\"none\" stroke=\"#000000\" d=\"M143.437,-289.3008C148.9235,-280.5224 155.7686,-269.5703 161.9163,-259.7339\"/>\n<polygon fill=\"#000000\" stroke=\"#000000\" points=\"164.9751,-261.4436 167.3071,-251.1086 159.0391,-257.7336 164.9751,-261.4436\"/>\n</g>\n<!-- t -->\n<g id=\"node4\" class=\"node\">\n<title>t</title>\n<ellipse fill=\"none\" stroke=\"#000000\" cx=\"127\" cy=\"-90\" rx=\"27\" ry=\"18\"/>\n<text text-anchor=\"middle\" x=\"127\" y=\"-86.3\" font-family=\"Times,serif\" font-size=\"14.00\" fill=\"#000000\">t</text>\n</g>\n<!-- t&#45;&gt;q -->\n<g id=\"edge3\" class=\"edge\">\n<title>t&#45;&gt;q</title>\n<path fill=\"none\" stroke=\"#000000\" d=\"M122.0777,-107.7204C115.2478,-132.308 102.8271,-177.0224 94.7472,-206.1102\"/>\n<polygon fill=\"#000000\" stroke=\"#000000\" points=\"91.2893,-205.4815 91.9852,-216.0535 98.034,-207.3551 91.2893,-205.4815\"/>\n</g>\n<!-- v&#45;&gt;s -->\n<g id=\"edge10\" class=\"edge\">\n<title>v&#45;&gt;s</title>\n<path fill=\"none\" stroke=\"#000000\" d=\"M178.7226,-252.1499C178.885,-270.7374 177.5225,-300.1981 169,-324 165.2398,-334.5018 159.004,-344.9569 152.7697,-353.8308\"/>\n<polygon fill=\"#000000\" stroke=\"#000000\" points=\"149.7685,-352.0023 146.6276,-362.1209 155.393,-356.1695 149.7685,-352.0023\"/>\n</g>\n<!-- u -->\n<g id=\"node6\" class=\"node\">\n<title>u</title>\n<ellipse fill=\"none\" stroke=\"#000000\" cx=\"55\" cy=\"-90\" rx=\"27\" ry=\"18\"/>\n<text text-anchor=\"middle\" x=\"55\" y=\"-86.3\" font-family=\"Times,serif\" font-size=\"14.00\" fill=\"#000000\">u</text>\n</g>\n<!-- r -->\n<g id=\"node7\" class=\"node\">\n<title>r</title>\n<ellipse fill=\"none\" stroke=\"#000000\" cx=\"27\" cy=\"-18\" rx=\"27\" ry=\"18\"/>\n<text text-anchor=\"middle\" x=\"27\" y=\"-14.3\" font-family=\"Times,serif\" font-size=\"14.00\" fill=\"#000000\">r</text>\n</g>\n<!-- u&#45;&gt;r -->\n<g id=\"edge6\" class=\"edge\">\n<title>u&#45;&gt;r</title>\n<path fill=\"none\" stroke=\"#000000\" d=\"M48.222,-72.5708C45.0128,-64.3187 41.1065,-54.2738 37.5242,-45.0623\"/>\n<polygon fill=\"#000000\" stroke=\"#000000\" points=\"40.6992,-43.5697 33.8126,-35.5182 34.1752,-46.1069 40.6992,-43.5697\"/>\n</g>\n<!-- y&#45;&gt;t -->\n<g id=\"edge8\" class=\"edge\">\n<title>y&#45;&gt;t</title>\n<path fill=\"none\" stroke=\"#000000\" d=\"M74.538,-146.3771C83.5812,-136.659 95.3732,-123.987 105.4864,-113.1191\"/>\n<polygon fill=\"#000000\" stroke=\"#000000\" points=\"108.2403,-115.2975 112.4904,-105.5924 103.1158,-110.5288 108.2403,-115.2975\"/>\n</g>\n<!-- y&#45;&gt;u -->\n<g id=\"edge9\" class=\"edge\">\n<title>y&#45;&gt;u</title>\n<path fill=\"none\" stroke=\"#000000\" d=\"M58.7383,-143.8314C58.2035,-136.131 57.5677,-126.9743 56.9734,-118.4166\"/>\n<polygon fill=\"#000000\" stroke=\"#000000\" points=\"60.4632,-118.1467 56.2787,-108.4133 53.48,-118.6317 60.4632,-118.1467\"/>\n</g>\n<!-- y&#45;&gt;r -->\n<g id=\"edge7\" class=\"edge\">\n<title>y&#45;&gt;r</title>\n<path fill=\"none\" stroke=\"#000000\" d=\"M44.3689,-147.0823C35.0296,-137.0435 24.032,-122.949 19,-108 12.2229,-87.8669 14.8545,-63.8494 18.8371,-45.691\"/>\n<polygon fill=\"#000000\" stroke=\"#000000\" points=\"22.2923,-46.2964 21.2771,-35.7503 15.4941,-44.6277 22.2923,-46.2964\"/>\n</g>\n<!-- x -->\n<g id=\"node9\" class=\"node\">\n<title>x</title>\n<ellipse fill=\"none\" stroke=\"#000000\" cx=\"199\" cy=\"-162\" rx=\"27\" ry=\"18\"/>\n<text text-anchor=\"middle\" x=\"199\" y=\"-158.3\" font-family=\"Times,serif\" font-size=\"14.00\" fill=\"#000000\">x</text>\n</g>\n<!-- x&#45;&gt;t -->\n<g id=\"edge11\" class=\"edge\">\n<title>x&#45;&gt;t</title>\n<path fill=\"none\" stroke=\"#000000\" d=\"M183.7307,-146.7307C173.803,-136.803 160.6847,-123.6847 149.5637,-112.5637\"/>\n<polygon fill=\"#000000\" stroke=\"#000000\" points=\"151.7933,-109.8436 142.2473,-105.2473 146.8436,-114.7933 151.7933,-109.8436\"/>\n</g>\n<!-- z -->\n<g id=\"node10\" class=\"node\">\n<title>z</title>\n<ellipse fill=\"none\" stroke=\"#000000\" cx=\"199\" cy=\"-90\" rx=\"27\" ry=\"18\"/>\n<text text-anchor=\"middle\" x=\"199\" y=\"-86.3\" font-family=\"Times,serif\" font-size=\"14.00\" fill=\"#000000\">z</text>\n</g>\n<!-- x&#45;&gt;z -->\n<g id=\"edge12\" class=\"edge\">\n<title>x&#45;&gt;z</title>\n<path fill=\"none\" stroke=\"#000000\" d=\"M193.0843,-144.2022C192.2798,-136.1807 192.0571,-126.5231 192.4162,-117.5957\"/>\n<polygon fill=\"#000000\" stroke=\"#000000\" points=\"195.9097,-117.8099 193.105,-107.593 188.9262,-117.3289 195.9097,-117.8099\"/>\n</g>\n<!-- z&#45;&gt;x -->\n<g id=\"edge13\" class=\"edge\">\n<title>z&#45;&gt;x</title>\n<path fill=\"none\" stroke=\"#000000\" d=\"M204.895,-107.593C205.7094,-115.5865 205.942,-125.2363 205.5928,-134.1759\"/>\n<polygon fill=\"#000000\" stroke=\"#000000\" points=\"202.0976,-133.9891 204.9157,-144.2022 209.0817,-134.4608 202.0976,-133.9891\"/>\n</g>\n</g>\n</svg>\n"
          },
          "metadata": {
            "tags": []
          }
        },
        {
          "output_type": "stream",
          "text": [
            "TODO: ordenar os pontos de acordo com f\n",
            "Componentes fortemente conectados:\n",
            "[['r'], ['u'], ['q', 'y', 't'], ['x', 'z'], ['s', 'w', 'v']]\n"
          ],
          "name": "stdout"
        }
      ]
    },
    {
      "cell_type": "markdown",
      "metadata": {
        "id": "fWP2iaxBRBG3"
      },
      "source": [
        "## Arvores espalhadas mínimas."
      ]
    },
    {
      "cell_type": "markdown",
      "metadata": {
        "id": "bZ5y_XruRBG3"
      },
      "source": [
        "## Kruskal's "
      ]
    },
    {
      "cell_type": "code",
      "metadata": {
        "id": "QOglUD8URBG3"
      },
      "source": [
        "#@title Arvores espahadas mínimas - Algoritmo de Kruskal\n",
        "#https://algotree.org/algorithms/minimum_spanning_tree/kruskals/\n",
        "    \n",
        "class Edge :\n",
        "\n",
        "   def __init__(self, arg_src, arg_dst, arg_weight) :\n",
        "       self.src = arg_src\n",
        "       self.dst = arg_dst\n",
        "       self.weight = arg_weight\n",
        "\n",
        "class Graph:\n",
        "\n",
        "    def __init__(self, arg_num_nodes, arg_edgelist) :\n",
        "        self.num_nodes = arg_num_nodes\n",
        "        self.edgelist  = arg_edgelist\n",
        "        self.parent    = []\n",
        "        self.rank      = []\n",
        "        # mst stores edges of the minimum spanning tree\n",
        "        self.mst       = []\n",
        "\n",
        "    def FindParent(self, node) :\n",
        "\n",
        "        if self.parent[node] == node :\n",
        "           return node\n",
        "        return self.FindParent(self.parent[node])\n",
        "\n",
        "    def KruskalMST(self) :\n",
        "\n",
        "        # Sort objects of an Edge class based on attribute (weight)\n",
        "        self.edgelist.sort(key = lambda Edge : Edge.weight)\n",
        "\n",
        "        self.parent = [None] * self.num_nodes\n",
        "        self.rank   = [None] * self.num_nodes\n",
        "\n",
        "       \n",
        "\n",
        "        for n in range(self.num_nodes) :\n",
        "            self.parent[n] = n # Every node is the parent of itself at the beginning\n",
        "            self.rank[n] = 0   # Rank of every node is 0 at the beginning\n",
        "\n",
        "        for edge in self.edgelist :\n",
        "            root1 = self.FindParent(edge.src)\n",
        "            root2 = self.FindParent(edge.dst)\n",
        "\n",
        "            # Parents of the source and destination nodes are not in the same subset\n",
        "            # Add the edge to the spanning tree\n",
        "            if root1 != root2 :\n",
        "               self.mst.append(edge)\n",
        "               if self.rank[root1] < self.rank[root2] :\n",
        "                  self.parent[root1] = root2\n",
        "                  self.rank[root2] += 1\n",
        "               else :\n",
        "                  self.parent[root2] = root1\n",
        "                  self.rank[root1] += 1\n",
        "\n",
        "        #print(\"\\nEdges of minimum spanning tree in graph :\", end=' ')\n",
        "        cost = 0\n",
        "        min_span_tree = defaultdict(list)\n",
        "        for edge in self.mst :\n",
        "            #print(\"[\" + str(edge.src) + \"-\" + str(edge.dst) + \"](\" + str(edge.weight) + \")\", end = ' ')\n",
        "            cost += edge.weight\n",
        "            min_span_tree[edge.src].append((edge.dst, edge.weight))\n",
        "        #rint(\"\\nCost of minimum spanning tree : \" +str(cost))\n",
        "\n",
        "        return min_span_tree, cost        \n",
        "        \n",
        "    def convert_to_dict(self):\n",
        "        # Cria um dicionario dos nos com as arestas...um formato mais amigavel para imprimir    \n",
        "        graph = defaultdict(list)\n",
        "        for e in self.edgelist:\n",
        "            graph[e.src].append((e.dst,e.weight))\n",
        "            \n",
        "        return graph\n",
        "        \n",
        "        \n",
        "    def print_graph(self):\n",
        "        graph = defaultdict(list)\n",
        "       \n",
        "        \n",
        "        # Cria um dicionario dos nos com as arestas...um formato mais amigavel para imprimir    \n",
        "        for e in self.edgelist:\n",
        "            graph[e.src].append((e.dst,e.weight))\n",
        "        \n",
        "        dot = graphviz.Graph(strict=True)\n",
        "            \n",
        "        for key, value in graph.items():\n",
        "            dot.node(name=str(key), label=str(key))\n",
        "            for v in value:\n",
        "                dot.edge(str(key),str(v[0]), label=str(v[1]))\n",
        "            \n",
        "        display(dot)"
      ],
      "execution_count": 97,
      "outputs": []
    },
    {
      "cell_type": "markdown",
      "metadata": {
        "id": "38HUXEAnRBG4"
      },
      "source": [
        "## S348E1 Mostre os algoritmos de Prim e de Kruskal para os grafos abaixo"
      ]
    },
    {
      "cell_type": "markdown",
      "metadata": {
        "id": "Y6XaAZAwRBG4"
      },
      "source": [
        "## G1 Kruskal"
      ]
    },
    {
      "cell_type": "code",
      "metadata": {
        "colab": {
          "base_uri": "https://localhost:8080/",
          "height": 1000
        },
        "id": "nX-6jOrVRBG5",
        "outputId": "7896da8a-8f8e-45d0-df93-05ced71dcc9b"
      },
      "source": [
        "num_nodes = 8\n",
        "edges = [\n",
        "    Edge(0, 1, 4),\n",
        "    Edge(0, 3, 4),\n",
        "\n",
        "    Edge(1, 0, 4),\n",
        "    Edge(1, 2, 1),\n",
        "    Edge(1, 3, 3),\n",
        "    Edge(1, 6, 4),\n",
        "    \n",
        "    Edge(2, 1, 1),\n",
        "    Edge(2, 5, 5),\n",
        "    Edge(2, 6, 1),\n",
        "    \n",
        "    Edge(3, 0, 4),\n",
        "    Edge(3, 1, 3),\n",
        "    Edge(3, 5, 1),\n",
        "    Edge(3, 7, 6),\n",
        "    \n",
        "    Edge(4, 7, 8),\n",
        "    \n",
        "    Edge(5, 2, 5),\n",
        "    Edge(5, 3, 1),\n",
        "    Edge(5, 7, 3),\n",
        "    \n",
        "    Edge(6, 1, 4),\n",
        "    Edge(6, 2, 1),\n",
        "    Edge(6, 7, 4),\n",
        "    \n",
        "    Edge(7, 3, 6),\n",
        "    Edge(7, 4, 8),\n",
        "    Edge(7, 5, 3),\n",
        "    Edge(7, 6, 4),\n",
        "    ]\n",
        "\n",
        "\n",
        "g1 = Graph(num_nodes, edges)\n",
        "# Arvore convertida para dicionario para uso com algortimo prim\n",
        "g1_dict = g1.convert_to_dict()\n",
        "\n",
        "print(\"Kruskal\")\n",
        "g1.print_graph()\n",
        "tree, cost  = g1.KruskalMST()\n",
        "\n",
        "print(\"Arvore minima: {}\".format(tree))\n",
        "print(\"Custo total {}\".format(cost))\n",
        "\n",
        "dot = graphviz.Graph(strict=True)\n",
        "    \n",
        "for key, value in tree.items():\n",
        "    dot.node(name=str(key), label=str(key))\n",
        "    for v in value:\n",
        "        dot.edge(str(key),str(v[0]), label=str(v[1]))\n",
        "display(dot)\n"
      ],
      "execution_count": 99,
      "outputs": [
        {
          "output_type": "stream",
          "text": [
            "Kruskal\n"
          ],
          "name": "stdout"
        },
        {
          "output_type": "display_data",
          "data": {
            "text/plain": [
              "<graphviz.dot.Graph at 0x7f8b345b8c90>"
            ],
            "image/svg+xml": "<?xml version=\"1.0\" encoding=\"UTF-8\" standalone=\"no\"?>\n<!DOCTYPE svg PUBLIC \"-//W3C//DTD SVG 1.1//EN\"\n \"http://www.w3.org/Graphics/SVG/1.1/DTD/svg11.dtd\">\n<!-- Generated by graphviz version 2.40.1 (20161225.0304)\n -->\n<!-- Title: %3 Pages: 1 -->\n<svg width=\"250pt\" height=\"392pt\"\n viewBox=\"0.00 0.00 250.00 392.00\" xmlns=\"http://www.w3.org/2000/svg\" xmlns:xlink=\"http://www.w3.org/1999/xlink\">\n<g id=\"graph0\" class=\"graph\" transform=\"scale(1 1) rotate(0) translate(4 388)\">\n<title>%3</title>\n<polygon fill=\"#ffffff\" stroke=\"transparent\" points=\"-4,4 -4,-388 246,-388 246,4 -4,4\"/>\n<!-- 0 -->\n<g id=\"node1\" class=\"node\">\n<title>0</title>\n<ellipse fill=\"none\" stroke=\"#000000\" cx=\"133\" cy=\"-366\" rx=\"27\" ry=\"18\"/>\n<text text-anchor=\"middle\" x=\"133\" y=\"-362.3\" font-family=\"Times,serif\" font-size=\"14.00\" fill=\"#000000\">0</text>\n</g>\n<!-- 1 -->\n<g id=\"node2\" class=\"node\">\n<title>1</title>\n<ellipse fill=\"none\" stroke=\"#000000\" cx=\"86\" cy=\"-279\" rx=\"27\" ry=\"18\"/>\n<text text-anchor=\"middle\" x=\"86\" y=\"-275.3\" font-family=\"Times,serif\" font-size=\"14.00\" fill=\"#000000\">1</text>\n</g>\n<!-- 0&#45;&#45;1 -->\n<g id=\"edge1\" class=\"edge\">\n<title>0&#45;&#45;1</title>\n<path fill=\"none\" stroke=\"#000000\" d=\"M123.7143,-348.8116C115.4746,-333.5593 103.5003,-311.3942 95.2664,-296.1527\"/>\n<text text-anchor=\"middle\" x=\"117\" y=\"-318.8\" font-family=\"Times,serif\" font-size=\"14.00\" fill=\"#000000\">4</text>\n</g>\n<!-- 3 -->\n<g id=\"node3\" class=\"node\">\n<title>3</title>\n<ellipse fill=\"none\" stroke=\"#000000\" cx=\"152\" cy=\"-192\" rx=\"27\" ry=\"18\"/>\n<text text-anchor=\"middle\" x=\"152\" y=\"-188.3\" font-family=\"Times,serif\" font-size=\"14.00\" fill=\"#000000\">3</text>\n</g>\n<!-- 0&#45;&#45;3 -->\n<g id=\"edge2\" class=\"edge\">\n<title>0&#45;&#45;3</title>\n<path fill=\"none\" stroke=\"#000000\" d=\"M134.9618,-348.0343C138.6026,-314.6918 146.3662,-243.5937 150.0204,-210.1286\"/>\n<text text-anchor=\"middle\" x=\"148\" y=\"-275.3\" font-family=\"Times,serif\" font-size=\"14.00\" fill=\"#000000\">4</text>\n</g>\n<!-- 1&#45;&#45;3 -->\n<g id=\"edge4\" class=\"edge\">\n<title>1&#45;&#45;3</title>\n<path fill=\"none\" stroke=\"#000000\" d=\"M98.4141,-262.636C110.2138,-247.0817 127.8602,-223.8206 139.6416,-208.2907\"/>\n<text text-anchor=\"middle\" x=\"127\" y=\"-231.8\" font-family=\"Times,serif\" font-size=\"14.00\" fill=\"#000000\">3</text>\n</g>\n<!-- 2 -->\n<g id=\"node4\" class=\"node\">\n<title>2</title>\n<ellipse fill=\"none\" stroke=\"#000000\" cx=\"80\" cy=\"-192\" rx=\"27\" ry=\"18\"/>\n<text text-anchor=\"middle\" x=\"80\" y=\"-188.3\" font-family=\"Times,serif\" font-size=\"14.00\" fill=\"#000000\">2</text>\n</g>\n<!-- 1&#45;&#45;2 -->\n<g id=\"edge3\" class=\"edge\">\n<title>1&#45;&#45;2</title>\n<path fill=\"none\" stroke=\"#000000\" d=\"M84.7568,-260.9735C83.727,-246.0422 82.2709,-224.9283 81.2416,-210.0034\"/>\n<text text-anchor=\"middle\" x=\"88\" y=\"-231.8\" font-family=\"Times,serif\" font-size=\"14.00\" fill=\"#000000\">1</text>\n</g>\n<!-- 6 -->\n<g id=\"node5\" class=\"node\">\n<title>6</title>\n<ellipse fill=\"none\" stroke=\"#000000\" cx=\"27\" cy=\"-105\" rx=\"27\" ry=\"18\"/>\n<text text-anchor=\"middle\" x=\"27\" y=\"-101.3\" font-family=\"Times,serif\" font-size=\"14.00\" fill=\"#000000\">6</text>\n</g>\n<!-- 1&#45;&#45;6 -->\n<g id=\"edge5\" class=\"edge\">\n<title>1&#45;&#45;6</title>\n<path fill=\"none\" stroke=\"#000000\" d=\"M71.1266,-263.7409C59.365,-250.6435 43.6884,-230.6582 36,-210 25.2151,-181.0216 24.7474,-144.5441 25.6751,-123.0976\"/>\n<text text-anchor=\"middle\" x=\"40\" y=\"-188.3\" font-family=\"Times,serif\" font-size=\"14.00\" fill=\"#000000\">4</text>\n</g>\n<!-- 5 -->\n<g id=\"node6\" class=\"node\">\n<title>5</title>\n<ellipse fill=\"none\" stroke=\"#000000\" cx=\"99\" cy=\"-105\" rx=\"27\" ry=\"18\"/>\n<text text-anchor=\"middle\" x=\"99\" y=\"-101.3\" font-family=\"Times,serif\" font-size=\"14.00\" fill=\"#000000\">5</text>\n</g>\n<!-- 3&#45;&#45;5 -->\n<g id=\"edge8\" class=\"edge\">\n<title>3&#45;&#45;5</title>\n<path fill=\"none\" stroke=\"#000000\" d=\"M141.7811,-175.2255C132.396,-159.8198 118.5627,-137.1124 109.1876,-121.723\"/>\n<text text-anchor=\"middle\" x=\"132\" y=\"-144.8\" font-family=\"Times,serif\" font-size=\"14.00\" fill=\"#000000\">1</text>\n</g>\n<!-- 7 -->\n<g id=\"node7\" class=\"node\">\n<title>7</title>\n<ellipse fill=\"none\" stroke=\"#000000\" cx=\"130\" cy=\"-18\" rx=\"27\" ry=\"18\"/>\n<text text-anchor=\"middle\" x=\"130\" y=\"-14.3\" font-family=\"Times,serif\" font-size=\"14.00\" fill=\"#000000\">7</text>\n</g>\n<!-- 3&#45;&#45;7 -->\n<g id=\"edge9\" class=\"edge\">\n<title>3&#45;&#45;7</title>\n<path fill=\"none\" stroke=\"#000000\" d=\"M149.7285,-174.0343C145.5128,-140.6918 136.5233,-69.5937 132.2921,-36.1286\"/>\n<text text-anchor=\"middle\" x=\"147\" y=\"-101.3\" font-family=\"Times,serif\" font-size=\"14.00\" fill=\"#000000\">6</text>\n</g>\n<!-- 2&#45;&#45;6 -->\n<g id=\"edge7\" class=\"edge\">\n<title>2&#45;&#45;6</title>\n<path fill=\"none\" stroke=\"#000000\" d=\"M69.7811,-175.2255C60.396,-159.8198 46.5627,-137.1124 37.1876,-121.723\"/>\n<text text-anchor=\"middle\" x=\"61\" y=\"-144.8\" font-family=\"Times,serif\" font-size=\"14.00\" fill=\"#000000\">1</text>\n</g>\n<!-- 2&#45;&#45;5 -->\n<g id=\"edge6\" class=\"edge\">\n<title>2&#45;&#45;5</title>\n<path fill=\"none\" stroke=\"#000000\" d=\"M83.9368,-173.9735C87.1977,-159.0422 91.8088,-137.9283 95.0682,-123.0034\"/>\n<text text-anchor=\"middle\" x=\"95\" y=\"-144.8\" font-family=\"Times,serif\" font-size=\"14.00\" fill=\"#000000\">5</text>\n</g>\n<!-- 6&#45;&#45;7 -->\n<g id=\"edge12\" class=\"edge\">\n<title>6&#45;&#45;7</title>\n<path fill=\"none\" stroke=\"#000000\" d=\"M44.0084,-90.6337C63.0926,-74.514 93.8718,-48.516 112.9664,-32.3876\"/>\n<text text-anchor=\"middle\" x=\"89\" y=\"-57.8\" font-family=\"Times,serif\" font-size=\"14.00\" fill=\"#000000\">4</text>\n</g>\n<!-- 5&#45;&#45;7 -->\n<g id=\"edge11\" class=\"edge\">\n<title>5&#45;&#45;7</title>\n<path fill=\"none\" stroke=\"#000000\" d=\"M105.2733,-87.3943C110.6517,-72.3001 118.3604,-50.6661 123.736,-35.5796\"/>\n<text text-anchor=\"middle\" x=\"121\" y=\"-57.8\" font-family=\"Times,serif\" font-size=\"14.00\" fill=\"#000000\">3</text>\n</g>\n<!-- 4 -->\n<g id=\"node8\" class=\"node\">\n<title>4</title>\n<ellipse fill=\"none\" stroke=\"#000000\" cx=\"215\" cy=\"-105\" rx=\"27\" ry=\"18\"/>\n<text text-anchor=\"middle\" x=\"215\" y=\"-101.3\" font-family=\"Times,serif\" font-size=\"14.00\" fill=\"#000000\">4</text>\n</g>\n<!-- 4&#45;&#45;7 -->\n<g id=\"edge10\" class=\"edge\">\n<title>4&#45;&#45;7</title>\n<path fill=\"none\" stroke=\"#000000\" d=\"M204.0255,-88.5277C196.6953,-78.0959 186.5021,-64.6204 176,-54 167.7286,-45.6354 157.5083,-37.4597 148.8037,-31.019\"/>\n<text text-anchor=\"middle\" x=\"192\" y=\"-57.8\" font-family=\"Times,serif\" font-size=\"14.00\" fill=\"#000000\">8</text>\n</g>\n</g>\n</svg>\n"
          },
          "metadata": {
            "tags": []
          }
        },
        {
          "output_type": "stream",
          "text": [
            "Arvore minima: defaultdict(<class 'list'>, {1: [(2, 1), (3, 3)], 2: [(6, 1)], 3: [(5, 1)], 5: [(7, 3)], 0: [(1, 4)], 4: [(7, 8)]})\n",
            "Custo total 21\n"
          ],
          "name": "stdout"
        },
        {
          "output_type": "display_data",
          "data": {
            "text/plain": [
              "<graphviz.dot.Graph at 0x7f8b345b4b10>"
            ],
            "image/svg+xml": "<?xml version=\"1.0\" encoding=\"UTF-8\" standalone=\"no\"?>\n<!DOCTYPE svg PUBLIC \"-//W3C//DTD SVG 1.1//EN\"\n \"http://www.w3.org/Graphics/SVG/1.1/DTD/svg11.dtd\">\n<!-- Generated by graphviz version 2.40.1 (20161225.0304)\n -->\n<!-- Title: %3 Pages: 1 -->\n<svg width=\"206pt\" height=\"392pt\"\n viewBox=\"0.00 0.00 206.00 392.00\" xmlns=\"http://www.w3.org/2000/svg\" xmlns:xlink=\"http://www.w3.org/1999/xlink\">\n<g id=\"graph0\" class=\"graph\" transform=\"scale(1 1) rotate(0) translate(4 388)\">\n<title>%3</title>\n<polygon fill=\"#ffffff\" stroke=\"transparent\" points=\"-4,4 -4,-388 202,-388 202,4 -4,4\"/>\n<!-- 1 -->\n<g id=\"node1\" class=\"node\">\n<title>1</title>\n<ellipse fill=\"none\" stroke=\"#000000\" cx=\"134\" cy=\"-279\" rx=\"27\" ry=\"18\"/>\n<text text-anchor=\"middle\" x=\"134\" y=\"-275.3\" font-family=\"Times,serif\" font-size=\"14.00\" fill=\"#000000\">1</text>\n</g>\n<!-- 2 -->\n<g id=\"node2\" class=\"node\">\n<title>2</title>\n<ellipse fill=\"none\" stroke=\"#000000\" cx=\"99\" cy=\"-192\" rx=\"27\" ry=\"18\"/>\n<text text-anchor=\"middle\" x=\"99\" y=\"-188.3\" font-family=\"Times,serif\" font-size=\"14.00\" fill=\"#000000\">2</text>\n</g>\n<!-- 1&#45;&#45;2 -->\n<g id=\"edge1\" class=\"edge\">\n<title>1&#45;&#45;2</title>\n<path fill=\"none\" stroke=\"#000000\" d=\"M126.9172,-261.3943C120.8449,-246.3001 112.1415,-224.6661 106.0722,-209.5796\"/>\n<text text-anchor=\"middle\" x=\"122\" y=\"-231.8\" font-family=\"Times,serif\" font-size=\"14.00\" fill=\"#000000\">1</text>\n</g>\n<!-- 3 -->\n<g id=\"node3\" class=\"node\">\n<title>3</title>\n<ellipse fill=\"none\" stroke=\"#000000\" cx=\"171\" cy=\"-192\" rx=\"27\" ry=\"18\"/>\n<text text-anchor=\"middle\" x=\"171\" y=\"-188.3\" font-family=\"Times,serif\" font-size=\"14.00\" fill=\"#000000\">3</text>\n</g>\n<!-- 1&#45;&#45;3 -->\n<g id=\"edge2\" class=\"edge\">\n<title>1&#45;&#45;3</title>\n<path fill=\"none\" stroke=\"#000000\" d=\"M141.4875,-261.3943C147.9068,-246.3001 157.1075,-224.6661 163.5236,-209.5796\"/>\n<text text-anchor=\"middle\" x=\"158\" y=\"-231.8\" font-family=\"Times,serif\" font-size=\"14.00\" fill=\"#000000\">3</text>\n</g>\n<!-- 6 -->\n<g id=\"node4\" class=\"node\">\n<title>6</title>\n<ellipse fill=\"none\" stroke=\"#000000\" cx=\"99\" cy=\"-105\" rx=\"27\" ry=\"18\"/>\n<text text-anchor=\"middle\" x=\"99\" y=\"-101.3\" font-family=\"Times,serif\" font-size=\"14.00\" fill=\"#000000\">6</text>\n</g>\n<!-- 2&#45;&#45;6 -->\n<g id=\"edge3\" class=\"edge\">\n<title>2&#45;&#45;6</title>\n<path fill=\"none\" stroke=\"#000000\" d=\"M99,-173.9735C99,-159.0422 99,-137.9283 99,-123.0034\"/>\n<text text-anchor=\"middle\" x=\"103\" y=\"-144.8\" font-family=\"Times,serif\" font-size=\"14.00\" fill=\"#000000\">1</text>\n</g>\n<!-- 5 -->\n<g id=\"node5\" class=\"node\">\n<title>5</title>\n<ellipse fill=\"none\" stroke=\"#000000\" cx=\"171\" cy=\"-105\" rx=\"27\" ry=\"18\"/>\n<text text-anchor=\"middle\" x=\"171\" y=\"-101.3\" font-family=\"Times,serif\" font-size=\"14.00\" fill=\"#000000\">5</text>\n</g>\n<!-- 3&#45;&#45;5 -->\n<g id=\"edge4\" class=\"edge\">\n<title>3&#45;&#45;5</title>\n<path fill=\"none\" stroke=\"#000000\" d=\"M171,-173.9735C171,-159.0422 171,-137.9283 171,-123.0034\"/>\n<text text-anchor=\"middle\" x=\"175\" y=\"-144.8\" font-family=\"Times,serif\" font-size=\"14.00\" fill=\"#000000\">1</text>\n</g>\n<!-- 7 -->\n<g id=\"node6\" class=\"node\">\n<title>7</title>\n<ellipse fill=\"none\" stroke=\"#000000\" cx=\"42\" cy=\"-18\" rx=\"27\" ry=\"18\"/>\n<text text-anchor=\"middle\" x=\"42\" y=\"-14.3\" font-family=\"Times,serif\" font-size=\"14.00\" fill=\"#000000\">7</text>\n</g>\n<!-- 5&#45;&#45;7 -->\n<g id=\"edge5\" class=\"edge\">\n<title>5&#45;&#45;7</title>\n<path fill=\"none\" stroke=\"#000000\" d=\"M151.9656,-92.1629C127.576,-75.7141 85.5397,-47.364 61.1125,-30.8898\"/>\n<text text-anchor=\"middle\" x=\"118\" y=\"-57.8\" font-family=\"Times,serif\" font-size=\"14.00\" fill=\"#000000\">3</text>\n</g>\n<!-- 0 -->\n<g id=\"node7\" class=\"node\">\n<title>0</title>\n<ellipse fill=\"none\" stroke=\"#000000\" cx=\"134\" cy=\"-366\" rx=\"27\" ry=\"18\"/>\n<text text-anchor=\"middle\" x=\"134\" y=\"-362.3\" font-family=\"Times,serif\" font-size=\"14.00\" fill=\"#000000\">0</text>\n</g>\n<!-- 0&#45;&#45;1 -->\n<g id=\"edge6\" class=\"edge\">\n<title>0&#45;&#45;1</title>\n<path fill=\"none\" stroke=\"#000000\" d=\"M134,-347.9735C134,-333.0422 134,-311.9283 134,-297.0034\"/>\n<text text-anchor=\"middle\" x=\"138\" y=\"-318.8\" font-family=\"Times,serif\" font-size=\"14.00\" fill=\"#000000\">4</text>\n</g>\n<!-- 4 -->\n<g id=\"node8\" class=\"node\">\n<title>4</title>\n<ellipse fill=\"none\" stroke=\"#000000\" cx=\"27\" cy=\"-105\" rx=\"27\" ry=\"18\"/>\n<text text-anchor=\"middle\" x=\"27\" y=\"-101.3\" font-family=\"Times,serif\" font-size=\"14.00\" fill=\"#000000\">4</text>\n</g>\n<!-- 4&#45;&#45;7 -->\n<g id=\"edge7\" class=\"edge\">\n<title>4&#45;&#45;7</title>\n<path fill=\"none\" stroke=\"#000000\" d=\"M30.108,-86.9735C32.6824,-72.0422 36.3227,-50.9283 38.896,-36.0034\"/>\n<text text-anchor=\"middle\" x=\"40\" y=\"-57.8\" font-family=\"Times,serif\" font-size=\"14.00\" fill=\"#000000\">8</text>\n</g>\n</g>\n</svg>\n"
          },
          "metadata": {
            "tags": []
          }
        }
      ]
    },
    {
      "cell_type": "markdown",
      "metadata": {
        "id": "GFGzX56yRBG6"
      },
      "source": [
        "## G2 Kruskal"
      ]
    },
    {
      "cell_type": "code",
      "metadata": {
        "colab": {
          "base_uri": "https://localhost:8080/",
          "height": 774
        },
        "id": "VyzBVbLQRBG6",
        "outputId": "ccdf31c3-53d8-49c0-9e18-51f941544b88"
      },
      "source": [
        "# G2\n",
        "\n",
        "num_nodes = 8\n",
        "edges = [\n",
        "    Edge(0, 3, 9),\n",
        "    Edge(0, 4, 4),\n",
        "    \n",
        "    Edge(1, 5, 3),\n",
        "    Edge(1, 6, 2),\n",
        "    \n",
        "    Edge(2, 4, 3),\n",
        "    Edge(2, 5, 5),\n",
        "    \n",
        "    Edge(3, 0, 9),\n",
        "    Edge(3, 7, 2),\n",
        "    \n",
        "    Edge(4, 0, 4),\n",
        "    Edge(4, 2, 3),\n",
        "    Edge(4, 7, 5),\n",
        "    \n",
        "    Edge(5, 1, 3),\n",
        "    Edge(5, 2, 5),\n",
        "    Edge(5, 6, 6),\n",
        "    \n",
        "    Edge(6, 1, 2),\n",
        "    Edge(6, 5, 6),\n",
        "    Edge(6, 7, 4),\n",
        "    \n",
        "    Edge(7, 3, 2),\n",
        "    Edge(7, 4, 5),\n",
        "    Edge(7,6,4)\n",
        "    ]\n",
        "\n",
        "\n",
        "g2 = Graph(num_nodes, edges)\n",
        "# Arvore convertida para dicionario para uso com algortimo prim\n",
        "g2_dict = g2.convert_to_dict()\n",
        "\n",
        "g2.print_graph()\n",
        "print(\"Kruskal\")\n",
        "tree, cost  = g2.KruskalMST()\n",
        "\n",
        "print(\"Arvore minima: {}\".format(tree))\n",
        "print(\"Custo total {}\".format(cost))\n",
        "\n",
        "dot = graphviz.Graph(strict=True)\n",
        "    \n",
        "for key, value in tree.items():\n",
        "    dot.node(name=str(key), label=str(key))\n",
        "    for v in value:\n",
        "        dot.edge(str(key),str(v[0]), label=str(v[1]))\n",
        "display(dot)\n"
      ],
      "execution_count": 100,
      "outputs": [
        {
          "output_type": "display_data",
          "data": {
            "text/plain": [
              "<graphviz.dot.Graph at 0x7f8b387af6d0>"
            ],
            "image/svg+xml": "<?xml version=\"1.0\" encoding=\"UTF-8\" standalone=\"no\"?>\n<!DOCTYPE svg PUBLIC \"-//W3C//DTD SVG 1.1//EN\"\n \"http://www.w3.org/Graphics/SVG/1.1/DTD/svg11.dtd\">\n<!-- Generated by graphviz version 2.40.1 (20161225.0304)\n -->\n<!-- Title: %3 Pages: 1 -->\n<svg width=\"226pt\" height=\"305pt\"\n viewBox=\"0.00 0.00 226.00 305.00\" xmlns=\"http://www.w3.org/2000/svg\" xmlns:xlink=\"http://www.w3.org/1999/xlink\">\n<g id=\"graph0\" class=\"graph\" transform=\"scale(1 1) rotate(0) translate(4 301)\">\n<title>%3</title>\n<polygon fill=\"#ffffff\" stroke=\"transparent\" points=\"-4,4 -4,-301 222,-301 222,4 -4,4\"/>\n<!-- 0 -->\n<g id=\"node1\" class=\"node\">\n<title>0</title>\n<ellipse fill=\"none\" stroke=\"#000000\" cx=\"32\" cy=\"-192\" rx=\"27\" ry=\"18\"/>\n<text text-anchor=\"middle\" x=\"32\" y=\"-188.3\" font-family=\"Times,serif\" font-size=\"14.00\" fill=\"#000000\">0</text>\n</g>\n<!-- 3 -->\n<g id=\"node2\" class=\"node\">\n<title>3</title>\n<ellipse fill=\"none\" stroke=\"#000000\" cx=\"27\" cy=\"-105\" rx=\"27\" ry=\"18\"/>\n<text text-anchor=\"middle\" x=\"27\" y=\"-101.3\" font-family=\"Times,serif\" font-size=\"14.00\" fill=\"#000000\">3</text>\n</g>\n<!-- 0&#45;&#45;3 -->\n<g id=\"edge1\" class=\"edge\">\n<title>0&#45;&#45;3</title>\n<path fill=\"none\" stroke=\"#000000\" d=\"M30.964,-173.9735C30.1059,-159.0422 28.8924,-137.9283 28.0347,-123.0034\"/>\n<text text-anchor=\"middle\" x=\"34\" y=\"-144.8\" font-family=\"Times,serif\" font-size=\"14.00\" fill=\"#000000\">9</text>\n</g>\n<!-- 4 -->\n<g id=\"node3\" class=\"node\">\n<title>4</title>\n<ellipse fill=\"none\" stroke=\"#000000\" cx=\"99\" cy=\"-105\" rx=\"27\" ry=\"18\"/>\n<text text-anchor=\"middle\" x=\"99\" y=\"-101.3\" font-family=\"Times,serif\" font-size=\"14.00\" fill=\"#000000\">4</text>\n</g>\n<!-- 0&#45;&#45;4 -->\n<g id=\"edge2\" class=\"edge\">\n<title>0&#45;&#45;4</title>\n<path fill=\"none\" stroke=\"#000000\" d=\"M44.6022,-175.636C56.5807,-160.0817 74.4945,-136.8206 86.4543,-121.2907\"/>\n<text text-anchor=\"middle\" x=\"73\" y=\"-144.8\" font-family=\"Times,serif\" font-size=\"14.00\" fill=\"#000000\">4</text>\n</g>\n<!-- 7 -->\n<g id=\"node8\" class=\"node\">\n<title>7</title>\n<ellipse fill=\"none\" stroke=\"#000000\" cx=\"99\" cy=\"-18\" rx=\"27\" ry=\"18\"/>\n<text text-anchor=\"middle\" x=\"99\" y=\"-14.3\" font-family=\"Times,serif\" font-size=\"14.00\" fill=\"#000000\">7</text>\n</g>\n<!-- 3&#45;&#45;7 -->\n<g id=\"edge7\" class=\"edge\">\n<title>3&#45;&#45;7</title>\n<path fill=\"none\" stroke=\"#000000\" d=\"M40.2059,-89.0429C53.197,-73.3453 72.9157,-49.5185 85.8778,-33.856\"/>\n<text text-anchor=\"middle\" x=\"71\" y=\"-57.8\" font-family=\"Times,serif\" font-size=\"14.00\" fill=\"#000000\">2</text>\n</g>\n<!-- 4&#45;&#45;7 -->\n<g id=\"edge8\" class=\"edge\">\n<title>4&#45;&#45;7</title>\n<path fill=\"none\" stroke=\"#000000\" d=\"M99,-86.9735C99,-72.0422 99,-50.9283 99,-36.0034\"/>\n<text text-anchor=\"middle\" x=\"103\" y=\"-57.8\" font-family=\"Times,serif\" font-size=\"14.00\" fill=\"#000000\">5</text>\n</g>\n<!-- 1 -->\n<g id=\"node4\" class=\"node\">\n<title>1</title>\n<ellipse fill=\"none\" stroke=\"#000000\" cx=\"191\" cy=\"-279\" rx=\"27\" ry=\"18\"/>\n<text text-anchor=\"middle\" x=\"191\" y=\"-275.3\" font-family=\"Times,serif\" font-size=\"14.00\" fill=\"#000000\">1</text>\n</g>\n<!-- 5 -->\n<g id=\"node5\" class=\"node\">\n<title>5</title>\n<ellipse fill=\"none\" stroke=\"#000000\" cx=\"152\" cy=\"-192\" rx=\"27\" ry=\"18\"/>\n<text text-anchor=\"middle\" x=\"152\" y=\"-188.3\" font-family=\"Times,serif\" font-size=\"14.00\" fill=\"#000000\">5</text>\n</g>\n<!-- 1&#45;&#45;5 -->\n<g id=\"edge3\" class=\"edge\">\n<title>1&#45;&#45;5</title>\n<path fill=\"none\" stroke=\"#000000\" d=\"M183.1078,-261.3943C176.2969,-246.2008 166.5157,-224.3812 159.7474,-209.2827\"/>\n<text text-anchor=\"middle\" x=\"177\" y=\"-231.8\" font-family=\"Times,serif\" font-size=\"14.00\" fill=\"#000000\">3</text>\n</g>\n<!-- 6 -->\n<g id=\"node6\" class=\"node\">\n<title>6</title>\n<ellipse fill=\"none\" stroke=\"#000000\" cx=\"171\" cy=\"-105\" rx=\"27\" ry=\"18\"/>\n<text text-anchor=\"middle\" x=\"171\" y=\"-101.3\" font-family=\"Times,serif\" font-size=\"14.00\" fill=\"#000000\">6</text>\n</g>\n<!-- 1&#45;&#45;6 -->\n<g id=\"edge4\" class=\"edge\">\n<title>1&#45;&#45;6</title>\n<path fill=\"none\" stroke=\"#000000\" d=\"M191.6513,-260.6939C192.1281,-239.666 192.1009,-204.1778 188,-174 185.5911,-156.2737 180.4572,-136.4917 176.458,-122.6695\"/>\n<text text-anchor=\"middle\" x=\"195\" y=\"-188.3\" font-family=\"Times,serif\" font-size=\"14.00\" fill=\"#000000\">2</text>\n</g>\n<!-- 5&#45;&#45;6 -->\n<g id=\"edge9\" class=\"edge\">\n<title>5&#45;&#45;6</title>\n<path fill=\"none\" stroke=\"#000000\" d=\"M155.9368,-173.9735C159.1977,-159.0422 163.8088,-137.9283 167.0682,-123.0034\"/>\n<text text-anchor=\"middle\" x=\"166\" y=\"-144.8\" font-family=\"Times,serif\" font-size=\"14.00\" fill=\"#000000\">6</text>\n</g>\n<!-- 6&#45;&#45;7 -->\n<g id=\"edge10\" class=\"edge\">\n<title>6&#45;&#45;7</title>\n<path fill=\"none\" stroke=\"#000000\" d=\"M157.7941,-89.0429C144.803,-73.3453 125.0843,-49.5185 112.1222,-33.856\"/>\n<text text-anchor=\"middle\" x=\"143\" y=\"-57.8\" font-family=\"Times,serif\" font-size=\"14.00\" fill=\"#000000\">4</text>\n</g>\n<!-- 2 -->\n<g id=\"node7\" class=\"node\">\n<title>2</title>\n<ellipse fill=\"none\" stroke=\"#000000\" cx=\"106\" cy=\"-279\" rx=\"27\" ry=\"18\"/>\n<text text-anchor=\"middle\" x=\"106\" y=\"-275.3\" font-family=\"Times,serif\" font-size=\"14.00\" fill=\"#000000\">2</text>\n</g>\n<!-- 2&#45;&#45;4 -->\n<g id=\"edge5\" class=\"edge\">\n<title>2&#45;&#45;4</title>\n<path fill=\"none\" stroke=\"#000000\" d=\"M105.2641,-260.7078C103.9162,-227.2024 101.0666,-156.3695 99.726,-123.0471\"/>\n<text text-anchor=\"middle\" x=\"107\" y=\"-188.3\" font-family=\"Times,serif\" font-size=\"14.00\" fill=\"#000000\">3</text>\n</g>\n<!-- 2&#45;&#45;5 -->\n<g id=\"edge6\" class=\"edge\">\n<title>2&#45;&#45;5</title>\n<path fill=\"none\" stroke=\"#000000\" d=\"M115.0881,-261.8116C123.1526,-246.5593 134.872,-224.3942 142.9308,-209.1527\"/>\n<text text-anchor=\"middle\" x=\"135\" y=\"-231.8\" font-family=\"Times,serif\" font-size=\"14.00\" fill=\"#000000\">5</text>\n</g>\n</g>\n</svg>\n"
          },
          "metadata": {
            "tags": []
          }
        },
        {
          "output_type": "stream",
          "text": [
            "Kruskal\n",
            "Arvore minima: defaultdict(<class 'list'>, {1: [(6, 2), (5, 3)], 3: [(7, 2)], 2: [(4, 3), (5, 5)], 0: [(4, 4)], 6: [(7, 4)]})\n",
            "Custo total 23\n"
          ],
          "name": "stdout"
        },
        {
          "output_type": "display_data",
          "data": {
            "text/plain": [
              "<graphviz.dot.Graph at 0x7f8b34626910>"
            ],
            "image/svg+xml": "<?xml version=\"1.0\" encoding=\"UTF-8\" standalone=\"no\"?>\n<!DOCTYPE svg PUBLIC \"-//W3C//DTD SVG 1.1//EN\"\n \"http://www.w3.org/Graphics/SVG/1.1/DTD/svg11.dtd\">\n<!-- Generated by graphviz version 2.40.1 (20161225.0304)\n -->\n<!-- Title: %3 Pages: 1 -->\n<svg width=\"278pt\" height=\"218pt\"\n viewBox=\"0.00 0.00 278.00 218.00\" xmlns=\"http://www.w3.org/2000/svg\" xmlns:xlink=\"http://www.w3.org/1999/xlink\">\n<g id=\"graph0\" class=\"graph\" transform=\"scale(1 1) rotate(0) translate(4 214)\">\n<title>%3</title>\n<polygon fill=\"#ffffff\" stroke=\"transparent\" points=\"-4,4 -4,-214 274,-214 274,4 -4,4\"/>\n<!-- 1 -->\n<g id=\"node1\" class=\"node\">\n<title>1</title>\n<ellipse fill=\"none\" stroke=\"#000000\" cx=\"58\" cy=\"-192\" rx=\"27\" ry=\"18\"/>\n<text text-anchor=\"middle\" x=\"58\" y=\"-188.3\" font-family=\"Times,serif\" font-size=\"14.00\" fill=\"#000000\">1</text>\n</g>\n<!-- 6 -->\n<g id=\"node2\" class=\"node\">\n<title>6</title>\n<ellipse fill=\"none\" stroke=\"#000000\" cx=\"27\" cy=\"-105\" rx=\"27\" ry=\"18\"/>\n<text text-anchor=\"middle\" x=\"27\" y=\"-101.3\" font-family=\"Times,serif\" font-size=\"14.00\" fill=\"#000000\">6</text>\n</g>\n<!-- 1&#45;&#45;6 -->\n<g id=\"edge1\" class=\"edge\">\n<title>1&#45;&#45;6</title>\n<path fill=\"none\" stroke=\"#000000\" d=\"M51.7267,-174.3943C46.3483,-159.3001 38.6396,-137.6661 33.264,-122.5796\"/>\n<text text-anchor=\"middle\" x=\"49\" y=\"-144.8\" font-family=\"Times,serif\" font-size=\"14.00\" fill=\"#000000\">2</text>\n</g>\n<!-- 5 -->\n<g id=\"node3\" class=\"node\">\n<title>5</title>\n<ellipse fill=\"none\" stroke=\"#000000\" cx=\"99\" cy=\"-105\" rx=\"27\" ry=\"18\"/>\n<text text-anchor=\"middle\" x=\"99\" y=\"-101.3\" font-family=\"Times,serif\" font-size=\"14.00\" fill=\"#000000\">5</text>\n</g>\n<!-- 1&#45;&#45;5 -->\n<g id=\"edge2\" class=\"edge\">\n<title>1&#45;&#45;5</title>\n<path fill=\"none\" stroke=\"#000000\" d=\"M66.214,-174.5304C70.8464,-164.6817 76.7425,-152.1527 82,-141 84.8883,-134.8731 88.0565,-128.1614 90.867,-122.2106\"/>\n<text text-anchor=\"middle\" x=\"86\" y=\"-144.8\" font-family=\"Times,serif\" font-size=\"14.00\" fill=\"#000000\">3</text>\n</g>\n<!-- 7 -->\n<g id=\"node5\" class=\"node\">\n<title>7</title>\n<ellipse fill=\"none\" stroke=\"#000000\" cx=\"99\" cy=\"-18\" rx=\"27\" ry=\"18\"/>\n<text text-anchor=\"middle\" x=\"99\" y=\"-14.3\" font-family=\"Times,serif\" font-size=\"14.00\" fill=\"#000000\">7</text>\n</g>\n<!-- 6&#45;&#45;7 -->\n<g id=\"edge7\" class=\"edge\">\n<title>6&#45;&#45;7</title>\n<path fill=\"none\" stroke=\"#000000\" d=\"M40.2059,-89.0429C53.197,-73.3453 72.9157,-49.5185 85.8778,-33.856\"/>\n<text text-anchor=\"middle\" x=\"72\" y=\"-57.8\" font-family=\"Times,serif\" font-size=\"14.00\" fill=\"#000000\">4</text>\n</g>\n<!-- 3 -->\n<g id=\"node4\" class=\"node\">\n<title>3</title>\n<ellipse fill=\"none\" stroke=\"#000000\" cx=\"171\" cy=\"-105\" rx=\"27\" ry=\"18\"/>\n<text text-anchor=\"middle\" x=\"171\" y=\"-101.3\" font-family=\"Times,serif\" font-size=\"14.00\" fill=\"#000000\">3</text>\n</g>\n<!-- 3&#45;&#45;7 -->\n<g id=\"edge3\" class=\"edge\">\n<title>3&#45;&#45;7</title>\n<path fill=\"none\" stroke=\"#000000\" d=\"M157.7941,-89.0429C144.803,-73.3453 125.0843,-49.5185 112.1222,-33.856\"/>\n<text text-anchor=\"middle\" x=\"143\" y=\"-57.8\" font-family=\"Times,serif\" font-size=\"14.00\" fill=\"#000000\">2</text>\n</g>\n<!-- 2 -->\n<g id=\"node6\" class=\"node\">\n<title>2</title>\n<ellipse fill=\"none\" stroke=\"#000000\" cx=\"144\" cy=\"-192\" rx=\"27\" ry=\"18\"/>\n<text text-anchor=\"middle\" x=\"144\" y=\"-188.3\" font-family=\"Times,serif\" font-size=\"14.00\" fill=\"#000000\">2</text>\n</g>\n<!-- 2&#45;&#45;5 -->\n<g id=\"edge5\" class=\"edge\">\n<title>2&#45;&#45;5</title>\n<path fill=\"none\" stroke=\"#000000\" d=\"M135.1094,-174.8116C127.2203,-159.5593 115.7556,-137.3942 107.8721,-122.1527\"/>\n<text text-anchor=\"middle\" x=\"128\" y=\"-144.8\" font-family=\"Times,serif\" font-size=\"14.00\" fill=\"#000000\">5</text>\n</g>\n<!-- 4 -->\n<g id=\"node7\" class=\"node\">\n<title>4</title>\n<ellipse fill=\"none\" stroke=\"#000000\" cx=\"243\" cy=\"-105\" rx=\"27\" ry=\"18\"/>\n<text text-anchor=\"middle\" x=\"243\" y=\"-101.3\" font-family=\"Times,serif\" font-size=\"14.00\" fill=\"#000000\">4</text>\n</g>\n<!-- 2&#45;&#45;4 -->\n<g id=\"edge4\" class=\"edge\">\n<title>2&#45;&#45;4</title>\n<path fill=\"none\" stroke=\"#000000\" d=\"M160.3478,-177.6337C178.6909,-161.514 208.2749,-135.516 226.6279,-119.3876\"/>\n<text text-anchor=\"middle\" x=\"203\" y=\"-144.8\" font-family=\"Times,serif\" font-size=\"14.00\" fill=\"#000000\">3</text>\n</g>\n<!-- 0 -->\n<g id=\"node8\" class=\"node\">\n<title>0</title>\n<ellipse fill=\"none\" stroke=\"#000000\" cx=\"243\" cy=\"-192\" rx=\"27\" ry=\"18\"/>\n<text text-anchor=\"middle\" x=\"243\" y=\"-188.3\" font-family=\"Times,serif\" font-size=\"14.00\" fill=\"#000000\">0</text>\n</g>\n<!-- 0&#45;&#45;4 -->\n<g id=\"edge6\" class=\"edge\">\n<title>0&#45;&#45;4</title>\n<path fill=\"none\" stroke=\"#000000\" d=\"M243,-173.9735C243,-159.0422 243,-137.9283 243,-123.0034\"/>\n<text text-anchor=\"middle\" x=\"247\" y=\"-144.8\" font-family=\"Times,serif\" font-size=\"14.00\" fill=\"#000000\">4</text>\n</g>\n</g>\n</svg>\n"
          },
          "metadata": {
            "tags": []
          }
        }
      ]
    },
    {
      "cell_type": "markdown",
      "metadata": {
        "id": "5uSHkU67RBG7"
      },
      "source": [
        "## Prim"
      ]
    },
    {
      "cell_type": "code",
      "metadata": {
        "cellView": "form",
        "id": "jd-L2smYRBG8"
      },
      "source": [
        "#@title Algoritmo Prim\n",
        "class Node :\n",
        "\n",
        "    def __init__(self, arg_id) :\n",
        "        self._id = arg_id\n",
        "\n",
        "class Graph :\n",
        "\n",
        "    def __init__(self, arg_source, arg_adj_list) :\n",
        "        self.source = arg_source\n",
        "        self.adjlist = arg_adj_list\n",
        "\n",
        "    def PrimsMST(self):\n",
        "\n",
        "        # Priority queue is implemented as a dictionary with\n",
        "        # key as an object of 'Node' class and value as the cost of \n",
        "        # reaching the node from the source.\n",
        "        # Since the priority queue can have multiple entries for the\n",
        "        # same adjacent node but a different cost, we have to use objects as\n",
        "        # keys so that they can be stored in a dictionary. \n",
        "        # [As dictionary can't have duplicate keys so objectify the key]\n",
        "\n",
        "        # The distance of source node from itself is 0. Add source node as the first node\n",
        "        # in the priority queue\n",
        "        priority_queue = { Node(self.source) : (None,0) }\n",
        "        added = [False] * len(self.adjlist)\n",
        "        min_span_tree_cost = 0\n",
        "        min_span_tree = defaultdict(list)\n",
        "        min_tree = {}\n",
        "        cost_list = []\n",
        "\n",
        "        while priority_queue :\n",
        "            # Choose the adjacent node with the least edge cost\n",
        "            #node = min (priority_queue, key=priority_queue.get)\n",
        "            node = min (priority_queue, key=lambda k: priority_queue[k][1])\n",
        "            cost = priority_queue[node][1]\n",
        "            source = priority_queue[node][0]\n",
        "\n",
        "            # Remove the node from the priority queue\n",
        "            del priority_queue[node]\n",
        "\n",
        "            if added[node._id] == False :\n",
        "                min_span_tree_cost += cost\n",
        "                cost_list.append(cost)\n",
        "                added[node._id] = True\n",
        "                #print(\"Added Node : [{} - {}]\".format(source,node._id) + \", cost now : \"+str(min_span_tree_cost))\n",
        "                if source is not None:\n",
        "                  min_span_tree[source].append((node._id, cost))\n",
        "\n",
        "                for item in self.adjlist[node._id] :\n",
        "                    adjnode = item[0]\n",
        "                    adjcost = item[1]\n",
        "                    if added[adjnode] == False :\n",
        "                        #priority_queue[Node(adjnode)] = adjcost\n",
        "                        priority_queue[Node(adjnode)] = (node._id, adjcost)\n",
        "                        \n",
        "        # Converte os objetos para dicionario\n",
        "        #tree = defaultdict(list)\n",
        "        \n",
        "        # Cria um dicionario dos nos com as arestas...um formato mais amigavel para imprimi   \n",
        "        #last_node = min_span_tree.pop(0)._id\n",
        "        #cost_list.pop(0)\n",
        "       #for n,c in zip(min_span_tree, cost_list):\n",
        "        #    tree[last_node] = [(n._id, c)]\n",
        "         #   last_node = n._id\n",
        "            \n",
        "        #g_tree = Graph(self.source, tree)\n",
        "\n",
        "        return min_span_tree, min_span_tree_cost\n",
        "    \n",
        "    def print_graph(self):\n",
        "        graph = defaultdict(list)\n",
        "       \n",
        "               \n",
        "        dot = graphviz.Graph(strict=True)\n",
        "            \n",
        "        for key, value in  self.adjlist.items():\n",
        "            dot.node(name=str(key), label=str(key))\n",
        "            for v in value:\n",
        "                dot.edge(str(key),str(v[0]), label=str(v[1]))\n",
        "\n",
        "        display(dot)"
      ],
      "execution_count": 101,
      "outputs": []
    },
    {
      "cell_type": "markdown",
      "metadata": {
        "id": "Ur7jfyOxRBG9"
      },
      "source": [
        "## S348E1 Mostre os algoritmos de Prim e de Kruskal para os grafos abaixo"
      ]
    },
    {
      "cell_type": "markdown",
      "metadata": {
        "id": "093rUMURRBG9"
      },
      "source": [
        "## G1 Prim"
      ]
    },
    {
      "cell_type": "code",
      "metadata": {
        "colab": {
          "base_uri": "https://localhost:8080/",
          "height": 1000
        },
        "id": "ZYhUZu1GRBG-",
        "outputId": "884bccd0-d26f-4b6a-ffdc-47b9f9f83bcf"
      },
      "source": [
        "g1 = Graph(0, g1_dict)\n",
        "g1.print_graph()\n",
        "\n",
        "print(\"Prim\")\n",
        "tree, cost = g1.PrimsMST()\n",
        "print(\"Custo {}\".format(cost))\n",
        "\n",
        "dot = graphviz.Graph(strict=True)\n",
        "for key, value in tree.items():\n",
        "    dot.node(name=str(key), label=str(key))\n",
        "    for v in value:\n",
        "        dot.edge(str(key),str(v[0]), label=str(v[1]))\n",
        "display(dot)"
      ],
      "execution_count": 102,
      "outputs": [
        {
          "output_type": "display_data",
          "data": {
            "text/plain": [
              "<graphviz.dot.Graph at 0x7f8b34626fd0>"
            ],
            "image/svg+xml": "<?xml version=\"1.0\" encoding=\"UTF-8\" standalone=\"no\"?>\n<!DOCTYPE svg PUBLIC \"-//W3C//DTD SVG 1.1//EN\"\n \"http://www.w3.org/Graphics/SVG/1.1/DTD/svg11.dtd\">\n<!-- Generated by graphviz version 2.40.1 (20161225.0304)\n -->\n<!-- Title: %3 Pages: 1 -->\n<svg width=\"250pt\" height=\"392pt\"\n viewBox=\"0.00 0.00 250.00 392.00\" xmlns=\"http://www.w3.org/2000/svg\" xmlns:xlink=\"http://www.w3.org/1999/xlink\">\n<g id=\"graph0\" class=\"graph\" transform=\"scale(1 1) rotate(0) translate(4 388)\">\n<title>%3</title>\n<polygon fill=\"#ffffff\" stroke=\"transparent\" points=\"-4,4 -4,-388 246,-388 246,4 -4,4\"/>\n<!-- 0 -->\n<g id=\"node1\" class=\"node\">\n<title>0</title>\n<ellipse fill=\"none\" stroke=\"#000000\" cx=\"133\" cy=\"-366\" rx=\"27\" ry=\"18\"/>\n<text text-anchor=\"middle\" x=\"133\" y=\"-362.3\" font-family=\"Times,serif\" font-size=\"14.00\" fill=\"#000000\">0</text>\n</g>\n<!-- 1 -->\n<g id=\"node2\" class=\"node\">\n<title>1</title>\n<ellipse fill=\"none\" stroke=\"#000000\" cx=\"86\" cy=\"-279\" rx=\"27\" ry=\"18\"/>\n<text text-anchor=\"middle\" x=\"86\" y=\"-275.3\" font-family=\"Times,serif\" font-size=\"14.00\" fill=\"#000000\">1</text>\n</g>\n<!-- 0&#45;&#45;1 -->\n<g id=\"edge1\" class=\"edge\">\n<title>0&#45;&#45;1</title>\n<path fill=\"none\" stroke=\"#000000\" d=\"M123.7143,-348.8116C115.4746,-333.5593 103.5003,-311.3942 95.2664,-296.1527\"/>\n<text text-anchor=\"middle\" x=\"117\" y=\"-318.8\" font-family=\"Times,serif\" font-size=\"14.00\" fill=\"#000000\">4</text>\n</g>\n<!-- 3 -->\n<g id=\"node3\" class=\"node\">\n<title>3</title>\n<ellipse fill=\"none\" stroke=\"#000000\" cx=\"152\" cy=\"-192\" rx=\"27\" ry=\"18\"/>\n<text text-anchor=\"middle\" x=\"152\" y=\"-188.3\" font-family=\"Times,serif\" font-size=\"14.00\" fill=\"#000000\">3</text>\n</g>\n<!-- 0&#45;&#45;3 -->\n<g id=\"edge2\" class=\"edge\">\n<title>0&#45;&#45;3</title>\n<path fill=\"none\" stroke=\"#000000\" d=\"M134.9618,-348.0343C138.6026,-314.6918 146.3662,-243.5937 150.0204,-210.1286\"/>\n<text text-anchor=\"middle\" x=\"148\" y=\"-275.3\" font-family=\"Times,serif\" font-size=\"14.00\" fill=\"#000000\">4</text>\n</g>\n<!-- 1&#45;&#45;3 -->\n<g id=\"edge4\" class=\"edge\">\n<title>1&#45;&#45;3</title>\n<path fill=\"none\" stroke=\"#000000\" d=\"M98.4141,-262.636C110.2138,-247.0817 127.8602,-223.8206 139.6416,-208.2907\"/>\n<text text-anchor=\"middle\" x=\"127\" y=\"-231.8\" font-family=\"Times,serif\" font-size=\"14.00\" fill=\"#000000\">3</text>\n</g>\n<!-- 2 -->\n<g id=\"node4\" class=\"node\">\n<title>2</title>\n<ellipse fill=\"none\" stroke=\"#000000\" cx=\"80\" cy=\"-192\" rx=\"27\" ry=\"18\"/>\n<text text-anchor=\"middle\" x=\"80\" y=\"-188.3\" font-family=\"Times,serif\" font-size=\"14.00\" fill=\"#000000\">2</text>\n</g>\n<!-- 1&#45;&#45;2 -->\n<g id=\"edge3\" class=\"edge\">\n<title>1&#45;&#45;2</title>\n<path fill=\"none\" stroke=\"#000000\" d=\"M84.7568,-260.9735C83.727,-246.0422 82.2709,-224.9283 81.2416,-210.0034\"/>\n<text text-anchor=\"middle\" x=\"88\" y=\"-231.8\" font-family=\"Times,serif\" font-size=\"14.00\" fill=\"#000000\">1</text>\n</g>\n<!-- 6 -->\n<g id=\"node5\" class=\"node\">\n<title>6</title>\n<ellipse fill=\"none\" stroke=\"#000000\" cx=\"27\" cy=\"-105\" rx=\"27\" ry=\"18\"/>\n<text text-anchor=\"middle\" x=\"27\" y=\"-101.3\" font-family=\"Times,serif\" font-size=\"14.00\" fill=\"#000000\">6</text>\n</g>\n<!-- 1&#45;&#45;6 -->\n<g id=\"edge5\" class=\"edge\">\n<title>1&#45;&#45;6</title>\n<path fill=\"none\" stroke=\"#000000\" d=\"M71.1266,-263.7409C59.365,-250.6435 43.6884,-230.6582 36,-210 25.2151,-181.0216 24.7474,-144.5441 25.6751,-123.0976\"/>\n<text text-anchor=\"middle\" x=\"40\" y=\"-188.3\" font-family=\"Times,serif\" font-size=\"14.00\" fill=\"#000000\">4</text>\n</g>\n<!-- 5 -->\n<g id=\"node6\" class=\"node\">\n<title>5</title>\n<ellipse fill=\"none\" stroke=\"#000000\" cx=\"99\" cy=\"-105\" rx=\"27\" ry=\"18\"/>\n<text text-anchor=\"middle\" x=\"99\" y=\"-101.3\" font-family=\"Times,serif\" font-size=\"14.00\" fill=\"#000000\">5</text>\n</g>\n<!-- 3&#45;&#45;5 -->\n<g id=\"edge8\" class=\"edge\">\n<title>3&#45;&#45;5</title>\n<path fill=\"none\" stroke=\"#000000\" d=\"M141.7811,-175.2255C132.396,-159.8198 118.5627,-137.1124 109.1876,-121.723\"/>\n<text text-anchor=\"middle\" x=\"132\" y=\"-144.8\" font-family=\"Times,serif\" font-size=\"14.00\" fill=\"#000000\">1</text>\n</g>\n<!-- 7 -->\n<g id=\"node7\" class=\"node\">\n<title>7</title>\n<ellipse fill=\"none\" stroke=\"#000000\" cx=\"130\" cy=\"-18\" rx=\"27\" ry=\"18\"/>\n<text text-anchor=\"middle\" x=\"130\" y=\"-14.3\" font-family=\"Times,serif\" font-size=\"14.00\" fill=\"#000000\">7</text>\n</g>\n<!-- 3&#45;&#45;7 -->\n<g id=\"edge9\" class=\"edge\">\n<title>3&#45;&#45;7</title>\n<path fill=\"none\" stroke=\"#000000\" d=\"M149.7285,-174.0343C145.5128,-140.6918 136.5233,-69.5937 132.2921,-36.1286\"/>\n<text text-anchor=\"middle\" x=\"147\" y=\"-101.3\" font-family=\"Times,serif\" font-size=\"14.00\" fill=\"#000000\">6</text>\n</g>\n<!-- 2&#45;&#45;6 -->\n<g id=\"edge7\" class=\"edge\">\n<title>2&#45;&#45;6</title>\n<path fill=\"none\" stroke=\"#000000\" d=\"M69.7811,-175.2255C60.396,-159.8198 46.5627,-137.1124 37.1876,-121.723\"/>\n<text text-anchor=\"middle\" x=\"61\" y=\"-144.8\" font-family=\"Times,serif\" font-size=\"14.00\" fill=\"#000000\">1</text>\n</g>\n<!-- 2&#45;&#45;5 -->\n<g id=\"edge6\" class=\"edge\">\n<title>2&#45;&#45;5</title>\n<path fill=\"none\" stroke=\"#000000\" d=\"M83.9368,-173.9735C87.1977,-159.0422 91.8088,-137.9283 95.0682,-123.0034\"/>\n<text text-anchor=\"middle\" x=\"95\" y=\"-144.8\" font-family=\"Times,serif\" font-size=\"14.00\" fill=\"#000000\">5</text>\n</g>\n<!-- 6&#45;&#45;7 -->\n<g id=\"edge12\" class=\"edge\">\n<title>6&#45;&#45;7</title>\n<path fill=\"none\" stroke=\"#000000\" d=\"M44.0084,-90.6337C63.0926,-74.514 93.8718,-48.516 112.9664,-32.3876\"/>\n<text text-anchor=\"middle\" x=\"89\" y=\"-57.8\" font-family=\"Times,serif\" font-size=\"14.00\" fill=\"#000000\">4</text>\n</g>\n<!-- 5&#45;&#45;7 -->\n<g id=\"edge11\" class=\"edge\">\n<title>5&#45;&#45;7</title>\n<path fill=\"none\" stroke=\"#000000\" d=\"M105.2733,-87.3943C110.6517,-72.3001 118.3604,-50.6661 123.736,-35.5796\"/>\n<text text-anchor=\"middle\" x=\"121\" y=\"-57.8\" font-family=\"Times,serif\" font-size=\"14.00\" fill=\"#000000\">3</text>\n</g>\n<!-- 4 -->\n<g id=\"node8\" class=\"node\">\n<title>4</title>\n<ellipse fill=\"none\" stroke=\"#000000\" cx=\"215\" cy=\"-105\" rx=\"27\" ry=\"18\"/>\n<text text-anchor=\"middle\" x=\"215\" y=\"-101.3\" font-family=\"Times,serif\" font-size=\"14.00\" fill=\"#000000\">4</text>\n</g>\n<!-- 4&#45;&#45;7 -->\n<g id=\"edge10\" class=\"edge\">\n<title>4&#45;&#45;7</title>\n<path fill=\"none\" stroke=\"#000000\" d=\"M204.0255,-88.5277C196.6953,-78.0959 186.5021,-64.6204 176,-54 167.7286,-45.6354 157.5083,-37.4597 148.8037,-31.019\"/>\n<text text-anchor=\"middle\" x=\"192\" y=\"-57.8\" font-family=\"Times,serif\" font-size=\"14.00\" fill=\"#000000\">8</text>\n</g>\n</g>\n</svg>\n"
          },
          "metadata": {
            "tags": []
          }
        },
        {
          "output_type": "stream",
          "text": [
            "Prim\n",
            "Custo 21\n"
          ],
          "name": "stdout"
        },
        {
          "output_type": "display_data",
          "data": {
            "text/plain": [
              "<graphviz.dot.Graph at 0x7f8b345b4450>"
            ],
            "image/svg+xml": "<?xml version=\"1.0\" encoding=\"UTF-8\" standalone=\"no\"?>\n<!DOCTYPE svg PUBLIC \"-//W3C//DTD SVG 1.1//EN\"\n \"http://www.w3.org/Graphics/SVG/1.1/DTD/svg11.dtd\">\n<!-- Generated by graphviz version 2.40.1 (20161225.0304)\n -->\n<!-- Title: %3 Pages: 1 -->\n<svg width=\"134pt\" height=\"479pt\"\n viewBox=\"0.00 0.00 134.00 479.00\" xmlns=\"http://www.w3.org/2000/svg\" xmlns:xlink=\"http://www.w3.org/1999/xlink\">\n<g id=\"graph0\" class=\"graph\" transform=\"scale(1 1) rotate(0) translate(4 475)\">\n<title>%3</title>\n<polygon fill=\"#ffffff\" stroke=\"transparent\" points=\"-4,4 -4,-475 130,-475 130,4 -4,4\"/>\n<!-- 0 -->\n<g id=\"node1\" class=\"node\">\n<title>0</title>\n<ellipse fill=\"none\" stroke=\"#000000\" cx=\"62\" cy=\"-453\" rx=\"27\" ry=\"18\"/>\n<text text-anchor=\"middle\" x=\"62\" y=\"-449.3\" font-family=\"Times,serif\" font-size=\"14.00\" fill=\"#000000\">0</text>\n</g>\n<!-- 1 -->\n<g id=\"node2\" class=\"node\">\n<title>1</title>\n<ellipse fill=\"none\" stroke=\"#000000\" cx=\"62\" cy=\"-366\" rx=\"27\" ry=\"18\"/>\n<text text-anchor=\"middle\" x=\"62\" y=\"-362.3\" font-family=\"Times,serif\" font-size=\"14.00\" fill=\"#000000\">1</text>\n</g>\n<!-- 0&#45;&#45;1 -->\n<g id=\"edge1\" class=\"edge\">\n<title>0&#45;&#45;1</title>\n<path fill=\"none\" stroke=\"#000000\" d=\"M62,-434.9735C62,-420.0422 62,-398.9283 62,-384.0034\"/>\n<text text-anchor=\"middle\" x=\"66\" y=\"-405.8\" font-family=\"Times,serif\" font-size=\"14.00\" fill=\"#000000\">4</text>\n</g>\n<!-- 2 -->\n<g id=\"node3\" class=\"node\">\n<title>2</title>\n<ellipse fill=\"none\" stroke=\"#000000\" cx=\"27\" cy=\"-279\" rx=\"27\" ry=\"18\"/>\n<text text-anchor=\"middle\" x=\"27\" y=\"-275.3\" font-family=\"Times,serif\" font-size=\"14.00\" fill=\"#000000\">2</text>\n</g>\n<!-- 1&#45;&#45;2 -->\n<g id=\"edge2\" class=\"edge\">\n<title>1&#45;&#45;2</title>\n<path fill=\"none\" stroke=\"#000000\" d=\"M54.9172,-348.3943C48.8449,-333.3001 40.1415,-311.6661 34.0722,-296.5796\"/>\n<text text-anchor=\"middle\" x=\"50\" y=\"-318.8\" font-family=\"Times,serif\" font-size=\"14.00\" fill=\"#000000\">1</text>\n</g>\n<!-- 3 -->\n<g id=\"node4\" class=\"node\">\n<title>3</title>\n<ellipse fill=\"none\" stroke=\"#000000\" cx=\"99\" cy=\"-279\" rx=\"27\" ry=\"18\"/>\n<text text-anchor=\"middle\" x=\"99\" y=\"-275.3\" font-family=\"Times,serif\" font-size=\"14.00\" fill=\"#000000\">3</text>\n</g>\n<!-- 1&#45;&#45;3 -->\n<g id=\"edge3\" class=\"edge\">\n<title>1&#45;&#45;3</title>\n<path fill=\"none\" stroke=\"#000000\" d=\"M69.4875,-348.3943C75.9068,-333.3001 85.1075,-311.6661 91.5236,-296.5796\"/>\n<text text-anchor=\"middle\" x=\"86\" y=\"-318.8\" font-family=\"Times,serif\" font-size=\"14.00\" fill=\"#000000\">3</text>\n</g>\n<!-- 6 -->\n<g id=\"node5\" class=\"node\">\n<title>6</title>\n<ellipse fill=\"none\" stroke=\"#000000\" cx=\"27\" cy=\"-192\" rx=\"27\" ry=\"18\"/>\n<text text-anchor=\"middle\" x=\"27\" y=\"-188.3\" font-family=\"Times,serif\" font-size=\"14.00\" fill=\"#000000\">6</text>\n</g>\n<!-- 2&#45;&#45;6 -->\n<g id=\"edge4\" class=\"edge\">\n<title>2&#45;&#45;6</title>\n<path fill=\"none\" stroke=\"#000000\" d=\"M27,-260.9735C27,-246.0422 27,-224.9283 27,-210.0034\"/>\n<text text-anchor=\"middle\" x=\"31\" y=\"-231.8\" font-family=\"Times,serif\" font-size=\"14.00\" fill=\"#000000\">1</text>\n</g>\n<!-- 5 -->\n<g id=\"node6\" class=\"node\">\n<title>5</title>\n<ellipse fill=\"none\" stroke=\"#000000\" cx=\"99\" cy=\"-192\" rx=\"27\" ry=\"18\"/>\n<text text-anchor=\"middle\" x=\"99\" y=\"-188.3\" font-family=\"Times,serif\" font-size=\"14.00\" fill=\"#000000\">5</text>\n</g>\n<!-- 3&#45;&#45;5 -->\n<g id=\"edge5\" class=\"edge\">\n<title>3&#45;&#45;5</title>\n<path fill=\"none\" stroke=\"#000000\" d=\"M99,-260.9735C99,-246.0422 99,-224.9283 99,-210.0034\"/>\n<text text-anchor=\"middle\" x=\"103\" y=\"-231.8\" font-family=\"Times,serif\" font-size=\"14.00\" fill=\"#000000\">1</text>\n</g>\n<!-- 7 -->\n<g id=\"node7\" class=\"node\">\n<title>7</title>\n<ellipse fill=\"none\" stroke=\"#000000\" cx=\"99\" cy=\"-105\" rx=\"27\" ry=\"18\"/>\n<text text-anchor=\"middle\" x=\"99\" y=\"-101.3\" font-family=\"Times,serif\" font-size=\"14.00\" fill=\"#000000\">7</text>\n</g>\n<!-- 5&#45;&#45;7 -->\n<g id=\"edge6\" class=\"edge\">\n<title>5&#45;&#45;7</title>\n<path fill=\"none\" stroke=\"#000000\" d=\"M99,-173.9735C99,-159.0422 99,-137.9283 99,-123.0034\"/>\n<text text-anchor=\"middle\" x=\"103\" y=\"-144.8\" font-family=\"Times,serif\" font-size=\"14.00\" fill=\"#000000\">3</text>\n</g>\n<!-- 4 -->\n<g id=\"node8\" class=\"node\">\n<title>4</title>\n<ellipse fill=\"none\" stroke=\"#000000\" cx=\"99\" cy=\"-18\" rx=\"27\" ry=\"18\"/>\n<text text-anchor=\"middle\" x=\"99\" y=\"-14.3\" font-family=\"Times,serif\" font-size=\"14.00\" fill=\"#000000\">4</text>\n</g>\n<!-- 7&#45;&#45;4 -->\n<g id=\"edge7\" class=\"edge\">\n<title>7&#45;&#45;4</title>\n<path fill=\"none\" stroke=\"#000000\" d=\"M99,-86.9735C99,-72.0422 99,-50.9283 99,-36.0034\"/>\n<text text-anchor=\"middle\" x=\"103\" y=\"-57.8\" font-family=\"Times,serif\" font-size=\"14.00\" fill=\"#000000\">8</text>\n</g>\n</g>\n</svg>\n"
          },
          "metadata": {
            "tags": []
          }
        }
      ]
    },
    {
      "cell_type": "markdown",
      "metadata": {
        "id": "q8QQ-3UsRBG-"
      },
      "source": [
        "## G2 Prim"
      ]
    },
    {
      "cell_type": "code",
      "metadata": {
        "colab": {
          "base_uri": "https://localhost:8080/",
          "height": 1000
        },
        "id": "fL1g-EXyRBG_",
        "outputId": "52090c94-18ea-4cc5-f8d7-6902c8bfc180"
      },
      "source": [
        "g2 = Graph(0, g2_dict)\n",
        "g2.print_graph()\n",
        "print(\"Prim\")\n",
        "tree, cost = g2.PrimsMST()\n",
        "print(\"Custo {}\".format(cost))\n",
        "\n",
        "dot = graphviz.Graph(strict=True)\n",
        "    \n",
        "for key, value in tree.items():\n",
        "    dot.node(name=str(key), label=str(key))\n",
        "    for v in value:\n",
        "        dot.edge(str(key),str(v[0]), label=str(v[1]))\n",
        "display(dot)"
      ],
      "execution_count": 103,
      "outputs": [
        {
          "output_type": "display_data",
          "data": {
            "text/plain": [
              "<graphviz.dot.Graph at 0x7f8b34565810>"
            ],
            "image/svg+xml": "<?xml version=\"1.0\" encoding=\"UTF-8\" standalone=\"no\"?>\n<!DOCTYPE svg PUBLIC \"-//W3C//DTD SVG 1.1//EN\"\n \"http://www.w3.org/Graphics/SVG/1.1/DTD/svg11.dtd\">\n<!-- Generated by graphviz version 2.40.1 (20161225.0304)\n -->\n<!-- Title: %3 Pages: 1 -->\n<svg width=\"226pt\" height=\"305pt\"\n viewBox=\"0.00 0.00 226.00 305.00\" xmlns=\"http://www.w3.org/2000/svg\" xmlns:xlink=\"http://www.w3.org/1999/xlink\">\n<g id=\"graph0\" class=\"graph\" transform=\"scale(1 1) rotate(0) translate(4 301)\">\n<title>%3</title>\n<polygon fill=\"#ffffff\" stroke=\"transparent\" points=\"-4,4 -4,-301 222,-301 222,4 -4,4\"/>\n<!-- 0 -->\n<g id=\"node1\" class=\"node\">\n<title>0</title>\n<ellipse fill=\"none\" stroke=\"#000000\" cx=\"32\" cy=\"-192\" rx=\"27\" ry=\"18\"/>\n<text text-anchor=\"middle\" x=\"32\" y=\"-188.3\" font-family=\"Times,serif\" font-size=\"14.00\" fill=\"#000000\">0</text>\n</g>\n<!-- 3 -->\n<g id=\"node2\" class=\"node\">\n<title>3</title>\n<ellipse fill=\"none\" stroke=\"#000000\" cx=\"27\" cy=\"-105\" rx=\"27\" ry=\"18\"/>\n<text text-anchor=\"middle\" x=\"27\" y=\"-101.3\" font-family=\"Times,serif\" font-size=\"14.00\" fill=\"#000000\">3</text>\n</g>\n<!-- 0&#45;&#45;3 -->\n<g id=\"edge1\" class=\"edge\">\n<title>0&#45;&#45;3</title>\n<path fill=\"none\" stroke=\"#000000\" d=\"M30.964,-173.9735C30.1059,-159.0422 28.8924,-137.9283 28.0347,-123.0034\"/>\n<text text-anchor=\"middle\" x=\"34\" y=\"-144.8\" font-family=\"Times,serif\" font-size=\"14.00\" fill=\"#000000\">9</text>\n</g>\n<!-- 4 -->\n<g id=\"node3\" class=\"node\">\n<title>4</title>\n<ellipse fill=\"none\" stroke=\"#000000\" cx=\"99\" cy=\"-105\" rx=\"27\" ry=\"18\"/>\n<text text-anchor=\"middle\" x=\"99\" y=\"-101.3\" font-family=\"Times,serif\" font-size=\"14.00\" fill=\"#000000\">4</text>\n</g>\n<!-- 0&#45;&#45;4 -->\n<g id=\"edge2\" class=\"edge\">\n<title>0&#45;&#45;4</title>\n<path fill=\"none\" stroke=\"#000000\" d=\"M44.6022,-175.636C56.5807,-160.0817 74.4945,-136.8206 86.4543,-121.2907\"/>\n<text text-anchor=\"middle\" x=\"73\" y=\"-144.8\" font-family=\"Times,serif\" font-size=\"14.00\" fill=\"#000000\">4</text>\n</g>\n<!-- 7 -->\n<g id=\"node8\" class=\"node\">\n<title>7</title>\n<ellipse fill=\"none\" stroke=\"#000000\" cx=\"99\" cy=\"-18\" rx=\"27\" ry=\"18\"/>\n<text text-anchor=\"middle\" x=\"99\" y=\"-14.3\" font-family=\"Times,serif\" font-size=\"14.00\" fill=\"#000000\">7</text>\n</g>\n<!-- 3&#45;&#45;7 -->\n<g id=\"edge7\" class=\"edge\">\n<title>3&#45;&#45;7</title>\n<path fill=\"none\" stroke=\"#000000\" d=\"M40.2059,-89.0429C53.197,-73.3453 72.9157,-49.5185 85.8778,-33.856\"/>\n<text text-anchor=\"middle\" x=\"71\" y=\"-57.8\" font-family=\"Times,serif\" font-size=\"14.00\" fill=\"#000000\">2</text>\n</g>\n<!-- 4&#45;&#45;7 -->\n<g id=\"edge8\" class=\"edge\">\n<title>4&#45;&#45;7</title>\n<path fill=\"none\" stroke=\"#000000\" d=\"M99,-86.9735C99,-72.0422 99,-50.9283 99,-36.0034\"/>\n<text text-anchor=\"middle\" x=\"103\" y=\"-57.8\" font-family=\"Times,serif\" font-size=\"14.00\" fill=\"#000000\">5</text>\n</g>\n<!-- 1 -->\n<g id=\"node4\" class=\"node\">\n<title>1</title>\n<ellipse fill=\"none\" stroke=\"#000000\" cx=\"191\" cy=\"-279\" rx=\"27\" ry=\"18\"/>\n<text text-anchor=\"middle\" x=\"191\" y=\"-275.3\" font-family=\"Times,serif\" font-size=\"14.00\" fill=\"#000000\">1</text>\n</g>\n<!-- 5 -->\n<g id=\"node5\" class=\"node\">\n<title>5</title>\n<ellipse fill=\"none\" stroke=\"#000000\" cx=\"152\" cy=\"-192\" rx=\"27\" ry=\"18\"/>\n<text text-anchor=\"middle\" x=\"152\" y=\"-188.3\" font-family=\"Times,serif\" font-size=\"14.00\" fill=\"#000000\">5</text>\n</g>\n<!-- 1&#45;&#45;5 -->\n<g id=\"edge3\" class=\"edge\">\n<title>1&#45;&#45;5</title>\n<path fill=\"none\" stroke=\"#000000\" d=\"M183.1078,-261.3943C176.2969,-246.2008 166.5157,-224.3812 159.7474,-209.2827\"/>\n<text text-anchor=\"middle\" x=\"177\" y=\"-231.8\" font-family=\"Times,serif\" font-size=\"14.00\" fill=\"#000000\">3</text>\n</g>\n<!-- 6 -->\n<g id=\"node6\" class=\"node\">\n<title>6</title>\n<ellipse fill=\"none\" stroke=\"#000000\" cx=\"171\" cy=\"-105\" rx=\"27\" ry=\"18\"/>\n<text text-anchor=\"middle\" x=\"171\" y=\"-101.3\" font-family=\"Times,serif\" font-size=\"14.00\" fill=\"#000000\">6</text>\n</g>\n<!-- 1&#45;&#45;6 -->\n<g id=\"edge4\" class=\"edge\">\n<title>1&#45;&#45;6</title>\n<path fill=\"none\" stroke=\"#000000\" d=\"M191.6513,-260.6939C192.1281,-239.666 192.1009,-204.1778 188,-174 185.5911,-156.2737 180.4572,-136.4917 176.458,-122.6695\"/>\n<text text-anchor=\"middle\" x=\"195\" y=\"-188.3\" font-family=\"Times,serif\" font-size=\"14.00\" fill=\"#000000\">2</text>\n</g>\n<!-- 5&#45;&#45;6 -->\n<g id=\"edge9\" class=\"edge\">\n<title>5&#45;&#45;6</title>\n<path fill=\"none\" stroke=\"#000000\" d=\"M155.9368,-173.9735C159.1977,-159.0422 163.8088,-137.9283 167.0682,-123.0034\"/>\n<text text-anchor=\"middle\" x=\"166\" y=\"-144.8\" font-family=\"Times,serif\" font-size=\"14.00\" fill=\"#000000\">6</text>\n</g>\n<!-- 6&#45;&#45;7 -->\n<g id=\"edge10\" class=\"edge\">\n<title>6&#45;&#45;7</title>\n<path fill=\"none\" stroke=\"#000000\" d=\"M157.7941,-89.0429C144.803,-73.3453 125.0843,-49.5185 112.1222,-33.856\"/>\n<text text-anchor=\"middle\" x=\"143\" y=\"-57.8\" font-family=\"Times,serif\" font-size=\"14.00\" fill=\"#000000\">4</text>\n</g>\n<!-- 2 -->\n<g id=\"node7\" class=\"node\">\n<title>2</title>\n<ellipse fill=\"none\" stroke=\"#000000\" cx=\"106\" cy=\"-279\" rx=\"27\" ry=\"18\"/>\n<text text-anchor=\"middle\" x=\"106\" y=\"-275.3\" font-family=\"Times,serif\" font-size=\"14.00\" fill=\"#000000\">2</text>\n</g>\n<!-- 2&#45;&#45;4 -->\n<g id=\"edge5\" class=\"edge\">\n<title>2&#45;&#45;4</title>\n<path fill=\"none\" stroke=\"#000000\" d=\"M105.2641,-260.7078C103.9162,-227.2024 101.0666,-156.3695 99.726,-123.0471\"/>\n<text text-anchor=\"middle\" x=\"107\" y=\"-188.3\" font-family=\"Times,serif\" font-size=\"14.00\" fill=\"#000000\">3</text>\n</g>\n<!-- 2&#45;&#45;5 -->\n<g id=\"edge6\" class=\"edge\">\n<title>2&#45;&#45;5</title>\n<path fill=\"none\" stroke=\"#000000\" d=\"M115.0881,-261.8116C123.1526,-246.5593 134.872,-224.3942 142.9308,-209.1527\"/>\n<text text-anchor=\"middle\" x=\"135\" y=\"-231.8\" font-family=\"Times,serif\" font-size=\"14.00\" fill=\"#000000\">5</text>\n</g>\n</g>\n</svg>\n"
          },
          "metadata": {
            "tags": []
          }
        },
        {
          "output_type": "stream",
          "text": [
            "Prim\n",
            "Custo 23\n"
          ],
          "name": "stdout"
        },
        {
          "output_type": "display_data",
          "data": {
            "text/plain": [
              "<graphviz.dot.Graph at 0x7f8b34565190>"
            ],
            "image/svg+xml": "<?xml version=\"1.0\" encoding=\"UTF-8\" standalone=\"no\"?>\n<!DOCTYPE svg PUBLIC \"-//W3C//DTD SVG 1.1//EN\"\n \"http://www.w3.org/Graphics/SVG/1.1/DTD/svg11.dtd\">\n<!-- Generated by graphviz version 2.40.1 (20161225.0304)\n -->\n<!-- Title: %3 Pages: 1 -->\n<svg width=\"180pt\" height=\"479pt\"\n viewBox=\"0.00 0.00 180.00 479.00\" xmlns=\"http://www.w3.org/2000/svg\" xmlns:xlink=\"http://www.w3.org/1999/xlink\">\n<g id=\"graph0\" class=\"graph\" transform=\"scale(1 1) rotate(0) translate(4 475)\">\n<title>%3</title>\n<polygon fill=\"#ffffff\" stroke=\"transparent\" points=\"-4,4 -4,-475 176,-475 176,4 -4,4\"/>\n<!-- 0 -->\n<g id=\"node1\" class=\"node\">\n<title>0</title>\n<ellipse fill=\"none\" stroke=\"#000000\" cx=\"52\" cy=\"-453\" rx=\"27\" ry=\"18\"/>\n<text text-anchor=\"middle\" x=\"52\" y=\"-449.3\" font-family=\"Times,serif\" font-size=\"14.00\" fill=\"#000000\">0</text>\n</g>\n<!-- 4 -->\n<g id=\"node2\" class=\"node\">\n<title>4</title>\n<ellipse fill=\"none\" stroke=\"#000000\" cx=\"52\" cy=\"-366\" rx=\"27\" ry=\"18\"/>\n<text text-anchor=\"middle\" x=\"52\" y=\"-362.3\" font-family=\"Times,serif\" font-size=\"14.00\" fill=\"#000000\">4</text>\n</g>\n<!-- 0&#45;&#45;4 -->\n<g id=\"edge1\" class=\"edge\">\n<title>0&#45;&#45;4</title>\n<path fill=\"none\" stroke=\"#000000\" d=\"M52,-434.9735C52,-420.0422 52,-398.9283 52,-384.0034\"/>\n<text text-anchor=\"middle\" x=\"56\" y=\"-405.8\" font-family=\"Times,serif\" font-size=\"14.00\" fill=\"#000000\">4</text>\n</g>\n<!-- 2 -->\n<g id=\"node3\" class=\"node\">\n<title>2</title>\n<ellipse fill=\"none\" stroke=\"#000000\" cx=\"27\" cy=\"-279\" rx=\"27\" ry=\"18\"/>\n<text text-anchor=\"middle\" x=\"27\" y=\"-275.3\" font-family=\"Times,serif\" font-size=\"14.00\" fill=\"#000000\">2</text>\n</g>\n<!-- 4&#45;&#45;2 -->\n<g id=\"edge2\" class=\"edge\">\n<title>4&#45;&#45;2</title>\n<path fill=\"none\" stroke=\"#000000\" d=\"M46.82,-347.9735C42.5008,-332.9427 36.3812,-311.6465 32.0878,-296.7057\"/>\n<text text-anchor=\"middle\" x=\"45\" y=\"-318.8\" font-family=\"Times,serif\" font-size=\"14.00\" fill=\"#000000\">3</text>\n</g>\n<!-- 7 -->\n<g id=\"node4\" class=\"node\">\n<title>7</title>\n<ellipse fill=\"none\" stroke=\"#000000\" cx=\"99\" cy=\"-279\" rx=\"27\" ry=\"18\"/>\n<text text-anchor=\"middle\" x=\"99\" y=\"-275.3\" font-family=\"Times,serif\" font-size=\"14.00\" fill=\"#000000\">7</text>\n</g>\n<!-- 4&#45;&#45;7 -->\n<g id=\"edge3\" class=\"edge\">\n<title>4&#45;&#45;7</title>\n<path fill=\"none\" stroke=\"#000000\" d=\"M61.2857,-348.8116C69.5254,-333.5593 81.4997,-311.3942 89.7336,-296.1527\"/>\n<text text-anchor=\"middle\" x=\"82\" y=\"-318.8\" font-family=\"Times,serif\" font-size=\"14.00\" fill=\"#000000\">5</text>\n</g>\n<!-- 3 -->\n<g id=\"node5\" class=\"node\">\n<title>3</title>\n<ellipse fill=\"none\" stroke=\"#000000\" cx=\"73\" cy=\"-192\" rx=\"27\" ry=\"18\"/>\n<text text-anchor=\"middle\" x=\"73\" y=\"-188.3\" font-family=\"Times,serif\" font-size=\"14.00\" fill=\"#000000\">3</text>\n</g>\n<!-- 7&#45;&#45;3 -->\n<g id=\"edge4\" class=\"edge\">\n<title>7&#45;&#45;3</title>\n<path fill=\"none\" stroke=\"#000000\" d=\"M93.6128,-260.9735C89.1208,-245.9427 82.7564,-224.6465 78.2914,-209.7057\"/>\n<text text-anchor=\"middle\" x=\"91\" y=\"-231.8\" font-family=\"Times,serif\" font-size=\"14.00\" fill=\"#000000\">2</text>\n</g>\n<!-- 6 -->\n<g id=\"node6\" class=\"node\">\n<title>6</title>\n<ellipse fill=\"none\" stroke=\"#000000\" cx=\"145\" cy=\"-192\" rx=\"27\" ry=\"18\"/>\n<text text-anchor=\"middle\" x=\"145\" y=\"-188.3\" font-family=\"Times,serif\" font-size=\"14.00\" fill=\"#000000\">6</text>\n</g>\n<!-- 7&#45;&#45;6 -->\n<g id=\"edge5\" class=\"edge\">\n<title>7&#45;&#45;6</title>\n<path fill=\"none\" stroke=\"#000000\" d=\"M108.0881,-261.8116C116.1526,-246.5593 127.872,-224.3942 135.9308,-209.1527\"/>\n<text text-anchor=\"middle\" x=\"128\" y=\"-231.8\" font-family=\"Times,serif\" font-size=\"14.00\" fill=\"#000000\">4</text>\n</g>\n<!-- 1 -->\n<g id=\"node7\" class=\"node\">\n<title>1</title>\n<ellipse fill=\"none\" stroke=\"#000000\" cx=\"145\" cy=\"-105\" rx=\"27\" ry=\"18\"/>\n<text text-anchor=\"middle\" x=\"145\" y=\"-101.3\" font-family=\"Times,serif\" font-size=\"14.00\" fill=\"#000000\">1</text>\n</g>\n<!-- 6&#45;&#45;1 -->\n<g id=\"edge6\" class=\"edge\">\n<title>6&#45;&#45;1</title>\n<path fill=\"none\" stroke=\"#000000\" d=\"M145,-173.9735C145,-159.0422 145,-137.9283 145,-123.0034\"/>\n<text text-anchor=\"middle\" x=\"149\" y=\"-144.8\" font-family=\"Times,serif\" font-size=\"14.00\" fill=\"#000000\">2</text>\n</g>\n<!-- 5 -->\n<g id=\"node8\" class=\"node\">\n<title>5</title>\n<ellipse fill=\"none\" stroke=\"#000000\" cx=\"145\" cy=\"-18\" rx=\"27\" ry=\"18\"/>\n<text text-anchor=\"middle\" x=\"145\" y=\"-14.3\" font-family=\"Times,serif\" font-size=\"14.00\" fill=\"#000000\">5</text>\n</g>\n<!-- 1&#45;&#45;5 -->\n<g id=\"edge7\" class=\"edge\">\n<title>1&#45;&#45;5</title>\n<path fill=\"none\" stroke=\"#000000\" d=\"M145,-86.9735C145,-72.0422 145,-50.9283 145,-36.0034\"/>\n<text text-anchor=\"middle\" x=\"149\" y=\"-57.8\" font-family=\"Times,serif\" font-size=\"14.00\" fill=\"#000000\">3</text>\n</g>\n</g>\n</svg>\n"
          },
          "metadata": {
            "tags": []
          }
        }
      ]
    },
    {
      "cell_type": "code",
      "metadata": {
        "id": "3ZRHfEX0SUvB"
      },
      "source": [
        ""
      ],
      "execution_count": 93,
      "outputs": []
    }
  ]
}