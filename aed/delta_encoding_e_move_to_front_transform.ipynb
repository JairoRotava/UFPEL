{
  "nbformat": 4,
  "nbformat_minor": 0,
  "metadata": {
    "kernelspec": {
      "display_name": "Python 3",
      "language": "python",
      "name": "python3"
    },
    "language_info": {
      "codemirror_mode": {
        "name": "ipython",
        "version": 3
      },
      "file_extension": ".py",
      "mimetype": "text/x-python",
      "name": "python",
      "nbconvert_exporter": "python",
      "pygments_lexer": "ipython3",
      "version": "3.6.9"
    },
    "colab": {
      "name": "delta_encoding_e_move_to_front_transform.ipynb",
      "provenance": [],
      "include_colab_link": true
    }
  },
  "cells": [
    {
      "cell_type": "markdown",
      "metadata": {
        "id": "view-in-github",
        "colab_type": "text"
      },
      "source": [
        "<a href=\"https://colab.research.google.com/github/JairoRotava/UFPEL/blob/main/aed/delta_encoding_e_move_to_front_transform.ipynb\" target=\"_parent\"><img src=\"https://colab.research.google.com/assets/colab-badge.svg\" alt=\"Open In Colab\"/></a>"
      ]
    },
    {
      "cell_type": "markdown",
      "metadata": {
        "id": "ma7slsgxSoRy"
      },
      "source": [
        "# Delta encoding & Move-to-front transform\n",
        "Trabalho final disciplina Algoritmos e estruturas de dados - UFPEL\n",
        "\n",
        "Aluno: Jairo Rotava\n",
        "\n",
        "## Introdução\n",
        "\n",
        "Delta encoding e Move-to-front transform são algoritmos utilizados para auxiliar na compressão de dados. Ambos os algortimos alteram a sequência de dados de tal forma que a melhorar a eficiência de compressão de algortimos posteriores. Geralmentes estes dois algoritmos são utilizados em conjunto com um ou mais algoritmos."
      ]
    },
    {
      "cell_type": "markdown",
      "metadata": {
        "id": "hfea0v17SoR2"
      },
      "source": [
        "# Delta encoding\n",
        "\n",
        "Delta encoding é uma forma de representação que armazena as diferenças (deltas) entre dados sequênciais. Por exemplo, quando um arquivo de texto é modificado, ao invés de ser gerado um novo arquivo completo, somente as alterações são armazenadas.\n",
        "\n",
        "Por exemplo a sequencia 2, 4, 6, 9, 7, pode ser armazenada usando a diferença entre os dados: 2, 2, 2, 3, -2. O sinal codificado tem uma variância menor que o original, e isso permite utilizar um número menores de bits para representar um mesmo dado.\n",
        "\n",
        "A natureza do dado a ser codificado influencia na eficiência do algoritmo, e nem todos tipos de dados podem ser comprimidos utilizando delta encoding. O algoritmo funciona melhor quando existe uma variação pequena ou constante entre dados vizinhos.\n",
        "\n",
        "## Exemplo de uso\n",
        "- Delta copying: copia somente a parte do arquivo alterada para aumentar velocidade. Pode ser utilizado em backups.\n",
        "- Diff: programa para comparação de arquivos\n",
        "- Git: utilizar delta compression como parte do mecanismo de compressão dos arquivos\n",
        "- Compressão de audio\n",
        "- Compressão de video"
      ]
    },
    {
      "cell_type": "markdown",
      "metadata": {
        "id": "Vp8Zm_4JSoR3"
      },
      "source": [
        "## Exemplo algoritmo em python\n",
        "Código original (convertido para python): https://en.wikipedia.org/wiki/Delta_encoding"
      ]
    },
    {
      "cell_type": "code",
      "metadata": {
        "id": "CEyIVkOUSoR4"
      },
      "source": [
        "def delta_encode(buffer):\n",
        "    last = 0;\n",
        "    buffer_out = [None] * len(buffer)\n",
        "    for i in range(len(buffer)):\n",
        "        current = buffer[i]\n",
        "        buffer_out[i] = current - last\n",
        "        last = current\n",
        "    return buffer_out\n",
        "\n",
        "\n",
        "def delta_decode(buffer):\n",
        "    last = 0\n",
        "    buffer_out = [None] * len(buffer)\n",
        "    for i in range(len(buffer)):\n",
        "        delta = buffer[i]\n",
        "        buffer_out[i] = delta + last\n",
        "        last = buffer_out[i]\n",
        "    return buffer_out"
      ],
      "execution_count": 1,
      "outputs": []
    },
    {
      "cell_type": "markdown",
      "metadata": {
        "id": "fPNL6ANlSoR5"
      },
      "source": [
        "### Exemplo ASCII\n",
        "Delta encoding aplicado em texto ASCII. A sequência codificada pode ser representeda, em média, com simbolos com menor número de bits."
      ]
    },
    {
      "cell_type": "code",
      "metadata": {
        "colab": {
          "base_uri": "https://localhost:8080/"
        },
        "id": "XvylVx_9SoR5",
        "outputId": "a383aa3f-2a8f-41c5-e572-b9b3c9bbc7e7"
      },
      "source": [
        "original_sequence = [ord(l) for l in list('panama')]\n",
        "delta_sequence = delta_encode(original_sequence)\n",
        "delta_decoded_sequence = delta_decode(delta_sequence)\n",
        "\n",
        "print(\"Sequencia ASCII original: {}\".format(original_sequence))\n",
        "print(\"Sequencia codificada com delta: {}\".format(delta_sequence))\n",
        "print(\"Sequencia decodificada: {}\".format(delta_decoded_sequence))"
      ],
      "execution_count": 2,
      "outputs": [
        {
          "output_type": "stream",
          "text": [
            "Sequencia ASCII original: [112, 97, 110, 97, 109, 97]\n",
            "Sequencia codificada com delta: [112, -15, 13, -13, 12, -12]\n",
            "Sequencia decodificada: [112, 97, 110, 97, 109, 97]\n"
          ],
          "name": "stdout"
        }
      ]
    },
    {
      "cell_type": "markdown",
      "metadata": {
        "id": "QuOtRZ1NSoR5"
      },
      "source": [
        "### Exemplo seno\n",
        "Delta encoding aplicado numa função comportada. Note que a variância do dado codificado é menor que o original."
      ]
    },
    {
      "cell_type": "code",
      "metadata": {
        "colab": {
          "base_uri": "https://localhost:8080/",
          "height": 297
        },
        "id": "uNg7q5ZTSoR6",
        "outputId": "345cc1af-43cf-48a7-f4e4-efa9f22eb5af"
      },
      "source": [
        "import numpy\n",
        "%matplotlib inline\n",
        "from matplotlib import pyplot as plt\n",
        "plt.style.use('seaborn-whitegrid')\n",
        "\n",
        "x = numpy.arange(0,10*2*numpy.pi, 0.1)\n",
        "seno = (numpy.sin(x)* 126).astype(int)\n",
        "delta_seno = delta_encode(seno)\n",
        "plt.plot(seno,label='Sinal Original')\n",
        "plt.plot(delta_seno, label='Sinal após Delta encoding')\n",
        "plt.legend(bbox_to_anchor=(1.04,1), borderaxespad=0)\n",
        "\n",
        "print(\"Sinal original min/max: {} / {} ~> {} bits\".format(min(seno),max(seno), 1 + int(max(seno)).bit_length() ))\n",
        "print(\"Sinal delta encoding min/max: {} / {} ~> {} bits\".format(min(delta_seno),max(delta_seno), 1 + int(max(delta_seno)).bit_length() ))"
      ],
      "execution_count": 3,
      "outputs": [
        {
          "output_type": "stream",
          "text": [
            "Sinal original min/max: -125 / 125 ~> 8 bits\n",
            "Sinal delta encoding min/max: -13 / 13 ~> 5 bits\n"
          ],
          "name": "stdout"
        },
        {
          "output_type": "display_data",
          "data": {
            "image/png": "[encoded data removed]",
            "text/plain": [
              "<Figure size 432x288 with 1 Axes>"
            ]
          },
          "metadata": {
            "tags": []
          }
        }
      ]
    },
    {
      "cell_type": "markdown",
      "metadata": {
        "id": "gOcNkSkVSoR8"
      },
      "source": [
        "## Referências\n",
        "- https://en.wikipedia.org/wiki/Delta_encoding\n",
        "- https://medium.com/ably-realtime/delta-compression-a-practical-guide-to-diff-algorithms-and-delta-file-formats-4e070cc59add\n",
        "- https://docs.aws.amazon.com/redshift/latest/dg/c_Delta_encoding.html\n",
        "- https://fileformats.fandom.com/wiki/Delta_encoding"
      ]
    },
    {
      "cell_type": "markdown",
      "metadata": {
        "id": "YZh32L2ESoR8"
      },
      "source": [
        "# Move-to-front transform\n",
        "\n",
        "Move-to-front (MTF) enconding transform é uma codificação de uma sequencia de bytes com objetivo de facilitar o compressão por outras técnicas. A idéia do move-to-front é pré-processar a mensagem convertendo em um sequência de inteiros, onde existe uma tendência para valores baixos. Posteriormente algum algoritmo de compressão probabilistico (exemplo Huffman) é utilizado para codificar os inteiros. O MTF geralmente é utilizado após o Burrows–Wheeler transform (BWT).\n",
        "\n",
        "O ponto chave é que símbolos que ocorrem com maior frequência tendem a ficar no início do dicionário, e símbolos menos frequentes ficam no final.  Assim, utilizando codigos menores para as posição iniciais, garantimos que os códigos mais frequentes utilizem um menor número de bits na representação.\n",
        "\n",
        "Este algoritmo foi publicado por B. Ryabko em 1980, e J.K Benteley et. al. em 1986.\n",
        "\n",
        "É um algoritmo que não comprime os dados, mas pode ajudar reduzir redundância, diminuindo a entropia, quando um simbolo que apareceu recentemente é repetido. A principal idéia é que cada simbolo seja substituído por um índice numa lista de simbolos recentes (ou dicionário). Os símbolos com maior frequência acabam ficando do dicionário. \n",
        "\n",
        "## Algoritmo\n",
        "\n",
        "Ao invés de utilizar o valor do símbolo (vamos assumir byte), o algoritmo utiliza a posição, ou índice, desse simbolo numa tabela que contém todos os símbolos. A tabela é iniciada com todos os símbolos, e a posição deles é atualizada conforme os dados são processados. O símbolo mais recente é colocado na posição 0 da tabela e assim por diante. Essa técnica coloca os símbolos mais utilizados, com maior frequência, no início da tabela."
      ]
    },
    {
      "cell_type": "markdown",
      "metadata": {
        "id": "VVTDjDXCSoR9"
      },
      "source": [
        "## Exemplo algoritmo em python\n",
        "Código original (modificado para apresentar resultados intermediários): https://en.wikipedia.org/wiki/Move-to-front_transform"
      ]
    },
    {
      "cell_type": "code",
      "metadata": {
        "id": "BSehXtdcSoR-"
      },
      "source": [
        "# https://en.wikipedia.org/wiki/Move-to-front_transform\n",
        "from typing import List, Tuple, Union\n",
        "# Instead of always transmitting an \"original\" dictionary, it is simpler to just agree on an initial set.\n",
        "# Here we use the 256 possible values of a byte:\n",
        "# 97 - 122 para letras minuscuals\n",
        "#common_dictionary = list(range(97,122))\n",
        "\n",
        "def mtf_encode(plain_text: str,common_dictionary, verbose=False ) -> List[int]:\n",
        "    # Change to bytes for 256.\n",
        "    plain_text = plain_text.encode('utf-8')\n",
        "\n",
        "    # Changing the common dictionary is a bad idea. Make a copy.\n",
        "    dictionary = common_dictionary.copy()\n",
        "    if verbose:\n",
        "        print(\"Dicionario inicial: {}\".format(bytes(dictionary).decode('utf-8')))\n",
        "\n",
        "    # Transformation\n",
        "    compressed_text = list()          # Regular array\n",
        "    rank = 0\n",
        "\n",
        "    # Read in each character\n",
        "    for c in plain_text:\n",
        "        rank = dictionary.index(c)    # Find the rank of the character in the dictionary [O(k)]\n",
        "        compressed_text.append(rank)  # Update the encoded text\n",
        "\n",
        "        # Update the dictionary [O(k)]\n",
        "        dictionary.pop(rank)\n",
        "        dictionary.insert(0, c)\n",
        "        if verbose:\n",
        "            print(\"entrada: {}\\t saida: {}\\t dicionario: {}\".format(chr(c), compressed_text, bytes(dictionary).decode('utf-8')))\n",
        "\n",
        "    return compressed_text            # Return the encoded text\n",
        "\n",
        "def mtf_decode(compressed_data: List[int], common_dictionary, verbose=False) -> str:\n",
        "    compressed_text = compressed_data\n",
        "    dictionary = common_dictionary.copy()\n",
        "    if verbose:\n",
        "        print(\"Dicionario inicial: {}\".format(bytes(dictionary).decode('utf-8')))\n",
        "\n",
        "    plain_text = []\n",
        "\n",
        "    # Read in each rank in the encoded text\n",
        "    for rank in compressed_text:\n",
        "        # Read the character of that rank from the dictionary\n",
        "        plain_text.append(dictionary[rank])\n",
        "\n",
        "        # Update the dictionary\n",
        "        e = dictionary.pop(rank)\n",
        "        dictionary.insert(0, e)\n",
        "        if verbose:\n",
        "            print(\"entrada: {}\\t saida: {}\\t dicionario: {}\".format(rank, bytes(plain_text).decode('utf-8'), bytes(dictionary).decode('utf-8')))\n",
        "\n",
        "        \n",
        "    return bytes(plain_text).decode('utf-8')  # Return original string"
      ],
      "execution_count": 4,
      "outputs": []
    },
    {
      "cell_type": "markdown",
      "metadata": {
        "id": "t-gczfERSoR_"
      },
      "source": [
        "## Exemplo ASCII\n",
        "Move-to-front aplicado em sequência ASCII. Neste exemplo assumimos que o dicionário é a sequência ASCII dos caracteres minúsculos para facilitar a visualização"
      ]
    },
    {
      "cell_type": "code",
      "metadata": {
        "colab": {
          "base_uri": "https://localhost:8080/"
        },
        "id": "ktV86l3-SoSA",
        "outputId": "abb9366f-a2ae-4592-e59b-35e48bbb41a2"
      },
      "source": [
        "short_dict = list(range(97,122))\n",
        "print(\"Encode\")\n",
        "mtf_sequence = mtf_encode(\"panama\", short_dict, verbose=True)\n",
        "print(\"MTF enconded: {}\".format(mtf_sequence))\n",
        "print(\"\\nDecode\")\n",
        "mtf_decoded_sequence = mtf_decode(mtf_sequence, short_dict, verbose=True)\n",
        "print(\"Decodificado: {}\".format(mtf_decoded_sequence))"
      ],
      "execution_count": 5,
      "outputs": [
        {
          "output_type": "stream",
          "text": [
            "Encode\n",
            "Dicionario inicial: abcdefghijklmnopqrstuvwxy\n",
            "entrada: p\t saida: [15]\t dicionario: pabcdefghijklmnoqrstuvwxy\n",
            "entrada: a\t saida: [15, 1]\t dicionario: apbcdefghijklmnoqrstuvwxy\n",
            "entrada: n\t saida: [15, 1, 14]\t dicionario: napbcdefghijklmoqrstuvwxy\n",
            "entrada: a\t saida: [15, 1, 14, 1]\t dicionario: anpbcdefghijklmoqrstuvwxy\n",
            "entrada: m\t saida: [15, 1, 14, 1, 14]\t dicionario: manpbcdefghijkloqrstuvwxy\n",
            "entrada: a\t saida: [15, 1, 14, 1, 14, 1]\t dicionario: amnpbcdefghijkloqrstuvwxy\n",
            "MTF enconded: [15, 1, 14, 1, 14, 1]\n",
            "\n",
            "Decode\n",
            "Dicionario inicial: abcdefghijklmnopqrstuvwxy\n",
            "entrada: 15\t saida: p\t dicionario: pabcdefghijklmnoqrstuvwxy\n",
            "entrada: 1\t saida: pa\t dicionario: apbcdefghijklmnoqrstuvwxy\n",
            "entrada: 14\t saida: pan\t dicionario: napbcdefghijklmoqrstuvwxy\n",
            "entrada: 1\t saida: pana\t dicionario: anpbcdefghijklmoqrstuvwxy\n",
            "entrada: 14\t saida: panam\t dicionario: manpbcdefghijkloqrstuvwxy\n",
            "entrada: 1\t saida: panama\t dicionario: amnpbcdefghijkloqrstuvwxy\n",
            "Decodificado: panama\n"
          ],
          "name": "stdout"
        }
      ]
    },
    {
      "cell_type": "markdown",
      "metadata": {
        "id": "EehRDVUVSoSB"
      },
      "source": [
        "## Referências\n",
        "- https://web.archive.org/web/20001003063538/http://www.arturocampos.com/ac_mtf.html\n",
        "- https://sites.google.com/site/datacompressionguide/mtf\n",
        "- http://www.data-compression.info/Algorithms/MTF/index.html\n",
        "- https://www.geeksforgeeks.org/move-front-data-transform-algorithm/\n",
        "- http://www.cim.mcgill.ca/~langer/423/lecture8.pdf\n",
        "- http://multimedia.ufp.pt/codecs/compressao-sem-perdas/supressao-de-sequencias-repetitivas/transformada-move-to-front/"
      ]
    },
    {
      "cell_type": "markdown",
      "metadata": {
        "id": "sg542YhMSoSB"
      },
      "source": [
        "## Demonstração aplicação de mtf com compressão Huffman\n",
        "A seguir vamos demonstrar os efeitos da aplicação de mtf com o algoritmo de huffman na eficiência da compressão. também vamos precisar do algoritmo Burrows-Wheeler transform, que rearranja a ordem do texto, também com o objetivo de melhorar a compressão."
      ]
    },
    {
      "cell_type": "markdown",
      "metadata": {
        "id": "hv8M04SMSoSC"
      },
      "source": [
        "### Algortimo codificação de Huffman\n",
        "A codificação de Huffman troca os símbolos por bits, de forma a atribuir os códigos com menores números de bits para os símbolos mais frequentes, e dessa forma realiza a compressão dos dados."
      ]
    },
    {
      "cell_type": "code",
      "metadata": {
        "id": "CtUHEIA1SoSC"
      },
      "source": [
        "import numpy as np\n",
        "#from scipy.stats import entropy\n",
        "import scipy.stats as st\n",
        "from math import log, e\n",
        "\n",
        "def entropy(labels, base=None):\n",
        "  value,counts = np.unique(labels, return_counts=True)\n",
        "  return st.entropy(counts, base=base)\n",
        "\n",
        "# https://www.openbookproject.net/py4fun/huffman/huffman.html\n",
        "# Codificacao de huffman\n",
        "import sys, string\n",
        "\n",
        "codes   = {}\n",
        "\n",
        "def frequency (str) :\n",
        "    freqs = {}\n",
        "    for ch in str :\n",
        "        freqs[ch] = freqs.get(ch,0) + 1\n",
        "    return freqs\n",
        "\n",
        "def sortFreq (freqs) :\n",
        "    letters = freqs.keys()\n",
        "    tuples = []\n",
        "    for let in letters :\n",
        "        tuples.append((freqs[let],let))\n",
        "    tuples.sort()\n",
        "    return tuples\n",
        "\n",
        "def buildTree(tuples) :\n",
        "    while len(tuples) > 1 :\n",
        "        leastTwo = tuple(tuples[0:2])                  # get the 2 to combine\n",
        "        theRest  = tuples[2:]                          # all the others\n",
        "        combFreq = leastTwo[0][0] + leastTwo[1][0]     # the branch points freq\n",
        "        tuples   = theRest + [(combFreq,leastTwo)]     # add branch point to the end\n",
        "        tuples = sorted(tuples, key=lambda x: x[0])\n",
        "    return tuples[0]            # Return the single tree inside the list \n",
        "\n",
        "def trimTree (tree) :\n",
        "     # Trim the freq counters off, leaving just the letters\n",
        "    p = tree[1]                                    # ignore freq count in [0]\n",
        "    if type(p) == type(\"\") : return p              # if just a leaf, return it\n",
        "    else : return (trimTree(p[0]), trimTree(p[1])) # trim left then right and recombine\n",
        "\n",
        "def assignCodes (node, pat='') :\n",
        "    global codes\n",
        "    if type(node) == type(\"\") :\n",
        "        codes[node] = pat                # A leaf. set its code\n",
        "    else  :                              # \n",
        "        assignCodes(node[0], pat+\"0\")    # Branch point. Do the left branch\n",
        "        assignCodes(node[1], pat+\"1\")    # then do the right branch. \n",
        "\n",
        "def encode (str) :\n",
        "    global codes\n",
        "    output = \"\"\n",
        "    for ch in str : output += codes[ch]\n",
        "    return output\n",
        "\n",
        "def decode (tree, str) :\n",
        "    output = \"\"\n",
        "    p = tree\n",
        "    for bit in str :\n",
        "        if bit == '0' : p = p[0]     # Head up the left branch\n",
        "        else          : p = p[1]     # or up the right branch\n",
        "        if type(p) == type(\"\") :     \n",
        "            output += p              # found a character. Add to output\n",
        "            p = tree                 # and restart for next character\n",
        "    return output\n",
        "\n",
        "def test_huffman(message):\n",
        "    \"\"\" rotina para teste da codificacao de huffman\"\"\"\n",
        "    debug = None\n",
        "    freqs = frequency(message)\n",
        "    tuples = sortFreq(freqs)\n",
        "\n",
        "    tree = buildTree(tuples)\n",
        "    if debug : print(\"Built tree %s\" % tree)\n",
        "\n",
        "    tree = trimTree(tree)\n",
        "    if debug : print(\"Trimmed tree\" % tree)\n",
        "\n",
        "    assignCodes(tree)\n",
        "    if debug : showCodes()\n",
        "\n",
        "    small = encode(message)\n",
        "    original = decode (tree, small)\n",
        "    \n",
        "    text_entropy = entropy(list(message), base=2)\n",
        "    print(\"Entropia: {}\".format(text_entropy))\n",
        "    l_original = len(message)\n",
        "    l_comp = (len(small)+7)/8\n",
        "    print(\"Comprimento original/comprimido: {}/{} bytes ~ {}\".format( l_original, l_comp, l_original/l_comp))\n",
        "    if (message != original):\n",
        "        print(\"Erro! Arquivo restaurado diferente de original\" % (message == original))"
      ],
      "execution_count": 6,
      "outputs": []
    },
    {
      "cell_type": "markdown",
      "metadata": {
        "id": "7rjy8h12SoSD"
      },
      "source": [
        "### Algoritmo Burrows-Wheeler transform\n",
        "Algoritmo axiliar, que reorganiza os símbolos de forma a melhorar o desempenho de algortimos posteriores"
      ]
    },
    {
      "cell_type": "code",
      "metadata": {
        "id": "W5nI_NhUSoSE"
      },
      "source": [
        "# https://en.wikipedia.org/wiki/Burrows%E2%80%93Wheeler_transform\n",
        "def bwt(s: str) -> str:\n",
        "    \"\"\"Apply Burrows–Wheeler transform to input string.\"\"\"\n",
        "    assert \"\\002\" not in s and \"\\003\" not in s, \"Input string cannot contain STX and ETX characters\"\n",
        "    s = \"\\002\" + s + \"\\003\"  # Add start and end of text marker\n",
        "    table = sorted(s[i:] + s[:i] for i in range(len(s)))  # Table of rotations of string\n",
        "    last_column = [row[-1:] for row in table]  # Last characters of each row\n",
        "    return \"\".join(last_column)  # Convert list of characters into string\n",
        "\n",
        "def ibwt(r: str) -> str:\n",
        "    \"\"\"Apply inverse Burrows–Wheeler transform.\"\"\"\n",
        "    table = [\"\"] * len(r)  # Make empty table\n",
        "    for i in range(len(r)):\n",
        "        table = sorted(r[i] + table[i] for i in range(len(r)))  # Add a column of r\n",
        "    s = [row for row in table if row.endswith(\"\\003\")][0]  # Find the correct row (ending in ETX)\n",
        "    return s.rstrip(\"\\003\").strip(\"\\002\")  # Get rid of start and end markers"
      ],
      "execution_count": 7,
      "outputs": []
    },
    {
      "cell_type": "markdown",
      "metadata": {
        "id": "9B6B6FilSoSE"
      },
      "source": [
        "### Texto  para teste"
      ]
    },
    {
      "cell_type": "code",
      "metadata": {
        "id": "bijdEL7GSoSE"
      },
      "source": [
        "# Texto para teste compressao\n",
        "original_text = \"\"\"To be, or not to be, that is the question:\n",
        "Whether 'tis nobler in the mind to suffer\n",
        "The slings and arrows of outrageous fortune,\n",
        "Or to take Arms against a Sea of troubles,\n",
        "And by opposing end them: to die, to sleep;\n",
        "No more; and by a sleep, to say we end\n",
        "The heart-ache, and the thousand natural shocks\n",
        "That Flesh is heir to? 'Tis a consummation\n",
        "Devoutly to be wished. To die, to sleep,\n",
        "To sleep, perchance to Dream; aye, there's the rub,\n",
        "For in that sleep of death, what dreams may come,\n",
        "When we have shuffled off this mortal coil,\n",
        "Must give us pause. There's the respect\n",
        "That makes Calamity of so long life:\n",
        "For who would bear the Whips and Scorns of time,\n",
        "The Oppressor's wrong, the proud man's Contumely,\n",
        "The pangs of dispised Love, the Law’s delay,\n",
        "The insolence of Office, and the spurns\n",
        "That patient merit of th'unworthy takes,\n",
        "When he himself might his Quietus make\n",
        "With a bare Bodkin? Who would Fardels bear, [F: these Fardels]\n",
        "To grunt and sweat under a weary life,\n",
        "But that the dread of something after death,\n",
        "The undiscovered country, from whose bourn\n",
        "No traveller returns, puzzles the will,\n",
        "And makes us rather bear those ills we have,\n",
        "Than fly to others that we know not of?\n",
        "Thus conscience does make cowards of us all,\n",
        "And thus the native hue of Resolution\n",
        "Is sicklied o'er, with the pale cast of Thought,\n",
        "And enterprises of great pitch and moment, [F: pith]\n",
        "With this regard their Currents turn awry, [F: away]\n",
        "And lose the name of Action. Soft you now,\n",
        "The fair Ophelia? Nymph, in thy Orisons\n",
        "Be all my sins remember'd.\"\"\""
      ],
      "execution_count": 8,
      "outputs": []
    },
    {
      "cell_type": "markdown",
      "metadata": {
        "id": "3MUMmXvhSoSF"
      },
      "source": [
        "### Huffman"
      ]
    },
    {
      "cell_type": "code",
      "metadata": {
        "colab": {
          "base_uri": "https://localhost:8080/"
        },
        "id": "xh7qg9DeSoSF",
        "outputId": "4de49f1f-2bb0-4bbe-d54d-f5fb4afccf2e"
      },
      "source": [
        "message = original_text\n",
        "test_huffman(message)"
      ],
      "execution_count": 9,
      "outputs": [
        {
          "output_type": "stream",
          "text": [
            "Entropia: 4.533577185051671\n",
            "Comprimento original/comprimido: 1537/878.25 bytes ~ 1.7500711642470823\n"
          ],
          "name": "stdout"
        }
      ]
    },
    {
      "cell_type": "markdown",
      "metadata": {
        "id": "FwnI43EySoSG"
      },
      "source": [
        "### mtf + huffman"
      ]
    },
    {
      "cell_type": "code",
      "metadata": {
        "colab": {
          "base_uri": "https://localhost:8080/"
        },
        "id": "-QzYugAwSoSG",
        "outputId": "ba8dfa00-d86b-4c32-c05b-ad423907917b"
      },
      "source": [
        "message = original_text\n",
        "# Cria dicionario para texto original\n",
        "my_dict = list(set(message.encode('utf-8')))\n",
        "# Aplica mtf\n",
        "mtf = bytes(mtf_encode(message, my_dict)).decode('utf-8')\n",
        "test_huffman(mtf)"
      ],
      "execution_count": 10,
      "outputs": [
        {
          "output_type": "stream",
          "text": [
            "Entropia: 5.0122903167373645\n",
            "Comprimento original/comprimido: 1539/969.5 bytes ~ 1.587416193914389\n"
          ],
          "name": "stdout"
        }
      ]
    },
    {
      "cell_type": "markdown",
      "metadata": {
        "id": "TlfFrWJ9SoSG"
      },
      "source": [
        "### bwt + mtf + huffman"
      ]
    },
    {
      "cell_type": "code",
      "metadata": {
        "colab": {
          "base_uri": "https://localhost:8080/"
        },
        "id": "YPJRthTISoSH",
        "outputId": "55a2f597-02a9-46d5-cf10-e50bee695c9b"
      },
      "source": [
        "message = bwt(original_text)\n",
        "# Cria dicionario para texto original\n",
        "my_dict = list(set(message.encode('utf-8')))\n",
        "# Aplica mtf\n",
        "mtf = bytes(mtf_encode(message, my_dict)).decode('utf-8')\n",
        "test_huffman(mtf)"
      ],
      "execution_count": 11,
      "outputs": [
        {
          "output_type": "stream",
          "text": [
            "Entropia: 4.12795400086182\n",
            "Comprimento original/comprimido: 1541/799.25 bytes ~ 1.9280575539568345\n"
          ],
          "name": "stdout"
        }
      ]
    },
    {
      "cell_type": "code",
      "metadata": {
        "colab": {
          "base_uri": "https://localhost:8080/",
          "height": 106
        },
        "id": "SNwD0p8zSoSH",
        "outputId": "a1e7aeb2-b9a1-4577-d58c-a43fe0d53ec8"
      },
      "source": [
        "# Como ficou o texto rearranjado pelo bwt?\n",
        "message"
      ],
      "execution_count": 12,
      "outputs": [
        {
          "output_type": "execute_result",
          "data": {
            "application/vnd.google.colaboratory.intrinsic+json": {
              "type": "string"
            },
            "text/plain": [
              "\"\\x03.,,],,s,n,:n,;n,,sts,,d,,r,?],,,:e]?rfeessrodeted?freysfda..f.e?,,,thsyrgsesss;ht,,d:n;aooodrseddelysaderfsoofeetegdens,tfoeeneseteerr,ehteygodsstddstfedosleedswrudeeetpsssydtsastdy,ofeets,t:e,esssereolesytooaoeffeodoyf,nts,rtnesh,sssddsdd,:fhrednfeyt:y,,,drrofstefesynsta,rmee,oost roneer hstllebleeewyyhpseytreeyhepseegepeehrtdnedenFFFmpemfoan \\n\\n\\n\\n\\n \\n \\n   \\n [[[   \\n\\n\\n  \\n\\n\\n    \\n      \\n\\n\\n\\n\\n\\n\\n\\n\\n\\n\\n  \\n'\\x02 \\n\\n\\n\\n\\n  \\n\\n   ysh   e  i-e  rgfmtmmmttrCp  enlehmh    s   peeegFFwb eechhhhhehheheerpmnnphhr  Lmslw u       mou    nnnitrasio    S s eAnlennlnnennnunneaennnrnnn'e   rrn  n o   rkkrshhhBslkchwhwwhhvshwhhhmcuhhhhhhvhhshchvhbrrfnvmmchbbvyiisfrSrrrbbbhwrwddpsrilhlllllrhhdshvddmhmrhhil  im rgeeeeefhdhtllb'phhvmthkoslklkhlRrruhmriDoooooooloooofoooo iifouOuff   oannnnaeaiu   nntcsttttpttTcTwtTTttt  tTttTT TttttTttttTttTtc st ptWWttTtttW tW ttWwswtTtgg sTtttlfsddlctullmow th   kmhsls attttheaehT hth dprwrdrpWwWpmtgaaaaaadc calalliaeuuafsssssoblzbFeek  saiaei  eleotfeoea     m eaioueo o  au   yrai oorraeiiieaooi   eeaeaaaAAAAaaaaaeAiuuuiiooia   k orriroiioueeeueouttTtTtTsNtttTtttNhh tnhBd                ScssrcmsiiiilrsccC F Fsmcmwfhhlpnn yrrhwwcbehv Lcnncreeeee    s mOs  poOpr is  eeiieeeoeoeaaOioeoaetu teaaaaaeeodDdge  r p pOeAuuuoufwtpreuaeaooo gawtnkne'iimupglu’uiuemiigewnduuinIrui''etel'eenlu nieooouimiei   o        ne isei enuae n casnashaansioaaauaoaafhnr  rifniii aai                    ea o e      ra aucs'au           u  nnnra eeioroohqshoQoots  tro'totptC hot  hoaMBloopiaiaoaoeoooa     s      n   aoahbartbmhllaalrraaN zuw\""
            ]
          },
          "metadata": {
            "tags": []
          },
          "execution_count": 12
        }
      ]
    },
    {
      "cell_type": "markdown",
      "metadata": {
        "id": "YLpCwgkbSoSH"
      },
      "source": [
        "## Conclusão\n",
        "Os algoritmos delta encoding e move to front são algortimos auxiliares na tarefa de compressão de dados. Ambos os algoritmos transformam os dados de entrada para permitir que outros algoritmos aplicados posteriormente consigam realizar uma melhor compressão dos dados. Para alguns tipos de dados a melhora da compressão pode ser significativa.\n"
      ]
    },
    {
      "cell_type": "code",
      "metadata": {
        "id": "fXcJEbusSoSI"
      },
      "source": [
        ""
      ],
      "execution_count": null,
      "outputs": []
    }
  ]
}